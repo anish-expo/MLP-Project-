{
 "cells": [
  {
   "cell_type": "code",
   "execution_count": 1,
   "id": "58490a4c",
   "metadata": {
    "_cell_guid": "b1076dfc-b9ad-4769-8c92-a6c4dae69d19",
    "_uuid": "8f2839f25d086af736a60e9eeb907d3b93b6e0e5",
    "execution": {
     "iopub.execute_input": "2024-12-08T16:11:42.574341Z",
     "iopub.status.busy": "2024-12-08T16:11:42.573960Z",
     "iopub.status.idle": "2024-12-08T16:11:43.421697Z",
     "shell.execute_reply": "2024-12-08T16:11:43.420541Z"
    },
    "papermill": {
     "duration": 0.873992,
     "end_time": "2024-12-08T16:11:43.423715",
     "exception": false,
     "start_time": "2024-12-08T16:11:42.549723",
     "status": "completed"
    },
    "tags": []
   },
   "outputs": [
    {
     "name": "stdout",
     "output_type": "stream",
     "text": [
      "/kaggle/input/predict-the-success-of-bank-telemarketing/sample_submission.csv\n",
      "/kaggle/input/predict-the-success-of-bank-telemarketing/train.csv\n",
      "/kaggle/input/predict-the-success-of-bank-telemarketing/test.csv\n"
     ]
    }
   ],
   "source": [
    "# This Python 3 environment comes with many helpful analytics libraries installed\n",
    "# It is defined by the kaggle/python Docker image: https://github.com/kaggle/docker-python\n",
    "# For example, here's several helpful packages to load\n",
    "\n",
    "import numpy as np # linear algebra\n",
    "import pandas as pd # data processing, CSV file I/O (e.g. pd.read_csv)\n",
    "\n",
    "# Input data files are available in the read-only \"../input/\" directory\n",
    "# For example, running this (by clicking run or pressing Shift+Enter) will list all files under the input directory\n",
    "\n",
    "import os\n",
    "for dirname, _, filenames in os.walk('/kaggle/input'):\n",
    "    for filename in filenames:\n",
    "        print(os.path.join(dirname, filename))\n",
    "\n",
    "# You can write up to 20GB to the current directory (/kaggle/working/) that gets preserved as output when you create a version using \"Save & Run All\" \n",
    "# You can also write temporary files to /kaggle/temp/, but they won't be saved outside of the current session"
   ]
  },
  {
   "cell_type": "markdown",
   "id": "1614c739",
   "metadata": {
    "papermill": {
     "duration": 0.018952,
     "end_time": "2024-12-08T16:11:43.462366",
     "exception": false,
     "start_time": "2024-12-08T16:11:43.443414",
     "status": "completed"
    },
    "tags": []
   },
   "source": [
    "**Predict the Success of Bank Telemarketing**\n",
    "\n",
    "Project Description:\n",
    "This project aims to predict whether a client will subscribe to a bank's term deposit based on data from direct marketing campaigns."
   ]
  },
  {
   "cell_type": "markdown",
   "id": "25821d1d",
   "metadata": {
    "papermill": {
     "duration": 0.020686,
     "end_time": "2024-12-08T16:11:43.502387",
     "exception": false,
     "start_time": "2024-12-08T16:11:43.481701",
     "status": "completed"
    },
    "tags": []
   },
   "source": [
    "**Dummy model submission**"
   ]
  },
  {
   "cell_type": "code",
   "execution_count": 2,
   "id": "ebc2e851",
   "metadata": {
    "execution": {
     "iopub.execute_input": "2024-12-08T16:11:43.544201Z",
     "iopub.status.busy": "2024-12-08T16:11:43.543341Z",
     "iopub.status.idle": "2024-12-08T16:11:43.547883Z",
     "shell.execute_reply": "2024-12-08T16:11:43.546954Z"
    },
    "papermill": {
     "duration": 0.027168,
     "end_time": "2024-12-08T16:11:43.549758",
     "exception": false,
     "start_time": "2024-12-08T16:11:43.522590",
     "status": "completed"
    },
    "tags": []
   },
   "outputs": [],
   "source": [
    "# df_dummy = pd.read_csv(\"/kaggle/input/predict-the-success-of-bank-telemarketing/train.csv\")\n",
    "# x_dummy = df_dummy.drop('target',axis=1)\n",
    "# y_dummy = df_dummy['target']\n",
    "# from sklearn.dummy import DummyClassifier\n",
    "# DummyModel = DummyClassifier().fit(x_dummy,y_dummy)\n",
    "# x_dummy_test = pd.read_csv(\"/kaggle/input/predict-the-success-of-bank-telemarketing/test.csv\")\n",
    "# y_dummy_pred = DummyModel.predict(x_dummy_test)\n",
    "# submission = pd.DataFrame({\"id\":range(0,x_dummy_test.shape[0]),'target':y_dummy_pred})\n",
    "# submission.to_csv(\"submission.csv\",index = False)"
   ]
  },
  {
   "cell_type": "code",
   "execution_count": 3,
   "id": "6395e719",
   "metadata": {
    "execution": {
     "iopub.execute_input": "2024-12-08T16:11:43.590918Z",
     "iopub.status.busy": "2024-12-08T16:11:43.590501Z",
     "iopub.status.idle": "2024-12-08T16:11:45.398137Z",
     "shell.execute_reply": "2024-12-08T16:11:45.397024Z"
    },
    "papermill": {
     "duration": 1.83089,
     "end_time": "2024-12-08T16:11:45.400488",
     "exception": false,
     "start_time": "2024-12-08T16:11:43.569598",
     "status": "completed"
    },
    "tags": []
   },
   "outputs": [],
   "source": [
    "#IMPORTS\n",
    "from sklearn.pipeline import Pipeline\n",
    "\n",
    "from sklearn.impute import SimpleImputer\n",
    "from sklearn.compose import ColumnTransformer\n",
    "from sklearn.preprocessing import OneHotEncoder, StandardScaler,LabelEncoder\n",
    "from sklearn.model_selection import train_test_split, GridSearchCV, RandomizedSearchCV\n",
    "\n",
    "from sklearn.linear_model import LogisticRegression, Perceptron, RidgeClassifier,SGDClassifier\n",
    "from sklearn.neighbors import KNeighborsClassifier\n",
    "from sklearn.svm import SVC\n",
    "from sklearn.ensemble import RandomForestClassifier,GradientBoostingClassifier\n",
    "from xgboost import XGBClassifier\n",
    "from sklearn.tree import DecisionTreeClassifier\n",
    "\n",
    "\n",
    "from sklearn.metrics import accuracy_score, classification_report, confusion_matrix\n",
    "from sklearn.metrics import f1_score\n",
    "\n"
   ]
  },
  {
   "cell_type": "code",
   "execution_count": 4,
   "id": "6cb91e8b",
   "metadata": {
    "execution": {
     "iopub.execute_input": "2024-12-08T16:11:45.442522Z",
     "iopub.status.busy": "2024-12-08T16:11:45.442013Z",
     "iopub.status.idle": "2024-12-08T16:11:45.614741Z",
     "shell.execute_reply": "2024-12-08T16:11:45.613761Z"
    },
    "papermill": {
     "duration": 0.195878,
     "end_time": "2024-12-08T16:11:45.616921",
     "exception": false,
     "start_time": "2024-12-08T16:11:45.421043",
     "status": "completed"
    },
    "tags": []
   },
   "outputs": [
    {
     "name": "stdout",
     "output_type": "stream",
     "text": [
      "Missing values in the train dataset:\n",
      "last contact date        0\n",
      "age                      0\n",
      "job                    229\n",
      "marital                  0\n",
      "education             1467\n",
      "default                  0\n",
      "balance                  0\n",
      "housing                  0\n",
      "loan                     0\n",
      "contact              10336\n",
      "duration                 0\n",
      "campaign                 0\n",
      "pdays                    0\n",
      "previous                 0\n",
      "poutcome             29451\n",
      "target                   0\n",
      "dtype: int64\n"
     ]
    }
   ],
   "source": [
    "train_dataset =  pd.read_csv(\"/kaggle/input/predict-the-success-of-bank-telemarketing/train.csv\")\n",
    "print(\"Missing values in the train dataset:\")\n",
    "missing_values = train_dataset.isnull().sum()\n",
    "print(missing_values)"
   ]
  },
  {
   "cell_type": "code",
   "execution_count": 5,
   "id": "8db616ce",
   "metadata": {
    "execution": {
     "iopub.execute_input": "2024-12-08T16:11:45.658321Z",
     "iopub.status.busy": "2024-12-08T16:11:45.657514Z",
     "iopub.status.idle": "2024-12-08T16:11:45.706070Z",
     "shell.execute_reply": "2024-12-08T16:11:45.705064Z"
    },
    "papermill": {
     "duration": 0.071697,
     "end_time": "2024-12-08T16:11:45.708381",
     "exception": false,
     "start_time": "2024-12-08T16:11:45.636684",
     "status": "completed"
    },
    "tags": []
   },
   "outputs": [
    {
     "name": "stdout",
     "output_type": "stream",
     "text": [
      "Missing values in the test dataset:\n",
      "last contact date       0\n",
      "age                     0\n",
      "job                    59\n",
      "marital                 0\n",
      "education             390\n",
      "default                 0\n",
      "balance                 0\n",
      "housing                 0\n",
      "loan                    0\n",
      "contact              2684\n",
      "duration                0\n",
      "campaign                0\n",
      "pdays                   0\n",
      "previous                0\n",
      "poutcome             7508\n",
      "dtype: int64\n"
     ]
    }
   ],
   "source": [
    "test_dataset =  pd.read_csv(\"/kaggle/input/predict-the-success-of-bank-telemarketing/test.csv\")\n",
    "\n",
    "print(\"Missing values in the test dataset:\")\n",
    "missing_values = test_dataset.isnull().sum()\n",
    "print(missing_values)"
   ]
  },
  {
   "cell_type": "markdown",
   "id": "9eb3671d",
   "metadata": {
    "papermill": {
     "duration": 0.02007,
     "end_time": "2024-12-08T16:11:45.749374",
     "exception": false,
     "start_time": "2024-12-08T16:11:45.729304",
     "status": "completed"
    },
    "tags": []
   },
   "source": [
    "**EDA on Train Dataset**"
   ]
  },
  {
   "cell_type": "markdown",
   "id": "4f4839fe",
   "metadata": {
    "papermill": {
     "duration": 0.019639,
     "end_time": "2024-12-08T16:11:45.789141",
     "exception": false,
     "start_time": "2024-12-08T16:11:45.769502",
     "status": "completed"
    },
    "tags": []
   },
   "source": [
    "Loading the train dataset"
   ]
  },
  {
   "cell_type": "code",
   "execution_count": 6,
   "id": "3fd157d8",
   "metadata": {
    "execution": {
     "iopub.execute_input": "2024-12-08T16:11:45.831464Z",
     "iopub.status.busy": "2024-12-08T16:11:45.830403Z",
     "iopub.status.idle": "2024-12-08T16:11:45.942256Z",
     "shell.execute_reply": "2024-12-08T16:11:45.941181Z"
    },
    "papermill": {
     "duration": 0.135179,
     "end_time": "2024-12-08T16:11:45.944537",
     "exception": false,
     "start_time": "2024-12-08T16:11:45.809358",
     "status": "completed"
    },
    "tags": []
   },
   "outputs": [
    {
     "data": {
      "text/html": [
       "<div>\n",
       "<style scoped>\n",
       "    .dataframe tbody tr th:only-of-type {\n",
       "        vertical-align: middle;\n",
       "    }\n",
       "\n",
       "    .dataframe tbody tr th {\n",
       "        vertical-align: top;\n",
       "    }\n",
       "\n",
       "    .dataframe thead th {\n",
       "        text-align: right;\n",
       "    }\n",
       "</style>\n",
       "<table border=\"1\" class=\"dataframe\">\n",
       "  <thead>\n",
       "    <tr style=\"text-align: right;\">\n",
       "      <th></th>\n",
       "      <th>last contact date</th>\n",
       "      <th>age</th>\n",
       "      <th>job</th>\n",
       "      <th>marital</th>\n",
       "      <th>education</th>\n",
       "      <th>default</th>\n",
       "      <th>balance</th>\n",
       "      <th>housing</th>\n",
       "      <th>loan</th>\n",
       "      <th>contact</th>\n",
       "      <th>duration</th>\n",
       "      <th>campaign</th>\n",
       "      <th>pdays</th>\n",
       "      <th>previous</th>\n",
       "      <th>poutcome</th>\n",
       "      <th>target</th>\n",
       "    </tr>\n",
       "  </thead>\n",
       "  <tbody>\n",
       "    <tr>\n",
       "      <th>0</th>\n",
       "      <td>2009-04-17</td>\n",
       "      <td>26</td>\n",
       "      <td>blue-collar</td>\n",
       "      <td>married</td>\n",
       "      <td>secondary</td>\n",
       "      <td>no</td>\n",
       "      <td>647</td>\n",
       "      <td>yes</td>\n",
       "      <td>no</td>\n",
       "      <td>cellular</td>\n",
       "      <td>357</td>\n",
       "      <td>2</td>\n",
       "      <td>331</td>\n",
       "      <td>1</td>\n",
       "      <td>other</td>\n",
       "      <td>no</td>\n",
       "    </tr>\n",
       "    <tr>\n",
       "      <th>1</th>\n",
       "      <td>2009-10-11</td>\n",
       "      <td>52</td>\n",
       "      <td>technician</td>\n",
       "      <td>married</td>\n",
       "      <td>secondary</td>\n",
       "      <td>no</td>\n",
       "      <td>553</td>\n",
       "      <td>yes</td>\n",
       "      <td>no</td>\n",
       "      <td>telephone</td>\n",
       "      <td>160</td>\n",
       "      <td>1</td>\n",
       "      <td>-1</td>\n",
       "      <td>0</td>\n",
       "      <td>NaN</td>\n",
       "      <td>no</td>\n",
       "    </tr>\n",
       "    <tr>\n",
       "      <th>2</th>\n",
       "      <td>2010-11-20</td>\n",
       "      <td>44</td>\n",
       "      <td>blue-collar</td>\n",
       "      <td>married</td>\n",
       "      <td>secondary</td>\n",
       "      <td>no</td>\n",
       "      <td>1397</td>\n",
       "      <td>no</td>\n",
       "      <td>no</td>\n",
       "      <td>cellular</td>\n",
       "      <td>326</td>\n",
       "      <td>1</td>\n",
       "      <td>-1</td>\n",
       "      <td>0</td>\n",
       "      <td>NaN</td>\n",
       "      <td>no</td>\n",
       "    </tr>\n",
       "    <tr>\n",
       "      <th>3</th>\n",
       "      <td>2009-09-01</td>\n",
       "      <td>33</td>\n",
       "      <td>admin.</td>\n",
       "      <td>married</td>\n",
       "      <td>secondary</td>\n",
       "      <td>no</td>\n",
       "      <td>394</td>\n",
       "      <td>yes</td>\n",
       "      <td>no</td>\n",
       "      <td>telephone</td>\n",
       "      <td>104</td>\n",
       "      <td>3</td>\n",
       "      <td>-1</td>\n",
       "      <td>0</td>\n",
       "      <td>NaN</td>\n",
       "      <td>no</td>\n",
       "    </tr>\n",
       "    <tr>\n",
       "      <th>4</th>\n",
       "      <td>2008-01-29</td>\n",
       "      <td>31</td>\n",
       "      <td>entrepreneur</td>\n",
       "      <td>single</td>\n",
       "      <td>tertiary</td>\n",
       "      <td>no</td>\n",
       "      <td>137</td>\n",
       "      <td>no</td>\n",
       "      <td>no</td>\n",
       "      <td>cellular</td>\n",
       "      <td>445</td>\n",
       "      <td>2</td>\n",
       "      <td>-1</td>\n",
       "      <td>0</td>\n",
       "      <td>NaN</td>\n",
       "      <td>no</td>\n",
       "    </tr>\n",
       "  </tbody>\n",
       "</table>\n",
       "</div>"
      ],
      "text/plain": [
       "  last contact date  age           job  marital  education default  balance  \\\n",
       "0        2009-04-17   26   blue-collar  married  secondary      no      647   \n",
       "1        2009-10-11   52    technician  married  secondary      no      553   \n",
       "2        2010-11-20   44   blue-collar  married  secondary      no     1397   \n",
       "3        2009-09-01   33        admin.  married  secondary      no      394   \n",
       "4        2008-01-29   31  entrepreneur   single   tertiary      no      137   \n",
       "\n",
       "  housing loan    contact  duration  campaign  pdays  previous poutcome target  \n",
       "0     yes   no   cellular       357         2    331         1    other     no  \n",
       "1     yes   no  telephone       160         1     -1         0      NaN     no  \n",
       "2      no   no   cellular       326         1     -1         0      NaN     no  \n",
       "3     yes   no  telephone       104         3     -1         0      NaN     no  \n",
       "4      no   no   cellular       445         2     -1         0      NaN     no  "
      ]
     },
     "execution_count": 6,
     "metadata": {},
     "output_type": "execute_result"
    }
   ],
   "source": [
    "train_dataset =  pd.read_csv(\"/kaggle/input/predict-the-success-of-bank-telemarketing/train.csv\")\n",
    "\n",
    "train_dataset.head()"
   ]
  },
  {
   "cell_type": "code",
   "execution_count": 7,
   "id": "fac5b1be",
   "metadata": {
    "execution": {
     "iopub.execute_input": "2024-12-08T16:11:45.988075Z",
     "iopub.status.busy": "2024-12-08T16:11:45.987654Z",
     "iopub.status.idle": "2024-12-08T16:11:45.992858Z",
     "shell.execute_reply": "2024-12-08T16:11:45.991905Z"
    },
    "papermill": {
     "duration": 0.029883,
     "end_time": "2024-12-08T16:11:45.994973",
     "exception": false,
     "start_time": "2024-12-08T16:11:45.965090",
     "status": "completed"
    },
    "tags": []
   },
   "outputs": [
    {
     "name": "stdout",
     "output_type": "stream",
     "text": [
      "\n",
      "Training dataset has 39211 rows and 16 columns.\n"
     ]
    }
   ],
   "source": [
    "# Check the shape of the dataset\n",
    "print(f\"\\nTraining dataset has {train_dataset.shape[0]} rows and {train_dataset.shape[1]} columns.\")"
   ]
  },
  {
   "cell_type": "code",
   "execution_count": 8,
   "id": "cc638235",
   "metadata": {
    "execution": {
     "iopub.execute_input": "2024-12-08T16:11:46.037667Z",
     "iopub.status.busy": "2024-12-08T16:11:46.037282Z",
     "iopub.status.idle": "2024-12-08T16:11:46.074112Z",
     "shell.execute_reply": "2024-12-08T16:11:46.073104Z"
    },
    "papermill": {
     "duration": 0.06036,
     "end_time": "2024-12-08T16:11:46.076365",
     "exception": false,
     "start_time": "2024-12-08T16:11:46.016005",
     "status": "completed"
    },
    "tags": []
   },
   "outputs": [
    {
     "data": {
      "text/html": [
       "<div>\n",
       "<style scoped>\n",
       "    .dataframe tbody tr th:only-of-type {\n",
       "        vertical-align: middle;\n",
       "    }\n",
       "\n",
       "    .dataframe tbody tr th {\n",
       "        vertical-align: top;\n",
       "    }\n",
       "\n",
       "    .dataframe thead th {\n",
       "        text-align: right;\n",
       "    }\n",
       "</style>\n",
       "<table border=\"1\" class=\"dataframe\">\n",
       "  <thead>\n",
       "    <tr style=\"text-align: right;\">\n",
       "      <th></th>\n",
       "      <th>age</th>\n",
       "      <th>balance</th>\n",
       "      <th>duration</th>\n",
       "      <th>campaign</th>\n",
       "      <th>pdays</th>\n",
       "      <th>previous</th>\n",
       "    </tr>\n",
       "  </thead>\n",
       "  <tbody>\n",
       "    <tr>\n",
       "      <th>count</th>\n",
       "      <td>39211.000000</td>\n",
       "      <td>39211.000000</td>\n",
       "      <td>39211.000000</td>\n",
       "      <td>39211.000000</td>\n",
       "      <td>39211.000000</td>\n",
       "      <td>39211.000000</td>\n",
       "    </tr>\n",
       "    <tr>\n",
       "      <th>mean</th>\n",
       "      <td>42.120247</td>\n",
       "      <td>5441.781719</td>\n",
       "      <td>439.062789</td>\n",
       "      <td>5.108770</td>\n",
       "      <td>72.256051</td>\n",
       "      <td>11.826171</td>\n",
       "    </tr>\n",
       "    <tr>\n",
       "      <th>std</th>\n",
       "      <td>12.709352</td>\n",
       "      <td>16365.292065</td>\n",
       "      <td>769.096291</td>\n",
       "      <td>9.890153</td>\n",
       "      <td>160.942593</td>\n",
       "      <td>44.140259</td>\n",
       "    </tr>\n",
       "    <tr>\n",
       "      <th>min</th>\n",
       "      <td>18.000000</td>\n",
       "      <td>-8019.000000</td>\n",
       "      <td>0.000000</td>\n",
       "      <td>1.000000</td>\n",
       "      <td>-1.000000</td>\n",
       "      <td>0.000000</td>\n",
       "    </tr>\n",
       "    <tr>\n",
       "      <th>25%</th>\n",
       "      <td>33.000000</td>\n",
       "      <td>98.000000</td>\n",
       "      <td>109.000000</td>\n",
       "      <td>1.000000</td>\n",
       "      <td>-1.000000</td>\n",
       "      <td>0.000000</td>\n",
       "    </tr>\n",
       "    <tr>\n",
       "      <th>50%</th>\n",
       "      <td>40.000000</td>\n",
       "      <td>549.000000</td>\n",
       "      <td>197.000000</td>\n",
       "      <td>2.000000</td>\n",
       "      <td>-1.000000</td>\n",
       "      <td>0.000000</td>\n",
       "    </tr>\n",
       "    <tr>\n",
       "      <th>75%</th>\n",
       "      <td>50.000000</td>\n",
       "      <td>2030.000000</td>\n",
       "      <td>380.000000</td>\n",
       "      <td>4.000000</td>\n",
       "      <td>-1.000000</td>\n",
       "      <td>0.000000</td>\n",
       "    </tr>\n",
       "    <tr>\n",
       "      <th>max</th>\n",
       "      <td>95.000000</td>\n",
       "      <td>102127.000000</td>\n",
       "      <td>4918.000000</td>\n",
       "      <td>63.000000</td>\n",
       "      <td>871.000000</td>\n",
       "      <td>275.000000</td>\n",
       "    </tr>\n",
       "  </tbody>\n",
       "</table>\n",
       "</div>"
      ],
      "text/plain": [
       "                age        balance      duration      campaign         pdays  \\\n",
       "count  39211.000000   39211.000000  39211.000000  39211.000000  39211.000000   \n",
       "mean      42.120247    5441.781719    439.062789      5.108770     72.256051   \n",
       "std       12.709352   16365.292065    769.096291      9.890153    160.942593   \n",
       "min       18.000000   -8019.000000      0.000000      1.000000     -1.000000   \n",
       "25%       33.000000      98.000000    109.000000      1.000000     -1.000000   \n",
       "50%       40.000000     549.000000    197.000000      2.000000     -1.000000   \n",
       "75%       50.000000    2030.000000    380.000000      4.000000     -1.000000   \n",
       "max       95.000000  102127.000000   4918.000000     63.000000    871.000000   \n",
       "\n",
       "           previous  \n",
       "count  39211.000000  \n",
       "mean      11.826171  \n",
       "std       44.140259  \n",
       "min        0.000000  \n",
       "25%        0.000000  \n",
       "50%        0.000000  \n",
       "75%        0.000000  \n",
       "max      275.000000  "
      ]
     },
     "execution_count": 8,
     "metadata": {},
     "output_type": "execute_result"
    }
   ],
   "source": [
    "train_dataset.describe()"
   ]
  },
  {
   "cell_type": "code",
   "execution_count": 9,
   "id": "39f6c967",
   "metadata": {
    "execution": {
     "iopub.execute_input": "2024-12-08T16:11:46.119442Z",
     "iopub.status.busy": "2024-12-08T16:11:46.118401Z",
     "iopub.status.idle": "2024-12-08T16:11:46.157125Z",
     "shell.execute_reply": "2024-12-08T16:11:46.155846Z"
    },
    "papermill": {
     "duration": 0.062316,
     "end_time": "2024-12-08T16:11:46.159312",
     "exception": false,
     "start_time": "2024-12-08T16:11:46.096996",
     "status": "completed"
    },
    "tags": []
   },
   "outputs": [
    {
     "name": "stdout",
     "output_type": "stream",
     "text": [
      "<class 'pandas.core.frame.DataFrame'>\n",
      "RangeIndex: 39211 entries, 0 to 39210\n",
      "Data columns (total 16 columns):\n",
      " #   Column             Non-Null Count  Dtype \n",
      "---  ------             --------------  ----- \n",
      " 0   last contact date  39211 non-null  object\n",
      " 1   age                39211 non-null  int64 \n",
      " 2   job                38982 non-null  object\n",
      " 3   marital            39211 non-null  object\n",
      " 4   education          37744 non-null  object\n",
      " 5   default            39211 non-null  object\n",
      " 6   balance            39211 non-null  int64 \n",
      " 7   housing            39211 non-null  object\n",
      " 8   loan               39211 non-null  object\n",
      " 9   contact            28875 non-null  object\n",
      " 10  duration           39211 non-null  int64 \n",
      " 11  campaign           39211 non-null  int64 \n",
      " 12  pdays              39211 non-null  int64 \n",
      " 13  previous           39211 non-null  int64 \n",
      " 14  poutcome           9760 non-null   object\n",
      " 15  target             39211 non-null  object\n",
      "dtypes: int64(6), object(10)\n",
      "memory usage: 4.8+ MB\n"
     ]
    }
   ],
   "source": [
    "train_dataset.info()"
   ]
  },
  {
   "cell_type": "code",
   "execution_count": 10,
   "id": "5ca5f4ed",
   "metadata": {
    "execution": {
     "iopub.execute_input": "2024-12-08T16:11:46.203015Z",
     "iopub.status.busy": "2024-12-08T16:11:46.202639Z",
     "iopub.status.idle": "2024-12-08T16:11:46.228458Z",
     "shell.execute_reply": "2024-12-08T16:11:46.227461Z"
    },
    "papermill": {
     "duration": 0.049958,
     "end_time": "2024-12-08T16:11:46.230655",
     "exception": false,
     "start_time": "2024-12-08T16:11:46.180697",
     "status": "completed"
    },
    "tags": []
   },
   "outputs": [
    {
     "name": "stdout",
     "output_type": "stream",
     "text": [
      "Missing values in the training dataset:\n",
      "last contact date        0\n",
      "age                      0\n",
      "job                    229\n",
      "marital                  0\n",
      "education             1467\n",
      "default                  0\n",
      "balance                  0\n",
      "housing                  0\n",
      "loan                     0\n",
      "contact              10336\n",
      "duration                 0\n",
      "campaign                 0\n",
      "pdays                    0\n",
      "previous                 0\n",
      "poutcome             29451\n",
      "target                   0\n",
      "dtype: int64\n"
     ]
    }
   ],
   "source": [
    "# Check for missing values\n",
    "print(\"Missing values in the training dataset:\")\n",
    "missing_values = train_dataset.isnull().sum()\n",
    "print(missing_values)"
   ]
  },
  {
   "cell_type": "markdown",
   "id": "56f0708c",
   "metadata": {
    "papermill": {
     "duration": 0.020573,
     "end_time": "2024-12-08T16:11:46.271765",
     "exception": false,
     "start_time": "2024-12-08T16:11:46.251192",
     "status": "completed"
    },
    "tags": []
   },
   "source": [
    "**There is no missing value in target collum so we can't drop any row with missing value**"
   ]
  },
  {
   "cell_type": "markdown",
   "id": "ceb26c81",
   "metadata": {
    "papermill": {
     "duration": 0.020255,
     "end_time": "2024-12-08T16:11:46.313265",
     "exception": false,
     "start_time": "2024-12-08T16:11:46.293010",
     "status": "completed"
    },
    "tags": []
   },
   "source": [
    "**The missing values are present at columns ['job', 'education','contact','poutcome']**  of which **all are categorical value**"
   ]
  },
  {
   "cell_type": "code",
   "execution_count": 11,
   "id": "0dda8677",
   "metadata": {
    "execution": {
     "iopub.execute_input": "2024-12-08T16:11:46.355771Z",
     "iopub.status.busy": "2024-12-08T16:11:46.355398Z",
     "iopub.status.idle": "2024-12-08T16:11:46.361387Z",
     "shell.execute_reply": "2024-12-08T16:11:46.360400Z"
    },
    "papermill": {
     "duration": 0.030501,
     "end_time": "2024-12-08T16:11:46.364136",
     "exception": false,
     "start_time": "2024-12-08T16:11:46.333635",
     "status": "completed"
    },
    "tags": []
   },
   "outputs": [
    {
     "name": "stdout",
     "output_type": "stream",
     "text": [
      "last contact date    object\n",
      "age                   int64\n",
      "job                  object\n",
      "marital              object\n",
      "education            object\n",
      "default              object\n",
      "balance               int64\n",
      "housing              object\n",
      "loan                 object\n",
      "contact              object\n",
      "duration              int64\n",
      "campaign              int64\n",
      "pdays                 int64\n",
      "previous              int64\n",
      "poutcome             object\n",
      "target               object\n",
      "dtype: object\n"
     ]
    }
   ],
   "source": [
    "print(train_dataset.dtypes)"
   ]
  },
  {
   "cell_type": "code",
   "execution_count": 12,
   "id": "c68a9a72",
   "metadata": {
    "execution": {
     "iopub.execute_input": "2024-12-08T16:11:46.409003Z",
     "iopub.status.busy": "2024-12-08T16:11:46.408070Z",
     "iopub.status.idle": "2024-12-08T16:11:46.435419Z",
     "shell.execute_reply": "2024-12-08T16:11:46.434252Z"
    },
    "papermill": {
     "duration": 0.052477,
     "end_time": "2024-12-08T16:11:46.437737",
     "exception": false,
     "start_time": "2024-12-08T16:11:46.385260",
     "status": "completed"
    },
    "tags": []
   },
   "outputs": [
    {
     "name": "stdout",
     "output_type": "stream",
     "text": [
      "Categorical columns in the dataset: ['last contact date', 'job', 'marital', 'education', 'default', 'housing', 'loan', 'contact', 'poutcome', 'target']\n",
      "\n",
      "Unique values in each categorical column:\n",
      "\n",
      "last contact date:\n",
      "['2009-04-17' '2009-10-11' '2010-11-20' ... '2009-07-05' '2008-02-25'\n",
      " '2010-04-12']\n",
      "\n",
      "job:\n",
      "['blue-collar' 'technician' 'admin.' 'entrepreneur' 'unemployed'\n",
      " 'management' 'services' 'student' 'self-employed' 'retired' 'housemaid'\n",
      " nan]\n",
      "\n",
      "marital:\n",
      "['married' 'single' 'divorced']\n",
      "\n",
      "education:\n",
      "['secondary' 'tertiary' 'primary' nan]\n",
      "\n",
      "default:\n",
      "['no' 'yes']\n",
      "\n",
      "housing:\n",
      "['yes' 'no']\n",
      "\n",
      "loan:\n",
      "['no' 'yes']\n",
      "\n",
      "contact:\n",
      "['cellular' 'telephone' nan]\n",
      "\n",
      "poutcome:\n",
      "['other' nan 'failure' 'success']\n",
      "\n",
      "target:\n",
      "['no' 'yes']\n"
     ]
    }
   ],
   "source": [
    "#categorical columns and unique values\n",
    "categorical_cols = train_dataset.select_dtypes(include=['object']).columns\n",
    "\n",
    "print(f\"Categorical columns in the dataset: {list(categorical_cols)}\")\n",
    "\n",
    "\n",
    "print(\"\\nUnique values in each categorical column:\")\n",
    "for col in categorical_cols:\n",
    "    print(f\"\\n{col}:\")\n",
    "    print(train_dataset[col].unique())\n",
    "#     print(train_df[col].value_counts())\n"
   ]
  },
  {
   "cell_type": "markdown",
   "id": "5ed77204",
   "metadata": {
    "papermill": {
     "duration": 0.020848,
     "end_time": "2024-12-08T16:11:46.479590",
     "exception": false,
     "start_time": "2024-12-08T16:11:46.458742",
     "status": "completed"
    },
    "tags": []
   },
   "source": [
    "all missing value shown as **nan**"
   ]
  },
  {
   "cell_type": "code",
   "execution_count": 13,
   "id": "0aba1ccd",
   "metadata": {
    "execution": {
     "iopub.execute_input": "2024-12-08T16:11:46.524649Z",
     "iopub.status.busy": "2024-12-08T16:11:46.523937Z",
     "iopub.status.idle": "2024-12-08T16:11:46.551190Z",
     "shell.execute_reply": "2024-12-08T16:11:46.550001Z"
    },
    "papermill": {
     "duration": 0.053087,
     "end_time": "2024-12-08T16:11:46.553484",
     "exception": false,
     "start_time": "2024-12-08T16:11:46.500397",
     "status": "completed"
    },
    "tags": []
   },
   "outputs": [
    {
     "name": "stdout",
     "output_type": "stream",
     "text": [
      "Numerical columns in the dataset: ['age', 'balance', 'duration', 'campaign', 'pdays', 'previous']\n",
      "\n",
      "Summary statistics for numerical columns:\n",
      "                age        balance      duration      campaign         pdays  \\\n",
      "count  39211.000000   39211.000000  39211.000000  39211.000000  39211.000000   \n",
      "mean      42.120247    5441.781719    439.062789      5.108770     72.256051   \n",
      "std       12.709352   16365.292065    769.096291      9.890153    160.942593   \n",
      "min       18.000000   -8019.000000      0.000000      1.000000     -1.000000   \n",
      "25%       33.000000      98.000000    109.000000      1.000000     -1.000000   \n",
      "50%       40.000000     549.000000    197.000000      2.000000     -1.000000   \n",
      "75%       50.000000    2030.000000    380.000000      4.000000     -1.000000   \n",
      "max       95.000000  102127.000000   4918.000000     63.000000    871.000000   \n",
      "\n",
      "           previous  \n",
      "count  39211.000000  \n",
      "mean      11.826171  \n",
      "std       44.140259  \n",
      "min        0.000000  \n",
      "25%        0.000000  \n",
      "50%        0.000000  \n",
      "75%        0.000000  \n",
      "max      275.000000  \n"
     ]
    }
   ],
   "source": [
    "#  numerical columns\n",
    "numerical_cols = train_dataset.select_dtypes(include=['int64', 'float64']).columns\n",
    "\n",
    "print(f\"Numerical columns in the dataset: {list(numerical_cols)}\")\n",
    "\n",
    "# Summary statistics \n",
    "print(\"\\nSummary statistics for numerical columns:\")\n",
    "print(train_dataset[numerical_cols].describe())\n",
    "\n",
    "\n"
   ]
  },
  {
   "cell_type": "code",
   "execution_count": 14,
   "id": "35a319a6",
   "metadata": {
    "execution": {
     "iopub.execute_input": "2024-12-08T16:11:46.647860Z",
     "iopub.status.busy": "2024-12-08T16:11:46.647473Z",
     "iopub.status.idle": "2024-12-08T16:11:46.663903Z",
     "shell.execute_reply": "2024-12-08T16:11:46.662715Z"
    },
    "papermill": {
     "duration": 0.091416,
     "end_time": "2024-12-08T16:11:46.666042",
     "exception": false,
     "start_time": "2024-12-08T16:11:46.574626",
     "status": "completed"
    },
    "tags": []
   },
   "outputs": [
    {
     "name": "stdout",
     "output_type": "stream",
     "text": [
      "               age   balance  duration  campaign     pdays  previous\n",
      "age       1.000000  0.289150  0.255573  0.269439  0.199507  0.277487\n",
      "balance   0.289150  1.000000  0.669737  0.674339  0.562097  0.716816\n",
      "duration  0.255573  0.669737  1.000000  0.630944  0.527020  0.683951\n",
      "campaign  0.269439  0.674339  0.630944  1.000000  0.519469  0.689211\n",
      "pdays     0.199507  0.562097  0.527020  0.519469  1.000000  0.586175\n",
      "previous  0.277487  0.716816  0.683951  0.689211  0.586175  1.000000\n"
     ]
    }
   ],
   "source": [
    "print(train_dataset[numerical_cols].corr())"
   ]
  },
  {
   "cell_type": "markdown",
   "id": "441c5e62",
   "metadata": {
    "papermill": {
     "duration": 0.020535,
     "end_time": "2024-12-08T16:11:46.707537",
     "exception": false,
     "start_time": "2024-12-08T16:11:46.687002",
     "status": "completed"
    },
    "tags": []
   },
   "source": [
    "* Account balance is strongly correlated with previous contacts and moderately correlated with both campaign and duration. This suggests that clients with higher account balances tend to have longer interactions and more frequent previous contacts.\n",
    "\n",
    "* Duration and previous contacts have a strong positive correlation, indicating that clients with a history of frequent interactions tend to engage in longer conversations during the current campaign.\n",
    "\n",
    "*  campaign is moderately correlated with both balance and duration, suggesting that clients with higher balances and longer interactions in the past are targeted more heavily in the current campaign.\n",
    "\n",
    "* Age shows weak relationships with other features, suggesting that age is not a strong predictor for most of these interactions, though there may be a slight tendency for older clients to have higher balances and longer contact durations."
   ]
  },
  {
   "cell_type": "markdown",
   "id": "4b6dad94",
   "metadata": {
    "papermill": {
     "duration": 0.020662,
     "end_time": "2024-12-08T16:11:46.749055",
     "exception": false,
     "start_time": "2024-12-08T16:11:46.728393",
     "status": "completed"
    },
    "tags": []
   },
   "source": [
    "no column are neglegible"
   ]
  },
  {
   "cell_type": "markdown",
   "id": "9f7d1f74",
   "metadata": {
    "papermill": {
     "duration": 0.020403,
     "end_time": "2024-12-08T16:11:46.790220",
     "exception": false,
     "start_time": "2024-12-08T16:11:46.769817",
     "status": "completed"
    },
    "tags": []
   },
   "source": [
    "**Feature Engineering**"
   ]
  },
  {
   "cell_type": "markdown",
   "id": "60a98abe",
   "metadata": {
    "papermill": {
     "duration": 0.02117,
     "end_time": "2024-12-08T16:11:46.832231",
     "exception": false,
     "start_time": "2024-12-08T16:11:46.811061",
     "status": "completed"
    },
    "tags": []
   },
   "source": [
    "suspecting that 'last contact date' may play a role in prediction so i convert the object in datetime object also separating the dates into year, month, day column"
   ]
  },
  {
   "cell_type": "code",
   "execution_count": 15,
   "id": "0c78265a",
   "metadata": {
    "execution": {
     "iopub.execute_input": "2024-12-08T16:11:46.877281Z",
     "iopub.status.busy": "2024-12-08T16:11:46.876863Z",
     "iopub.status.idle": "2024-12-08T16:11:46.905106Z",
     "shell.execute_reply": "2024-12-08T16:11:46.903952Z"
    },
    "papermill": {
     "duration": 0.05353,
     "end_time": "2024-12-08T16:11:46.907318",
     "exception": false,
     "start_time": "2024-12-08T16:11:46.853788",
     "status": "completed"
    },
    "tags": []
   },
   "outputs": [
    {
     "name": "stdout",
     "output_type": "stream",
     "text": [
      "  last contact date  age           job  marital  education default  balance  \\\n",
      "0        2009-04-17   26   blue-collar  married  secondary      no      647   \n",
      "1        2009-10-11   52    technician  married  secondary      no      553   \n",
      "2        2010-11-20   44   blue-collar  married  secondary      no     1397   \n",
      "3        2009-09-01   33        admin.  married  secondary      no      394   \n",
      "4        2008-01-29   31  entrepreneur   single   tertiary      no      137   \n",
      "\n",
      "  housing loan    contact  duration  campaign  pdays  previous poutcome  \\\n",
      "0     yes   no   cellular       357         2    331         1    other   \n",
      "1     yes   no  telephone       160         1     -1         0      NaN   \n",
      "2      no   no   cellular       326         1     -1         0      NaN   \n",
      "3     yes   no  telephone       104         3     -1         0      NaN   \n",
      "4      no   no   cellular       445         2     -1         0      NaN   \n",
      "\n",
      "  target  year  month  day  \n",
      "0     no  2009      4   17  \n",
      "1     no  2009     10   11  \n",
      "2     no  2010     11   20  \n",
      "3     no  2009      9    1  \n",
      "4     no  2008      1   29  \n"
     ]
    }
   ],
   "source": [
    "\n",
    "train_dataset['last contact date'] = pd.to_datetime(train_dataset['last contact date'], errors='coerce')\n",
    "\n",
    "train_dataset['year'] = train_dataset['last contact date'].dt.year\n",
    "train_dataset['month'] = train_dataset['last contact date'].dt.month\n",
    "train_dataset['day'] = train_dataset['last contact date'].dt.day\n",
    "\n",
    "\n",
    "\n",
    "\n",
    "# # Check the updated DataFrame\n",
    "print(train_dataset.head())\n"
   ]
  },
  {
   "cell_type": "code",
   "execution_count": 16,
   "id": "6874ab8f",
   "metadata": {
    "execution": {
     "iopub.execute_input": "2024-12-08T16:11:46.951133Z",
     "iopub.status.busy": "2024-12-08T16:11:46.950725Z",
     "iopub.status.idle": "2024-12-08T16:11:46.966351Z",
     "shell.execute_reply": "2024-12-08T16:11:46.965370Z"
    },
    "papermill": {
     "duration": 0.040223,
     "end_time": "2024-12-08T16:11:46.968825",
     "exception": false,
     "start_time": "2024-12-08T16:11:46.928602",
     "status": "completed"
    },
    "tags": []
   },
   "outputs": [
    {
     "name": "stdout",
     "output_type": "stream",
     "text": [
      "   age           job  marital  education default  balance housing loan  \\\n",
      "0   26   blue-collar  married  secondary      no      647     yes   no   \n",
      "1   52    technician  married  secondary      no      553     yes   no   \n",
      "2   44   blue-collar  married  secondary      no     1397      no   no   \n",
      "3   33        admin.  married  secondary      no      394     yes   no   \n",
      "4   31  entrepreneur   single   tertiary      no      137      no   no   \n",
      "\n",
      "     contact  duration  campaign  pdays  previous poutcome target  year  \\\n",
      "0   cellular       357         2    331         1    other     no  2009   \n",
      "1  telephone       160         1     -1         0      NaN     no  2009   \n",
      "2   cellular       326         1     -1         0      NaN     no  2010   \n",
      "3  telephone       104         3     -1         0      NaN     no  2009   \n",
      "4   cellular       445         2     -1         0      NaN     no  2008   \n",
      "\n",
      "   month  day  \n",
      "0      4   17  \n",
      "1     10   11  \n",
      "2     11   20  \n",
      "3      9    1  \n",
      "4      1   29  \n"
     ]
    }
   ],
   "source": [
    " # droping last contact date column\n",
    "train_dataset = train_dataset.drop(columns=['last contact date']) \n",
    "print(train_dataset.head())"
   ]
  },
  {
   "cell_type": "code",
   "execution_count": 17,
   "id": "cc38eaf6",
   "metadata": {
    "execution": {
     "iopub.execute_input": "2024-12-08T16:11:47.013344Z",
     "iopub.status.busy": "2024-12-08T16:11:47.012966Z",
     "iopub.status.idle": "2024-12-08T16:11:47.021056Z",
     "shell.execute_reply": "2024-12-08T16:11:47.020188Z"
    },
    "papermill": {
     "duration": 0.032247,
     "end_time": "2024-12-08T16:11:47.023169",
     "exception": false,
     "start_time": "2024-12-08T16:11:46.990922",
     "status": "completed"
    },
    "tags": []
   },
   "outputs": [],
   "source": [
    "#droping target column\n",
    "df_features = train_dataset.drop(columns = ['target'])\n",
    "targetlabel= train_dataset['target']"
   ]
  },
  {
   "cell_type": "code",
   "execution_count": 18,
   "id": "e326ecf1",
   "metadata": {
    "execution": {
     "iopub.execute_input": "2024-12-08T16:11:47.066732Z",
     "iopub.status.busy": "2024-12-08T16:11:47.065941Z",
     "iopub.status.idle": "2024-12-08T16:11:47.072419Z",
     "shell.execute_reply": "2024-12-08T16:11:47.071353Z"
    },
    "papermill": {
     "duration": 0.030681,
     "end_time": "2024-12-08T16:11:47.074843",
     "exception": false,
     "start_time": "2024-12-08T16:11:47.044162",
     "status": "completed"
    },
    "tags": []
   },
   "outputs": [
    {
     "name": "stdout",
     "output_type": "stream",
     "text": [
      "Index(['age', 'job', 'marital', 'education', 'default', 'balance', 'housing',\n",
      "       'loan', 'contact', 'duration', 'campaign', 'pdays', 'previous',\n",
      "       'poutcome', 'year', 'month', 'day'],\n",
      "      dtype='object')\n",
      "0    no\n",
      "1    no\n",
      "2    no\n",
      "3    no\n",
      "4    no\n",
      "Name: target, dtype: object\n"
     ]
    }
   ],
   "source": [
    "print(df_features.columns)\n",
    "print(targetlabel.head())"
   ]
  },
  {
   "cell_type": "code",
   "execution_count": 19,
   "id": "a2dcc1d4",
   "metadata": {
    "execution": {
     "iopub.execute_input": "2024-12-08T16:11:47.121201Z",
     "iopub.status.busy": "2024-12-08T16:11:47.120787Z",
     "iopub.status.idle": "2024-12-08T16:11:47.132536Z",
     "shell.execute_reply": "2024-12-08T16:11:47.131558Z"
    },
    "papermill": {
     "duration": 0.037492,
     "end_time": "2024-12-08T16:11:47.134589",
     "exception": false,
     "start_time": "2024-12-08T16:11:47.097097",
     "status": "completed"
    },
    "tags": []
   },
   "outputs": [
    {
     "name": "stdout",
     "output_type": "stream",
     "text": [
      "<class 'pandas.core.series.Series'>\n",
      "RangeIndex: 39211 entries, 0 to 39210\n",
      "Series name: target\n",
      "Non-Null Count  Dtype \n",
      "--------------  ----- \n",
      "39211 non-null  object\n",
      "dtypes: object(1)\n",
      "memory usage: 306.5+ KB\n"
     ]
    }
   ],
   "source": [
    "targetlabel.info()"
   ]
  },
  {
   "cell_type": "code",
   "execution_count": 20,
   "id": "474cc001",
   "metadata": {
    "execution": {
     "iopub.execute_input": "2024-12-08T16:11:47.178712Z",
     "iopub.status.busy": "2024-12-08T16:11:47.177954Z",
     "iopub.status.idle": "2024-12-08T16:11:47.204064Z",
     "shell.execute_reply": "2024-12-08T16:11:47.203011Z"
    },
    "papermill": {
     "duration": 0.05066,
     "end_time": "2024-12-08T16:11:47.206297",
     "exception": false,
     "start_time": "2024-12-08T16:11:47.155637",
     "status": "completed"
    },
    "tags": []
   },
   "outputs": [
    {
     "name": "stdout",
     "output_type": "stream",
     "text": [
      "<class 'pandas.core.frame.DataFrame'>\n",
      "RangeIndex: 39211 entries, 0 to 39210\n",
      "Data columns (total 17 columns):\n",
      " #   Column     Non-Null Count  Dtype \n",
      "---  ------     --------------  ----- \n",
      " 0   age        39211 non-null  int64 \n",
      " 1   job        38982 non-null  object\n",
      " 2   marital    39211 non-null  object\n",
      " 3   education  37744 non-null  object\n",
      " 4   default    39211 non-null  object\n",
      " 5   balance    39211 non-null  int64 \n",
      " 6   housing    39211 non-null  object\n",
      " 7   loan       39211 non-null  object\n",
      " 8   contact    28875 non-null  object\n",
      " 9   duration   39211 non-null  int64 \n",
      " 10  campaign   39211 non-null  int64 \n",
      " 11  pdays      39211 non-null  int64 \n",
      " 12  previous   39211 non-null  int64 \n",
      " 13  poutcome   9760 non-null   object\n",
      " 14  year       39211 non-null  int32 \n",
      " 15  month      39211 non-null  int32 \n",
      " 16  day        39211 non-null  int32 \n",
      "dtypes: int32(3), int64(6), object(8)\n",
      "memory usage: 4.6+ MB\n",
      "None\n"
     ]
    }
   ],
   "source": [
    "print(df_features.info())"
   ]
  },
  {
   "cell_type": "markdown",
   "id": "ee6f5bac",
   "metadata": {
    "papermill": {
     "duration": 0.024326,
     "end_time": "2024-12-08T16:11:47.252718",
     "exception": false,
     "start_time": "2024-12-08T16:11:47.228392",
     "status": "completed"
    },
    "tags": []
   },
   "source": [
    "**Data preprocessing**"
   ]
  },
  {
   "cell_type": "markdown",
   "id": "0f26d10c",
   "metadata": {
    "papermill": {
     "duration": 0.021355,
     "end_time": "2024-12-08T16:11:47.295774",
     "exception": false,
     "start_time": "2024-12-08T16:11:47.274419",
     "status": "completed"
    },
    "tags": []
   },
   "source": [
    "The missing values are present at columns ['job', 'education','contact','poutcome'] of which all are categorical value.\n",
    "\n",
    "missing value is 'nan'\n"
   ]
  },
  {
   "cell_type": "markdown",
   "id": "521cbd64",
   "metadata": {
    "papermill": {
     "duration": 0.021234,
     "end_time": "2024-12-08T16:11:47.338023",
     "exception": false,
     "start_time": "2024-12-08T16:11:47.316789",
     "status": "completed"
    },
    "tags": []
   },
   "source": [
    "* The imputation process replaces missing values in job, education, contact, and poutcome with their respective most frequent values.\n",
    "* The use of ColumnTransformer ensures that only these specific columns are imputed, and all other columns are left unchanged.\n",
    "* The resulting DataFrame (df_imputed) has the same structure as the original, with missing values in the specified columns replaced."
   ]
  },
  {
   "cell_type": "code",
   "execution_count": 21,
   "id": "196a5662",
   "metadata": {
    "execution": {
     "iopub.execute_input": "2024-12-08T16:11:47.382238Z",
     "iopub.status.busy": "2024-12-08T16:11:47.381449Z",
     "iopub.status.idle": "2024-12-08T16:11:47.421597Z",
     "shell.execute_reply": "2024-12-08T16:11:47.420384Z"
    },
    "papermill": {
     "duration": 0.064366,
     "end_time": "2024-12-08T16:11:47.423620",
     "exception": false,
     "start_time": "2024-12-08T16:11:47.359254",
     "status": "completed"
    },
    "tags": []
   },
   "outputs": [
    {
     "name": "stdout",
     "output_type": "stream",
     "text": [
      "(39211, 17)\n"
     ]
    }
   ],
   "source": [
    "categorical_columns_with_missing = ['job', 'education', 'contact', 'poutcome']\n",
    "\n",
    "\n",
    "ct1 = ColumnTransformer([\n",
    "    ('imputer', SimpleImputer(missing_values=np.nan, strategy='most_frequent'), categorical_columns_with_missing)\n",
    "],\n",
    "    remainder='passthrough',  #column is not listed in  will be left unchanged.\n",
    "    verbose_feature_names_out=False #keeps the original column names.\n",
    ").set_output(transform='pandas')  #output remains a Pandas DataFrame (instead of a NumPy array).\n",
    "\n",
    "\n",
    "df_imputed = ct1.fit_transform(df_features)\n",
    "\n",
    "\n",
    "print(df_imputed.shape)"
   ]
  },
  {
   "cell_type": "code",
   "execution_count": 22,
   "id": "926e5c07",
   "metadata": {
    "execution": {
     "iopub.execute_input": "2024-12-08T16:11:47.468004Z",
     "iopub.status.busy": "2024-12-08T16:11:47.467207Z",
     "iopub.status.idle": "2024-12-08T16:11:47.509485Z",
     "shell.execute_reply": "2024-12-08T16:11:47.508441Z"
    },
    "papermill": {
     "duration": 0.067338,
     "end_time": "2024-12-08T16:11:47.512314",
     "exception": false,
     "start_time": "2024-12-08T16:11:47.444976",
     "status": "completed"
    },
    "tags": []
   },
   "outputs": [
    {
     "name": "stdout",
     "output_type": "stream",
     "text": [
      "Categorical columns in the dataset: ['job', 'education', 'contact', 'poutcome', 'marital', 'default', 'housing', 'loan']\n",
      "\n",
      "Unique values in each categorical column:\n",
      "\n",
      "job:\n",
      "['blue-collar' 'technician' 'admin.' 'entrepreneur' 'unemployed'\n",
      " 'management' 'services' 'student' 'self-employed' 'retired' 'housemaid']\n",
      "\n",
      "education:\n",
      "['secondary' 'tertiary' 'primary']\n",
      "\n",
      "contact:\n",
      "['cellular' 'telephone']\n",
      "\n",
      "poutcome:\n",
      "['other' 'failure' 'success']\n",
      "\n",
      "marital:\n",
      "['married' 'single' 'divorced']\n",
      "\n",
      "default:\n",
      "['no' 'yes']\n",
      "\n",
      "housing:\n",
      "['yes' 'no']\n",
      "\n",
      "loan:\n",
      "['no' 'yes']\n"
     ]
    }
   ],
   "source": [
    "#categorical columns\n",
    "categorical_cols = df_imputed.select_dtypes(include=['object']).columns\n",
    "\n",
    "print(f\"Categorical columns in the dataset: {list(categorical_cols)}\")\n",
    "\n",
    "\n",
    "print(\"\\nUnique values in each categorical column:\")\n",
    "for col in categorical_cols:\n",
    "    print(f\"\\n{col}:\")\n",
    "    print(df_imputed[col].unique())"
   ]
  },
  {
   "cell_type": "code",
   "execution_count": 23,
   "id": "265f9721",
   "metadata": {
    "execution": {
     "iopub.execute_input": "2024-12-08T16:11:47.569591Z",
     "iopub.status.busy": "2024-12-08T16:11:47.569192Z",
     "iopub.status.idle": "2024-12-08T16:11:47.595713Z",
     "shell.execute_reply": "2024-12-08T16:11:47.594301Z"
    },
    "papermill": {
     "duration": 0.052968,
     "end_time": "2024-12-08T16:11:47.597820",
     "exception": false,
     "start_time": "2024-12-08T16:11:47.544852",
     "status": "completed"
    },
    "tags": []
   },
   "outputs": [
    {
     "name": "stdout",
     "output_type": "stream",
     "text": [
      "<class 'pandas.core.frame.DataFrame'>\n",
      "RangeIndex: 39211 entries, 0 to 39210\n",
      "Data columns (total 17 columns):\n",
      " #   Column     Non-Null Count  Dtype \n",
      "---  ------     --------------  ----- \n",
      " 0   job        39211 non-null  object\n",
      " 1   education  39211 non-null  object\n",
      " 2   contact    39211 non-null  object\n",
      " 3   poutcome   39211 non-null  object\n",
      " 4   age        39211 non-null  int64 \n",
      " 5   marital    39211 non-null  object\n",
      " 6   default    39211 non-null  object\n",
      " 7   balance    39211 non-null  int64 \n",
      " 8   housing    39211 non-null  object\n",
      " 9   loan       39211 non-null  object\n",
      " 10  duration   39211 non-null  int64 \n",
      " 11  campaign   39211 non-null  int64 \n",
      " 12  pdays      39211 non-null  int64 \n",
      " 13  previous   39211 non-null  int64 \n",
      " 14  year       39211 non-null  int32 \n",
      " 15  month      39211 non-null  int32 \n",
      " 16  day        39211 non-null  int32 \n",
      "dtypes: int32(3), int64(6), object(8)\n",
      "memory usage: 4.6+ MB\n"
     ]
    }
   ],
   "source": [
    "df_imputed.info()"
   ]
  },
  {
   "cell_type": "markdown",
   "id": "4c145932",
   "metadata": {
    "papermill": {
     "duration": 0.035311,
     "end_time": "2024-12-08T16:11:47.657864",
     "exception": false,
     "start_time": "2024-12-08T16:11:47.622553",
     "status": "completed"
    },
    "tags": []
   },
   "source": [
    "Now no missing value at any columns"
   ]
  },
  {
   "cell_type": "code",
   "execution_count": 24,
   "id": "d4b31d6e",
   "metadata": {
    "execution": {
     "iopub.execute_input": "2024-12-08T16:11:47.741329Z",
     "iopub.status.busy": "2024-12-08T16:11:47.740917Z",
     "iopub.status.idle": "2024-12-08T16:11:48.415876Z",
     "shell.execute_reply": "2024-12-08T16:11:48.414704Z"
    },
    "papermill": {
     "duration": 0.716739,
     "end_time": "2024-12-08T16:11:48.418078",
     "exception": false,
     "start_time": "2024-12-08T16:11:47.701339",
     "status": "completed"
    },
    "tags": []
   },
   "outputs": [
    {
     "name": "stdout",
     "output_type": "stream",
     "text": [
      "Chi-squared Test between job and education:\n",
      "Chi-squared statistic: 20620.1411\n",
      "P-value: 0.0000\n",
      "There's a significant association between job and education\n",
      "\n",
      "Chi-squared Test between job and contact:\n",
      "Chi-squared statistic: 2649.2641\n",
      "P-value: 0.0000\n",
      "There's a significant association between job and contact\n",
      "\n",
      "Chi-squared Test between job and poutcome:\n",
      "Chi-squared statistic: 3590.8803\n",
      "P-value: 0.0000\n",
      "There's a significant association between job and poutcome\n",
      "\n",
      "Chi-squared Test between job and marital:\n",
      "Chi-squared statistic: 2854.0054\n",
      "P-value: 0.0000\n",
      "There's a significant association between job and marital\n",
      "\n",
      "Chi-squared Test between job and default:\n",
      "Chi-squared statistic: 4347.6449\n",
      "P-value: 0.0000\n",
      "There's a significant association between job and default\n",
      "\n",
      "Chi-squared Test between job and housing:\n",
      "Chi-squared statistic: 2452.9233\n",
      "P-value: 0.0000\n",
      "There's a significant association between job and housing\n",
      "\n",
      "Chi-squared Test between job and loan:\n",
      "Chi-squared statistic: 661.6207\n",
      "P-value: 0.0000\n",
      "There's a significant association between job and loan\n",
      "\n",
      "Chi-squared Test between education and job:\n",
      "Chi-squared statistic: 20620.1411\n",
      "P-value: 0.0000\n",
      "There's a significant association between education and job\n",
      "\n",
      "Chi-squared Test between education and contact:\n",
      "Chi-squared statistic: 416.9251\n",
      "P-value: 0.0000\n",
      "There's a significant association between education and contact\n",
      "\n",
      "Chi-squared Test between education and poutcome:\n",
      "Chi-squared statistic: 184.3854\n",
      "P-value: 0.0000\n",
      "There's a significant association between education and poutcome\n",
      "\n",
      "Chi-squared Test between education and marital:\n",
      "Chi-squared statistic: 839.8430\n",
      "P-value: 0.0000\n",
      "There's a significant association between education and marital\n",
      "\n",
      "Chi-squared Test between education and default:\n",
      "Chi-squared statistic: 285.7392\n",
      "P-value: 0.0000\n",
      "There's a significant association between education and default\n",
      "\n",
      "Chi-squared Test between education and housing:\n",
      "Chi-squared statistic: 317.1562\n",
      "P-value: 0.0000\n",
      "There's a significant association between education and housing\n",
      "\n",
      "Chi-squared Test between education and loan:\n",
      "Chi-squared statistic: 30.9573\n",
      "P-value: 0.0000\n",
      "There's a significant association between education and loan\n",
      "\n",
      "Chi-squared Test between contact and job:\n",
      "Chi-squared statistic: 2649.2641\n",
      "P-value: 0.0000\n",
      "There's a significant association between contact and job\n",
      "\n",
      "Chi-squared Test between contact and education:\n",
      "Chi-squared statistic: 416.9251\n",
      "P-value: 0.0000\n",
      "There's a significant association between contact and education\n",
      "\n",
      "Chi-squared Test between contact and poutcome:\n",
      "Chi-squared statistic: 1668.6776\n",
      "P-value: 0.0000\n",
      "There's a significant association between contact and poutcome\n",
      "\n",
      "Chi-squared Test between contact and marital:\n",
      "Chi-squared statistic: 163.0759\n",
      "P-value: 0.0000\n",
      "There's a significant association between contact and marital\n",
      "\n",
      "Chi-squared Test between contact and default:\n",
      "Chi-squared statistic: 1734.1832\n",
      "P-value: 0.0000\n",
      "There's a significant association between contact and default\n",
      "\n",
      "Chi-squared Test between contact and housing:\n",
      "Chi-squared statistic: 201.0092\n",
      "P-value: 0.0000\n",
      "There's a significant association between contact and housing\n",
      "\n",
      "Chi-squared Test between contact and loan:\n",
      "Chi-squared statistic: 268.9887\n",
      "P-value: 0.0000\n",
      "There's a significant association between contact and loan\n",
      "\n",
      "Chi-squared Test between poutcome and job:\n",
      "Chi-squared statistic: 3590.8803\n",
      "P-value: 0.0000\n",
      "There's a significant association between poutcome and job\n",
      "\n",
      "Chi-squared Test between poutcome and education:\n",
      "Chi-squared statistic: 184.3854\n",
      "P-value: 0.0000\n",
      "There's a significant association between poutcome and education\n",
      "\n",
      "Chi-squared Test between poutcome and contact:\n",
      "Chi-squared statistic: 1668.6776\n",
      "P-value: 0.0000\n",
      "There's a significant association between poutcome and contact\n",
      "\n",
      "Chi-squared Test between poutcome and marital:\n",
      "Chi-squared statistic: 470.1816\n",
      "P-value: 0.0000\n",
      "There's a significant association between poutcome and marital\n",
      "\n",
      "Chi-squared Test between poutcome and default:\n",
      "Chi-squared statistic: 3115.5479\n",
      "P-value: 0.0000\n",
      "There's a significant association between poutcome and default\n",
      "\n",
      "Chi-squared Test between poutcome and housing:\n",
      "Chi-squared statistic: 263.0565\n",
      "P-value: 0.0000\n",
      "There's a significant association between poutcome and housing\n",
      "\n",
      "Chi-squared Test between poutcome and loan:\n",
      "Chi-squared statistic: 326.7167\n",
      "P-value: 0.0000\n",
      "There's a significant association between poutcome and loan\n",
      "\n",
      "Chi-squared Test between marital and job:\n",
      "Chi-squared statistic: 2854.0054\n",
      "P-value: 0.0000\n",
      "There's a significant association between marital and job\n",
      "\n",
      "Chi-squared Test between marital and education:\n",
      "Chi-squared statistic: 839.8430\n",
      "P-value: 0.0000\n",
      "There's a significant association between marital and education\n",
      "\n",
      "Chi-squared Test between marital and contact:\n",
      "Chi-squared statistic: 163.0759\n",
      "P-value: 0.0000\n",
      "There's a significant association between marital and contact\n",
      "\n",
      "Chi-squared Test between marital and poutcome:\n",
      "Chi-squared statistic: 470.1816\n",
      "P-value: 0.0000\n",
      "There's a significant association between marital and poutcome\n",
      "\n",
      "Chi-squared Test between marital and default:\n",
      "Chi-squared statistic: 599.3374\n",
      "P-value: 0.0000\n",
      "There's a significant association between marital and default\n",
      "\n",
      "Chi-squared Test between marital and housing:\n",
      "Chi-squared statistic: 20.8634\n",
      "P-value: 0.0000\n",
      "There's a significant association between marital and housing\n",
      "\n",
      "Chi-squared Test between marital and loan:\n",
      "Chi-squared statistic: 159.3346\n",
      "P-value: 0.0000\n",
      "There's a significant association between marital and loan\n",
      "\n",
      "Chi-squared Test between default and job:\n",
      "Chi-squared statistic: 4347.6449\n",
      "P-value: 0.0000\n",
      "There's a significant association between default and job\n",
      "\n",
      "Chi-squared Test between default and education:\n",
      "Chi-squared statistic: 285.7392\n",
      "P-value: 0.0000\n",
      "There's a significant association between default and education\n",
      "\n",
      "Chi-squared Test between default and contact:\n",
      "Chi-squared statistic: 1734.1832\n",
      "P-value: 0.0000\n",
      "There's a significant association between default and contact\n",
      "\n",
      "Chi-squared Test between default and poutcome:\n",
      "Chi-squared statistic: 3115.5479\n",
      "P-value: 0.0000\n",
      "There's a significant association between default and poutcome\n",
      "\n",
      "Chi-squared Test between default and marital:\n",
      "Chi-squared statistic: 599.3374\n",
      "P-value: 0.0000\n",
      "There's a significant association between default and marital\n",
      "\n",
      "Chi-squared Test between default and housing:\n",
      "Chi-squared statistic: 14.4193\n",
      "P-value: 0.0001\n",
      "There's a significant association between default and housing\n",
      "\n",
      "Chi-squared Test between default and loan:\n",
      "Chi-squared statistic: 1294.8281\n",
      "P-value: 0.0000\n",
      "There's a significant association between default and loan\n",
      "\n",
      "Chi-squared Test between housing and job:\n",
      "Chi-squared statistic: 2452.9233\n",
      "P-value: 0.0000\n",
      "There's a significant association between housing and job\n",
      "\n",
      "Chi-squared Test between housing and education:\n",
      "Chi-squared statistic: 317.1562\n",
      "P-value: 0.0000\n",
      "There's a significant association between housing and education\n",
      "\n",
      "Chi-squared Test between housing and contact:\n",
      "Chi-squared statistic: 201.0092\n",
      "P-value: 0.0000\n",
      "There's a significant association between housing and contact\n",
      "\n",
      "Chi-squared Test between housing and poutcome:\n",
      "Chi-squared statistic: 263.0565\n",
      "P-value: 0.0000\n",
      "There's a significant association between housing and poutcome\n",
      "\n",
      "Chi-squared Test between housing and marital:\n",
      "Chi-squared statistic: 20.8634\n",
      "P-value: 0.0000\n",
      "There's a significant association between housing and marital\n",
      "\n",
      "Chi-squared Test between housing and default:\n",
      "Chi-squared statistic: 14.4193\n",
      "P-value: 0.0001\n",
      "There's a significant association between housing and default\n",
      "\n",
      "Chi-squared Test between housing and loan:\n",
      "Chi-squared statistic: 27.0543\n",
      "P-value: 0.0000\n",
      "There's a significant association between housing and loan\n",
      "\n",
      "Chi-squared Test between loan and job:\n",
      "Chi-squared statistic: 661.6207\n",
      "P-value: 0.0000\n",
      "There's a significant association between loan and job\n",
      "\n",
      "Chi-squared Test between loan and education:\n",
      "Chi-squared statistic: 30.9573\n",
      "P-value: 0.0000\n",
      "There's a significant association between loan and education\n",
      "\n",
      "Chi-squared Test between loan and contact:\n",
      "Chi-squared statistic: 268.9887\n",
      "P-value: 0.0000\n",
      "There's a significant association between loan and contact\n",
      "\n",
      "Chi-squared Test between loan and poutcome:\n",
      "Chi-squared statistic: 326.7167\n",
      "P-value: 0.0000\n",
      "There's a significant association between loan and poutcome\n",
      "\n",
      "Chi-squared Test between loan and marital:\n",
      "Chi-squared statistic: 159.3346\n",
      "P-value: 0.0000\n",
      "There's a significant association between loan and marital\n",
      "\n",
      "Chi-squared Test between loan and default:\n",
      "Chi-squared statistic: 1294.8281\n",
      "P-value: 0.0000\n",
      "There's a significant association between loan and default\n",
      "\n",
      "Chi-squared Test between loan and housing:\n",
      "Chi-squared statistic: 27.0543\n",
      "P-value: 0.0000\n",
      "There's a significant association between loan and housing\n",
      "\n"
     ]
    }
   ],
   "source": [
    "from scipy.stats import chi2_contingency\n",
    "categorical_cols = df_imputed.select_dtypes(include=['object']).columns.tolist()\n",
    "\n",
    "for col1 in categorical_cols:\n",
    "    for col2 in categorical_cols:\n",
    "        if col1 != col2:  \n",
    "            contingency_table = pd.crosstab(df_imputed[col1], df_imputed[col2])\n",
    "            \n",
    "            # Perform Chi-squared test\n",
    "            chi2, p, dof, expected = chi2_contingency(contingency_table)\n",
    "          \n",
    "            print(f\"Chi-squared Test between {col1} and {col2}:\")\n",
    "            print(f\"Chi-squared statistic: {chi2:.4f}\")\n",
    "            print(f\"P-value: {p:.4f}\")\n",
    "            \n",
    "            if p < 0.05:\n",
    "                print(f\"There's a significant association between {col1} and {col2}\\n\")\n",
    "            else:\n",
    "                print(f\"There's no significant association between {col1} and {col2}\\n\")"
   ]
  },
  {
   "cell_type": "markdown",
   "id": "7509b76a",
   "metadata": {
    "papermill": {
     "duration": 0.021208,
     "end_time": "2024-12-08T16:11:48.461506",
     "exception": false,
     "start_time": "2024-12-08T16:11:48.440298",
     "status": "completed"
    },
    "tags": []
   },
   "source": [
    "All the pairs of variables  tested  show significant associations, as indicated by the p-values of 0.0000 or values extremely close to zero. This suggests that there is a statistically significant relationship between each pair of variables."
   ]
  },
  {
   "cell_type": "markdown",
   "id": "3e2c2018",
   "metadata": {
    "papermill": {
     "duration": 0.022805,
     "end_time": "2024-12-08T16:11:48.506119",
     "exception": false,
     "start_time": "2024-12-08T16:11:48.483314",
     "status": "completed"
    },
    "tags": []
   },
   "source": [
    "we can't drop any column"
   ]
  },
  {
   "cell_type": "code",
   "execution_count": 25,
   "id": "a02b8cd3",
   "metadata": {
    "execution": {
     "iopub.execute_input": "2024-12-08T16:11:48.553964Z",
     "iopub.status.busy": "2024-12-08T16:11:48.553066Z",
     "iopub.status.idle": "2024-12-08T16:11:48.565245Z",
     "shell.execute_reply": "2024-12-08T16:11:48.564087Z"
    },
    "papermill": {
     "duration": 0.037153,
     "end_time": "2024-12-08T16:11:48.567235",
     "exception": false,
     "start_time": "2024-12-08T16:11:48.530082",
     "status": "completed"
    },
    "tags": []
   },
   "outputs": [
    {
     "name": "stdout",
     "output_type": "stream",
     "text": [
      "Categorical Columns: ['job', 'education', 'contact', 'poutcome', 'marital', 'default', 'housing', 'loan']\n",
      "Numerical Columns: ['age', 'balance', 'duration', 'campaign', 'pdays', 'previous', 'year', 'month', 'day']\n"
     ]
    }
   ],
   "source": [
    "\n",
    "categorical_cols = df_imputed.select_dtypes(include=['object']).columns.tolist()\n",
    "numerical_cols = df_imputed.select_dtypes(include=['int64', 'float64','int32']).columns.tolist()\n",
    "\n",
    "\n",
    "print(\"Categorical Columns:\", categorical_cols)\n",
    "print(\"Numerical Columns:\", numerical_cols)\n"
   ]
  },
  {
   "cell_type": "code",
   "execution_count": 26,
   "id": "e05e7d21",
   "metadata": {
    "execution": {
     "iopub.execute_input": "2024-12-08T16:11:48.613047Z",
     "iopub.status.busy": "2024-12-08T16:11:48.612647Z",
     "iopub.status.idle": "2024-12-08T16:11:48.739770Z",
     "shell.execute_reply": "2024-12-08T16:11:48.738695Z"
    },
    "papermill": {
     "duration": 0.15235,
     "end_time": "2024-12-08T16:11:48.741805",
     "exception": false,
     "start_time": "2024-12-08T16:11:48.589455",
     "status": "completed"
    },
    "tags": []
   },
   "outputs": [
    {
     "data": {
      "text/plain": [
       "(39211, 37)"
      ]
     },
     "execution_count": 26,
     "metadata": {},
     "output_type": "execute_result"
    }
   ],
   "source": [
    "categorical_cols = df_features.select_dtypes(include=['object']).columns.tolist()\n",
    "\n",
    "\n",
    "numerical_cols = df_features.select_dtypes(include=['int64', 'float64', 'int32']).columns.tolist()\n",
    "\n",
    "\n",
    "full_pipeline = Pipeline([\n",
    "    ('encoding_and_scaling', ColumnTransformer([\n",
    "        ('ohe', OneHotEncoder(sparse_output=False), categorical_cols),  # One-hot encode categorical columns\n",
    "        ('stdscl', StandardScaler(), numerical_cols)  # Standardize numerical columns\n",
    "    ], remainder='passthrough', verbose_feature_names_out=False).set_output(transform='pandas'))\n",
    "])\n",
    "\n",
    "\n",
    "df_pre_train = full_pipeline.fit_transform(df_imputed)\n",
    "\n",
    "\n",
    "df_pre_train.shape"
   ]
  },
  {
   "cell_type": "code",
   "execution_count": 27,
   "id": "9c194f32",
   "metadata": {
    "execution": {
     "iopub.execute_input": "2024-12-08T16:11:48.787754Z",
     "iopub.status.busy": "2024-12-08T16:11:48.787362Z",
     "iopub.status.idle": "2024-12-08T16:11:48.792868Z",
     "shell.execute_reply": "2024-12-08T16:11:48.791826Z"
    },
    "papermill": {
     "duration": 0.030708,
     "end_time": "2024-12-08T16:11:48.794925",
     "exception": false,
     "start_time": "2024-12-08T16:11:48.764217",
     "status": "completed"
    },
    "tags": []
   },
   "outputs": [
    {
     "name": "stdout",
     "output_type": "stream",
     "text": [
      "Index(['job_admin.', 'job_blue-collar', 'job_entrepreneur', 'job_housemaid',\n",
      "       'job_management', 'job_retired', 'job_self-employed', 'job_services',\n",
      "       'job_student', 'job_technician', 'job_unemployed', 'marital_divorced',\n",
      "       'marital_married', 'marital_single', 'education_primary',\n",
      "       'education_secondary', 'education_tertiary', 'default_no',\n",
      "       'default_yes', 'housing_no', 'housing_yes', 'loan_no', 'loan_yes',\n",
      "       'contact_cellular', 'contact_telephone', 'poutcome_failure',\n",
      "       'poutcome_other', 'poutcome_success', 'age', 'balance', 'duration',\n",
      "       'campaign', 'pdays', 'previous', 'year', 'month', 'day'],\n",
      "      dtype='object')\n"
     ]
    }
   ],
   "source": [
    "print(df_pre_train.columns)\n"
   ]
  },
  {
   "cell_type": "code",
   "execution_count": 28,
   "id": "4e2222cc",
   "metadata": {
    "execution": {
     "iopub.execute_input": "2024-12-08T16:11:48.840130Z",
     "iopub.status.busy": "2024-12-08T16:11:48.839728Z",
     "iopub.status.idle": "2024-12-08T16:11:48.846139Z",
     "shell.execute_reply": "2024-12-08T16:11:48.845125Z"
    },
    "papermill": {
     "duration": 0.031486,
     "end_time": "2024-12-08T16:11:48.848113",
     "exception": false,
     "start_time": "2024-12-08T16:11:48.816627",
     "status": "completed"
    },
    "tags": []
   },
   "outputs": [
    {
     "data": {
      "text/plain": [
       "(39211, 37)"
      ]
     },
     "execution_count": 28,
     "metadata": {},
     "output_type": "execute_result"
    }
   ],
   "source": [
    "df_pre_train.shape"
   ]
  },
  {
   "cell_type": "code",
   "execution_count": 29,
   "id": "37bbf564",
   "metadata": {
    "execution": {
     "iopub.execute_input": "2024-12-08T16:11:48.894865Z",
     "iopub.status.busy": "2024-12-08T16:11:48.894458Z",
     "iopub.status.idle": "2024-12-08T16:11:48.908999Z",
     "shell.execute_reply": "2024-12-08T16:11:48.907960Z"
    },
    "papermill": {
     "duration": 0.040185,
     "end_time": "2024-12-08T16:11:48.910731",
     "exception": false,
     "start_time": "2024-12-08T16:11:48.870546",
     "status": "completed"
    },
    "tags": []
   },
   "outputs": [
    {
     "data": {
      "text/plain": [
       "(39211,)"
      ]
     },
     "execution_count": 29,
     "metadata": {},
     "output_type": "execute_result"
    }
   ],
   "source": [
    "#encoding targetlabel\n",
    "# print(type(targetlabel))\n",
    "\n",
    "label_encoder = LabelEncoder()\n",
    "\n",
    "target_encoded = label_encoder.fit_transform(targetlabel)\n",
    "target_encoded_train = pd.Series(target_encoded, name=\"target_encoded\")\n",
    "# print(type(target_encoded_train))\n",
    "\n",
    "target_encoded_train.shape"
   ]
  },
  {
   "cell_type": "markdown",
   "id": "0616d4e0",
   "metadata": {
    "papermill": {
     "duration": 0.022583,
     "end_time": "2024-12-08T16:11:48.956241",
     "exception": false,
     "start_time": "2024-12-08T16:11:48.933658",
     "status": "completed"
    },
    "tags": []
   },
   "source": [
    "**Preprocessing test dataset**"
   ]
  },
  {
   "cell_type": "code",
   "execution_count": 30,
   "id": "6ffdce2d",
   "metadata": {
    "execution": {
     "iopub.execute_input": "2024-12-08T16:11:49.004418Z",
     "iopub.status.busy": "2024-12-08T16:11:49.003676Z",
     "iopub.status.idle": "2024-12-08T16:11:49.034428Z",
     "shell.execute_reply": "2024-12-08T16:11:49.033267Z"
    },
    "papermill": {
     "duration": 0.057165,
     "end_time": "2024-12-08T16:11:49.036661",
     "exception": false,
     "start_time": "2024-12-08T16:11:48.979496",
     "status": "completed"
    },
    "tags": []
   },
   "outputs": [
    {
     "name": "stdout",
     "output_type": "stream",
     "text": [
      "Missing values in the test dataset:\n",
      "last contact date       0\n",
      "age                     0\n",
      "job                    59\n",
      "marital                 0\n",
      "education             390\n",
      "default                 0\n",
      "balance                 0\n",
      "housing                 0\n",
      "loan                    0\n",
      "contact              2684\n",
      "duration                0\n",
      "campaign                0\n",
      "pdays                   0\n",
      "previous                0\n",
      "poutcome             7508\n",
      "dtype: int64\n"
     ]
    }
   ],
   "source": [
    "test_dataset =  pd.read_csv(\"/kaggle/input/predict-the-success-of-bank-telemarketing/test.csv\")\n",
    "\n",
    "print(\"Missing values in the test dataset:\")\n",
    "missing_values = test_dataset.isnull().sum()\n",
    "print(missing_values)"
   ]
  },
  {
   "cell_type": "code",
   "execution_count": 31,
   "id": "99c1ba09",
   "metadata": {
    "execution": {
     "iopub.execute_input": "2024-12-08T16:11:49.084094Z",
     "iopub.status.busy": "2024-12-08T16:11:49.083411Z",
     "iopub.status.idle": "2024-12-08T16:11:49.089849Z",
     "shell.execute_reply": "2024-12-08T16:11:49.088975Z"
    },
    "papermill": {
     "duration": 0.032304,
     "end_time": "2024-12-08T16:11:49.091636",
     "exception": false,
     "start_time": "2024-12-08T16:11:49.059332",
     "status": "completed"
    },
    "tags": []
   },
   "outputs": [
    {
     "data": {
      "text/plain": [
       "Index(['last contact date', 'age', 'job', 'marital', 'education', 'default',\n",
       "       'balance', 'housing', 'loan', 'contact', 'duration', 'campaign',\n",
       "       'pdays', 'previous', 'poutcome'],\n",
       "      dtype='object')"
      ]
     },
     "execution_count": 31,
     "metadata": {},
     "output_type": "execute_result"
    }
   ],
   "source": [
    "test_dataset.columns"
   ]
  },
  {
   "cell_type": "code",
   "execution_count": 32,
   "id": "091c8029",
   "metadata": {
    "execution": {
     "iopub.execute_input": "2024-12-08T16:11:49.138756Z",
     "iopub.status.busy": "2024-12-08T16:11:49.137973Z",
     "iopub.status.idle": "2024-12-08T16:11:49.154962Z",
     "shell.execute_reply": "2024-12-08T16:11:49.153687Z"
    },
    "papermill": {
     "duration": 0.042689,
     "end_time": "2024-12-08T16:11:49.157053",
     "exception": false,
     "start_time": "2024-12-08T16:11:49.114364",
     "status": "completed"
    },
    "tags": []
   },
   "outputs": [
    {
     "name": "stdout",
     "output_type": "stream",
     "text": [
      "  last contact date  age          job  marital  education default  balance  \\\n",
      "0        2009-11-21   36   management   single   tertiary      no        7   \n",
      "1        2010-02-04   30   unemployed  married   tertiary      no     1067   \n",
      "2        2010-07-28   32  blue-collar   single  secondary      no       82   \n",
      "3        2010-06-09   38       admin.  married    primary      no     1487   \n",
      "4        2008-03-02   59   management  married   tertiary      no      315   \n",
      "\n",
      "  housing loan   contact  duration  campaign  pdays  previous poutcome  year  \\\n",
      "0      no   no       NaN        20         1     -1         0      NaN  2009   \n",
      "1      no   no  cellular        78         2     -1         0      NaN  2010   \n",
      "2     yes   no  cellular        86         4     -1         0      NaN  2010   \n",
      "3      no   no       NaN       332         2     -1         0      NaN  2010   \n",
      "4      no   no  cellular       591         1    176         2  failure  2008   \n",
      "\n",
      "   month  day  \n",
      "0     11   21  \n",
      "1      2    4  \n",
      "2      7   28  \n",
      "3      6    9  \n",
      "4      3    2  \n"
     ]
    }
   ],
   "source": [
    "test_dataset['last contact date'] = pd.to_datetime(test_dataset['last contact date'], errors='coerce')\n",
    "\n",
    "test_dataset['year'] = test_dataset['last contact date'].dt.year\n",
    "test_dataset['month'] = test_dataset['last contact date'].dt.month\n",
    "test_dataset['day'] = test_dataset['last contact date'].dt.day\n",
    "\n",
    "\n",
    "\n",
    "\n",
    "# # Check the updated DataFrame\n",
    "print(test_dataset.head())\n"
   ]
  },
  {
   "cell_type": "code",
   "execution_count": 33,
   "id": "ccbdc16a",
   "metadata": {
    "execution": {
     "iopub.execute_input": "2024-12-08T16:11:49.205085Z",
     "iopub.status.busy": "2024-12-08T16:11:49.204286Z",
     "iopub.status.idle": "2024-12-08T16:11:49.215661Z",
     "shell.execute_reply": "2024-12-08T16:11:49.214439Z"
    },
    "papermill": {
     "duration": 0.03719,
     "end_time": "2024-12-08T16:11:49.217605",
     "exception": false,
     "start_time": "2024-12-08T16:11:49.180415",
     "status": "completed"
    },
    "tags": []
   },
   "outputs": [
    {
     "name": "stdout",
     "output_type": "stream",
     "text": [
      "   age          job  marital  education default  balance housing loan  \\\n",
      "0   36   management   single   tertiary      no        7      no   no   \n",
      "1   30   unemployed  married   tertiary      no     1067      no   no   \n",
      "2   32  blue-collar   single  secondary      no       82     yes   no   \n",
      "3   38       admin.  married    primary      no     1487      no   no   \n",
      "4   59   management  married   tertiary      no      315      no   no   \n",
      "\n",
      "    contact  duration  campaign  pdays  previous poutcome  year  month  day  \n",
      "0       NaN        20         1     -1         0      NaN  2009     11   21  \n",
      "1  cellular        78         2     -1         0      NaN  2010      2    4  \n",
      "2  cellular        86         4     -1         0      NaN  2010      7   28  \n",
      "3       NaN       332         2     -1         0      NaN  2010      6    9  \n",
      "4  cellular       591         1    176         2  failure  2008      3    2  \n"
     ]
    }
   ],
   "source": [
    "test_dataset = test_dataset.drop(columns=['last contact date'])\n",
    "print(test_dataset.head())"
   ]
  },
  {
   "cell_type": "code",
   "execution_count": 34,
   "id": "8c1f6a04",
   "metadata": {
    "execution": {
     "iopub.execute_input": "2024-12-08T16:11:49.265790Z",
     "iopub.status.busy": "2024-12-08T16:11:49.264878Z",
     "iopub.status.idle": "2024-12-08T16:11:49.271435Z",
     "shell.execute_reply": "2024-12-08T16:11:49.270445Z"
    },
    "papermill": {
     "duration": 0.033168,
     "end_time": "2024-12-08T16:11:49.273574",
     "exception": false,
     "start_time": "2024-12-08T16:11:49.240406",
     "status": "completed"
    },
    "tags": []
   },
   "outputs": [
    {
     "data": {
      "text/plain": [
       "Index(['age', 'job', 'marital', 'education', 'default', 'balance', 'housing',\n",
       "       'loan', 'contact', 'duration', 'campaign', 'pdays', 'previous',\n",
       "       'poutcome', 'year', 'month', 'day'],\n",
       "      dtype='object')"
      ]
     },
     "execution_count": 34,
     "metadata": {},
     "output_type": "execute_result"
    }
   ],
   "source": [
    "test_dataset.columns"
   ]
  },
  {
   "cell_type": "code",
   "execution_count": 35,
   "id": "53267a96",
   "metadata": {
    "execution": {
     "iopub.execute_input": "2024-12-08T16:11:49.321835Z",
     "iopub.status.busy": "2024-12-08T16:11:49.320924Z",
     "iopub.status.idle": "2024-12-08T16:11:49.327157Z",
     "shell.execute_reply": "2024-12-08T16:11:49.326177Z"
    },
    "papermill": {
     "duration": 0.032568,
     "end_time": "2024-12-08T16:11:49.329082",
     "exception": false,
     "start_time": "2024-12-08T16:11:49.296514",
     "status": "completed"
    },
    "tags": []
   },
   "outputs": [
    {
     "data": {
      "text/plain": [
       "(10000, 17)"
      ]
     },
     "execution_count": 35,
     "metadata": {},
     "output_type": "execute_result"
    }
   ],
   "source": [
    "test_dataset.shape"
   ]
  },
  {
   "cell_type": "code",
   "execution_count": 36,
   "id": "53edc67d",
   "metadata": {
    "execution": {
     "iopub.execute_input": "2024-12-08T16:11:49.376832Z",
     "iopub.status.busy": "2024-12-08T16:11:49.376148Z",
     "iopub.status.idle": "2024-12-08T16:11:49.399910Z",
     "shell.execute_reply": "2024-12-08T16:11:49.398910Z"
    },
    "papermill": {
     "duration": 0.049904,
     "end_time": "2024-12-08T16:11:49.402088",
     "exception": false,
     "start_time": "2024-12-08T16:11:49.352184",
     "status": "completed"
    },
    "tags": []
   },
   "outputs": [
    {
     "name": "stdout",
     "output_type": "stream",
     "text": [
      "           job  education   contact poutcome  age  marital default  balance  \\\n",
      "0   management   tertiary  cellular  failure   36   single      no        7   \n",
      "1   unemployed   tertiary  cellular  failure   30  married      no     1067   \n",
      "2  blue-collar  secondary  cellular  failure   32   single      no       82   \n",
      "3       admin.    primary  cellular  failure   38  married      no     1487   \n",
      "4   management   tertiary  cellular  failure   59  married      no      315   \n",
      "\n",
      "  housing loan  duration  campaign  pdays  previous  year  month  day  \n",
      "0      no   no        20         1     -1         0  2009     11   21  \n",
      "1      no   no        78         2     -1         0  2010      2    4  \n",
      "2     yes   no        86         4     -1         0  2010      7   28  \n",
      "3      no   no       332         2     -1         0  2010      6    9  \n",
      "4      no   no       591         1    176         2  2008      3    2  \n"
     ]
    },
    {
     "data": {
      "text/plain": [
       "(10000, 17)"
      ]
     },
     "execution_count": 36,
     "metadata": {},
     "output_type": "execute_result"
    }
   ],
   "source": [
    "\n",
    "test_imputed = ct1.fit_transform(test_dataset)\n",
    "\n",
    "\n",
    "print(test_imputed.head())\n",
    "test_imputed.shape"
   ]
  },
  {
   "cell_type": "code",
   "execution_count": 37,
   "id": "49084825",
   "metadata": {
    "execution": {
     "iopub.execute_input": "2024-12-08T16:11:49.449502Z",
     "iopub.status.busy": "2024-12-08T16:11:49.449153Z",
     "iopub.status.idle": "2024-12-08T16:11:49.460604Z",
     "shell.execute_reply": "2024-12-08T16:11:49.459652Z"
    },
    "papermill": {
     "duration": 0.037459,
     "end_time": "2024-12-08T16:11:49.462526",
     "exception": false,
     "start_time": "2024-12-08T16:11:49.425067",
     "status": "completed"
    },
    "tags": []
   },
   "outputs": [
    {
     "name": "stdout",
     "output_type": "stream",
     "text": [
      "Missing values in the test dataset:\n",
      "job          0\n",
      "education    0\n",
      "contact      0\n",
      "poutcome     0\n",
      "age          0\n",
      "marital      0\n",
      "default      0\n",
      "balance      0\n",
      "housing      0\n",
      "loan         0\n",
      "duration     0\n",
      "campaign     0\n",
      "pdays        0\n",
      "previous     0\n",
      "year         0\n",
      "month        0\n",
      "day          0\n",
      "dtype: int64\n"
     ]
    }
   ],
   "source": [
    "print(\"Missing values in the test dataset:\")\n",
    "missing_values = test_imputed.isnull().sum()\n",
    "print(missing_values)"
   ]
  },
  {
   "cell_type": "code",
   "execution_count": 38,
   "id": "ab0ea060",
   "metadata": {
    "execution": {
     "iopub.execute_input": "2024-12-08T16:11:49.511190Z",
     "iopub.status.busy": "2024-12-08T16:11:49.510534Z",
     "iopub.status.idle": "2024-12-08T16:11:49.566580Z",
     "shell.execute_reply": "2024-12-08T16:11:49.565538Z"
    },
    "papermill": {
     "duration": 0.082665,
     "end_time": "2024-12-08T16:11:49.568599",
     "exception": false,
     "start_time": "2024-12-08T16:11:49.485934",
     "status": "completed"
    },
    "tags": []
   },
   "outputs": [
    {
     "data": {
      "text/html": [
       "<div>\n",
       "<style scoped>\n",
       "    .dataframe tbody tr th:only-of-type {\n",
       "        vertical-align: middle;\n",
       "    }\n",
       "\n",
       "    .dataframe tbody tr th {\n",
       "        vertical-align: top;\n",
       "    }\n",
       "\n",
       "    .dataframe thead th {\n",
       "        text-align: right;\n",
       "    }\n",
       "</style>\n",
       "<table border=\"1\" class=\"dataframe\">\n",
       "  <thead>\n",
       "    <tr style=\"text-align: right;\">\n",
       "      <th></th>\n",
       "      <th>job_admin.</th>\n",
       "      <th>job_blue-collar</th>\n",
       "      <th>job_entrepreneur</th>\n",
       "      <th>job_housemaid</th>\n",
       "      <th>job_management</th>\n",
       "      <th>job_retired</th>\n",
       "      <th>job_self-employed</th>\n",
       "      <th>job_services</th>\n",
       "      <th>job_student</th>\n",
       "      <th>job_technician</th>\n",
       "      <th>...</th>\n",
       "      <th>poutcome_success</th>\n",
       "      <th>age</th>\n",
       "      <th>balance</th>\n",
       "      <th>duration</th>\n",
       "      <th>campaign</th>\n",
       "      <th>pdays</th>\n",
       "      <th>previous</th>\n",
       "      <th>year</th>\n",
       "      <th>month</th>\n",
       "      <th>day</th>\n",
       "    </tr>\n",
       "  </thead>\n",
       "  <tbody>\n",
       "    <tr>\n",
       "      <th>0</th>\n",
       "      <td>0.0</td>\n",
       "      <td>0.0</td>\n",
       "      <td>0.0</td>\n",
       "      <td>0.0</td>\n",
       "      <td>1.0</td>\n",
       "      <td>0.0</td>\n",
       "      <td>0.0</td>\n",
       "      <td>0.0</td>\n",
       "      <td>0.0</td>\n",
       "      <td>0.0</td>\n",
       "      <td>...</td>\n",
       "      <td>0.0</td>\n",
       "      <td>-0.494976</td>\n",
       "      <td>-0.333785</td>\n",
       "      <td>-0.547978</td>\n",
       "      <td>-0.416995</td>\n",
       "      <td>-0.453373</td>\n",
       "      <td>-0.270508</td>\n",
       "      <td>-0.001592</td>\n",
       "      <td>1.814381</td>\n",
       "      <td>0.638344</td>\n",
       "    </tr>\n",
       "    <tr>\n",
       "      <th>1</th>\n",
       "      <td>0.0</td>\n",
       "      <td>0.0</td>\n",
       "      <td>0.0</td>\n",
       "      <td>0.0</td>\n",
       "      <td>0.0</td>\n",
       "      <td>0.0</td>\n",
       "      <td>0.0</td>\n",
       "      <td>0.0</td>\n",
       "      <td>0.0</td>\n",
       "      <td>0.0</td>\n",
       "      <td>...</td>\n",
       "      <td>0.0</td>\n",
       "      <td>-0.969303</td>\n",
       "      <td>-0.267302</td>\n",
       "      <td>-0.471782</td>\n",
       "      <td>-0.316748</td>\n",
       "      <td>-0.453373</td>\n",
       "      <td>-0.270508</td>\n",
       "      <td>1.223307</td>\n",
       "      <td>-1.603104</td>\n",
       "      <td>-1.405395</td>\n",
       "    </tr>\n",
       "    <tr>\n",
       "      <th>2</th>\n",
       "      <td>0.0</td>\n",
       "      <td>1.0</td>\n",
       "      <td>0.0</td>\n",
       "      <td>0.0</td>\n",
       "      <td>0.0</td>\n",
       "      <td>0.0</td>\n",
       "      <td>0.0</td>\n",
       "      <td>0.0</td>\n",
       "      <td>0.0</td>\n",
       "      <td>0.0</td>\n",
       "      <td>...</td>\n",
       "      <td>0.0</td>\n",
       "      <td>-0.811194</td>\n",
       "      <td>-0.329081</td>\n",
       "      <td>-0.461272</td>\n",
       "      <td>-0.116256</td>\n",
       "      <td>-0.453373</td>\n",
       "      <td>-0.270508</td>\n",
       "      <td>1.223307</td>\n",
       "      <td>0.295499</td>\n",
       "      <td>1.479883</td>\n",
       "    </tr>\n",
       "    <tr>\n",
       "      <th>3</th>\n",
       "      <td>1.0</td>\n",
       "      <td>0.0</td>\n",
       "      <td>0.0</td>\n",
       "      <td>0.0</td>\n",
       "      <td>0.0</td>\n",
       "      <td>0.0</td>\n",
       "      <td>0.0</td>\n",
       "      <td>0.0</td>\n",
       "      <td>0.0</td>\n",
       "      <td>0.0</td>\n",
       "      <td>...</td>\n",
       "      <td>0.0</td>\n",
       "      <td>-0.336867</td>\n",
       "      <td>-0.240959</td>\n",
       "      <td>-0.138096</td>\n",
       "      <td>-0.316748</td>\n",
       "      <td>-0.453373</td>\n",
       "      <td>-0.270508</td>\n",
       "      <td>1.223307</td>\n",
       "      <td>-0.084222</td>\n",
       "      <td>-0.804295</td>\n",
       "    </tr>\n",
       "    <tr>\n",
       "      <th>4</th>\n",
       "      <td>0.0</td>\n",
       "      <td>0.0</td>\n",
       "      <td>0.0</td>\n",
       "      <td>0.0</td>\n",
       "      <td>1.0</td>\n",
       "      <td>0.0</td>\n",
       "      <td>0.0</td>\n",
       "      <td>0.0</td>\n",
       "      <td>0.0</td>\n",
       "      <td>0.0</td>\n",
       "      <td>...</td>\n",
       "      <td>0.0</td>\n",
       "      <td>1.323277</td>\n",
       "      <td>-0.314467</td>\n",
       "      <td>0.202159</td>\n",
       "      <td>-0.416995</td>\n",
       "      <td>0.650351</td>\n",
       "      <td>-0.225528</td>\n",
       "      <td>-1.226492</td>\n",
       "      <td>-1.223384</td>\n",
       "      <td>-1.645835</td>\n",
       "    </tr>\n",
       "  </tbody>\n",
       "</table>\n",
       "<p>5 rows × 37 columns</p>\n",
       "</div>"
      ],
      "text/plain": [
       "   job_admin.  job_blue-collar  job_entrepreneur  job_housemaid  \\\n",
       "0         0.0              0.0               0.0            0.0   \n",
       "1         0.0              0.0               0.0            0.0   \n",
       "2         0.0              1.0               0.0            0.0   \n",
       "3         1.0              0.0               0.0            0.0   \n",
       "4         0.0              0.0               0.0            0.0   \n",
       "\n",
       "   job_management  job_retired  job_self-employed  job_services  job_student  \\\n",
       "0             1.0          0.0                0.0           0.0          0.0   \n",
       "1             0.0          0.0                0.0           0.0          0.0   \n",
       "2             0.0          0.0                0.0           0.0          0.0   \n",
       "3             0.0          0.0                0.0           0.0          0.0   \n",
       "4             1.0          0.0                0.0           0.0          0.0   \n",
       "\n",
       "   job_technician  ...  poutcome_success       age   balance  duration  \\\n",
       "0             0.0  ...               0.0 -0.494976 -0.333785 -0.547978   \n",
       "1             0.0  ...               0.0 -0.969303 -0.267302 -0.471782   \n",
       "2             0.0  ...               0.0 -0.811194 -0.329081 -0.461272   \n",
       "3             0.0  ...               0.0 -0.336867 -0.240959 -0.138096   \n",
       "4             0.0  ...               0.0  1.323277 -0.314467  0.202159   \n",
       "\n",
       "   campaign     pdays  previous      year     month       day  \n",
       "0 -0.416995 -0.453373 -0.270508 -0.001592  1.814381  0.638344  \n",
       "1 -0.316748 -0.453373 -0.270508  1.223307 -1.603104 -1.405395  \n",
       "2 -0.116256 -0.453373 -0.270508  1.223307  0.295499  1.479883  \n",
       "3 -0.316748 -0.453373 -0.270508  1.223307 -0.084222 -0.804295  \n",
       "4 -0.416995  0.650351 -0.225528 -1.226492 -1.223384 -1.645835  \n",
       "\n",
       "[5 rows x 37 columns]"
      ]
     },
     "execution_count": 38,
     "metadata": {},
     "output_type": "execute_result"
    }
   ],
   "source": [
    "#encoding and scaling\n",
    "test_pre = full_pipeline.fit_transform(test_imputed)\n",
    "\n",
    "test_pre.head()"
   ]
  },
  {
   "cell_type": "code",
   "execution_count": 39,
   "id": "6abdc46c",
   "metadata": {
    "execution": {
     "iopub.execute_input": "2024-12-08T16:11:49.617262Z",
     "iopub.status.busy": "2024-12-08T16:11:49.616863Z",
     "iopub.status.idle": "2024-12-08T16:11:49.623139Z",
     "shell.execute_reply": "2024-12-08T16:11:49.622133Z"
    },
    "papermill": {
     "duration": 0.032314,
     "end_time": "2024-12-08T16:11:49.624997",
     "exception": false,
     "start_time": "2024-12-08T16:11:49.592683",
     "status": "completed"
    },
    "tags": []
   },
   "outputs": [
    {
     "data": {
      "text/plain": [
       "(10000, 37)"
      ]
     },
     "execution_count": 39,
     "metadata": {},
     "output_type": "execute_result"
    }
   ],
   "source": [
    "test_pre.shape"
   ]
  },
  {
   "cell_type": "markdown",
   "id": "5293e371",
   "metadata": {
    "papermill": {
     "duration": 0.023066,
     "end_time": "2024-12-08T16:11:49.671341",
     "exception": false,
     "start_time": "2024-12-08T16:11:49.648275",
     "status": "completed"
    },
    "tags": []
   },
   "source": [
    "****Now all preprocessing is done \n",
    "the traindataset is \n",
    "                   feattures = df_pre_train,\n",
    "                   target    = target_encoded_train\n",
    "                   \n",
    "             test dataset \n",
    "                  features  = test_pre\n",
    "              \n",
    "              \n",
    " **target label encoded with **\n",
    " \n",
    " label_encoder = LabelEncoder()\n",
    " target_encoded = label_encoder.fit_transform(targetlabel)"
   ]
  },
  {
   "cell_type": "code",
   "execution_count": 40,
   "id": "a6f38a8a",
   "metadata": {
    "execution": {
     "iopub.execute_input": "2024-12-08T16:11:49.719747Z",
     "iopub.status.busy": "2024-12-08T16:11:49.719378Z",
     "iopub.status.idle": "2024-12-08T16:11:49.724643Z",
     "shell.execute_reply": "2024-12-08T16:11:49.723653Z"
    },
    "papermill": {
     "duration": 0.03195,
     "end_time": "2024-12-08T16:11:49.726666",
     "exception": false,
     "start_time": "2024-12-08T16:11:49.694716",
     "status": "completed"
    },
    "tags": []
   },
   "outputs": [
    {
     "name": "stdout",
     "output_type": "stream",
     "text": [
      "(39211, 37)\n",
      "(39211,)\n",
      "(10000, 37)\n"
     ]
    }
   ],
   "source": [
    "print(df_pre_train.shape)\n",
    "print(target_encoded_train.shape)\n",
    "print(test_pre.shape)"
   ]
  },
  {
   "cell_type": "markdown",
   "id": "5e15a943",
   "metadata": {
    "papermill": {
     "duration": 0.023196,
     "end_time": "2024-12-08T16:11:49.773370",
     "exception": false,
     "start_time": "2024-12-08T16:11:49.750174",
     "status": "completed"
    },
    "tags": []
   },
   "source": [
    "Spliting train dataset for training and testing"
   ]
  },
  {
   "cell_type": "code",
   "execution_count": 41,
   "id": "551c746c",
   "metadata": {
    "execution": {
     "iopub.execute_input": "2024-12-08T16:11:49.822709Z",
     "iopub.status.busy": "2024-12-08T16:11:49.821775Z",
     "iopub.status.idle": "2024-12-08T16:11:49.844705Z",
     "shell.execute_reply": "2024-12-08T16:11:49.843688Z"
    },
    "papermill": {
     "duration": 0.049784,
     "end_time": "2024-12-08T16:11:49.846748",
     "exception": false,
     "start_time": "2024-12-08T16:11:49.796964",
     "status": "completed"
    },
    "tags": []
   },
   "outputs": [
    {
     "data": {
      "text/plain": [
       "((31368, 37), (7843, 37), (31368,), (7843,))"
      ]
     },
     "execution_count": 41,
     "metadata": {},
     "output_type": "execute_result"
    }
   ],
   "source": [
    "X_train, X_test, y_train, y_test = train_test_split(df_pre_train, target_encoded_train, test_size=0.2, random_state=42)\n",
    "\n",
    "# Check the shape of the train and test sets\n",
    "X_train.shape, X_test.shape, y_train.shape, y_test.shape"
   ]
  },
  {
   "cell_type": "markdown",
   "id": "fc743b32",
   "metadata": {
    "papermill": {
     "duration": 0.023437,
     "end_time": "2024-12-08T16:11:49.894679",
     "exception": false,
     "start_time": "2024-12-08T16:11:49.871242",
     "status": "completed"
    },
    "tags": []
   },
   "source": [
    "here i am using 80% of data for training"
   ]
  },
  {
   "cell_type": "markdown",
   "id": "b6e1255a",
   "metadata": {
    "papermill": {
     "duration": 0.024899,
     "end_time": "2024-12-08T16:11:49.944255",
     "exception": false,
     "start_time": "2024-12-08T16:11:49.919356",
     "status": "completed"
    },
    "tags": []
   },
   "source": [
    "**Model building**"
   ]
  },
  {
   "cell_type": "code",
   "execution_count": 42,
   "id": "bdb03aa0",
   "metadata": {
    "execution": {
     "iopub.execute_input": "2024-12-08T16:11:49.993788Z",
     "iopub.status.busy": "2024-12-08T16:11:49.993411Z",
     "iopub.status.idle": "2024-12-08T16:11:50.399974Z",
     "shell.execute_reply": "2024-12-08T16:11:50.398691Z"
    },
    "papermill": {
     "duration": 0.436728,
     "end_time": "2024-12-08T16:11:50.404737",
     "exception": false,
     "start_time": "2024-12-08T16:11:49.968009",
     "status": "completed"
    },
    "tags": []
   },
   "outputs": [
    {
     "name": "stdout",
     "output_type": "stream",
     "text": [
      "Accuracy: 0.8552\n",
      "Confusion Matrix:\n",
      "[[6443  202]\n",
      " [ 934  264]]\n",
      "Classification Report:\n",
      "              precision    recall  f1-score   support\n",
      "\n",
      "           0       0.87      0.97      0.92      6645\n",
      "           1       0.57      0.22      0.32      1198\n",
      "\n",
      "    accuracy                           0.86      7843\n",
      "   macro avg       0.72      0.59      0.62      7843\n",
      "weighted avg       0.83      0.86      0.83      7843\n",
      "\n",
      "Macro-average F1 score: 0.6181\n"
     ]
    }
   ],
   "source": [
    "#LogisticRegression\n",
    "\n",
    "model1 = LogisticRegression(max_iter=1000, random_state=42) #maximum number of iterations for the solver to converge to a solution\n",
    "# results are reproducible.\n",
    "\n",
    "model1.fit(X_train, y_train)\n",
    "\n",
    "y1_pred = model1.predict(X_test)\n",
    "\n",
    "\n",
    "accuracy = accuracy_score(y_test, y1_pred)\n",
    "print(f'Accuracy: {accuracy:.4f}')\n",
    "print('Confusion Matrix:')\n",
    "print(confusion_matrix(y_test, y1_pred))\n",
    "print('Classification Report:')\n",
    "print(classification_report(y_test, y1_pred))\n",
    "\n",
    "f1_macro = f1_score(y_test, y1_pred, average='macro')\n",
    "\n",
    "print(f'Macro-average F1 score: {f1_macro:.4f}')"
   ]
  },
  {
   "cell_type": "markdown",
   "id": "7a355015",
   "metadata": {
    "papermill": {
     "duration": 0.023597,
     "end_time": "2024-12-08T16:11:50.495181",
     "exception": false,
     "start_time": "2024-12-08T16:11:50.471584",
     "status": "completed"
    },
    "tags": []
   },
   "source": [
    "**Logistic regression result**\n",
    "* **Confusion Matrix:** The model has more true negatives (class 0 correctly predicted) than true positives (class 1 correctly predicted). There are many false positives and false negatives, which might indicate class imbalance or issues in model performance for class 1.\n",
    "* **Classification Report:**\n",
    "  * The model performs well on class 0 (high precision, recall, and F1-score).\n",
    "  * The model performs poorly on class 1 (low precision, recall, and F1-score).\n",
    "  * Macro-average F1-score: 0.6181, indicating a poor balance between precision and recall.\n"
   ]
  },
  {
   "cell_type": "code",
   "execution_count": 43,
   "id": "ffa7beef",
   "metadata": {
    "execution": {
     "iopub.execute_input": "2024-12-08T16:11:50.547483Z",
     "iopub.status.busy": "2024-12-08T16:11:50.547099Z",
     "iopub.status.idle": "2024-12-08T16:11:50.551692Z",
     "shell.execute_reply": "2024-12-08T16:11:50.550642Z"
    },
    "papermill": {
     "duration": 0.032906,
     "end_time": "2024-12-08T16:11:50.553694",
     "exception": false,
     "start_time": "2024-12-08T16:11:50.520788",
     "status": "completed"
    },
    "tags": []
   },
   "outputs": [],
   "source": [
    "\n",
    "# pred = model1.predict(test_pre)\n",
    "# original_predictions = label_encoder.inverse_transform(pred)\n",
    "\n",
    "# submission = pd.DataFrame({\"id\":range(0,test_pre.shape[0]),'target':original_predictions})\n",
    "# submission.to_csv(\"submission.csv\",index = False)"
   ]
  },
  {
   "cell_type": "markdown",
   "id": "3068e22c",
   "metadata": {
    "papermill": {
     "duration": 0.023691,
     "end_time": "2024-12-08T16:11:50.601345",
     "exception": false,
     "start_time": "2024-12-08T16:11:50.577654",
     "status": "completed"
    },
    "tags": []
   },
   "source": [
    "**LogisticRegression Hyperparameter Tune**"
   ]
  },
  {
   "cell_type": "code",
   "execution_count": 44,
   "id": "de30fb40",
   "metadata": {
    "execution": {
     "iopub.execute_input": "2024-12-08T16:11:50.651421Z",
     "iopub.status.busy": "2024-12-08T16:11:50.651032Z",
     "iopub.status.idle": "2024-12-08T16:12:00.877290Z",
     "shell.execute_reply": "2024-12-08T16:12:00.875852Z"
    },
    "papermill": {
     "duration": 10.254099,
     "end_time": "2024-12-08T16:12:00.879459",
     "exception": false,
     "start_time": "2024-12-08T16:11:50.625360",
     "status": "completed"
    },
    "tags": []
   },
   "outputs": [
    {
     "name": "stdout",
     "output_type": "stream",
     "text": [
      "Fitting 5 folds for each of 30 candidates, totalling 150 fits\n",
      "Best Hyperparameters: {'C': 1, 'max_iter': 100, 'penalty': 'l2', 'solver': 'liblinear'}\n",
      "Best Cross-validation Accuracy: 0.8595\n"
     ]
    }
   ],
   "source": [
    "#hyper parameter tuning for LogisticRegression using GridSearchCV\n",
    "\n",
    "model11 = LogisticRegression(random_state=42)\n",
    "\n",
    "\n",
    "param_grid = {\n",
    "    'C': [0.01, 0.1, 1, 10, 100],  # Regularization strength.Smaller values indicate stronger regularization.\n",
    "    'penalty': ['l2'],  # L2 penalty \n",
    "    'solver': ['liblinear', 'lbfgs'],  # solvers algorithm used to optimize the logistic regression model.\n",
    "    'max_iter': [100, 200, 500],  # maximum number of iterations for the optimization algorithm\n",
    "}\n",
    "\n",
    "# hyperparameter search\n",
    "grid_search11 = GridSearchCV(estimator=model11, param_grid=param_grid, cv=5, scoring='accuracy', verbose=1, n_jobs=-1)\n",
    "\n",
    "# Fitting training data\n",
    "grid_search11.fit(X_train, y_train)\n",
    "\n",
    "\n",
    "best_params = grid_search11.best_params_\n",
    "best_score = grid_search11.best_score_\n",
    "\n",
    "print(f\"Best Hyperparameters: {best_params}\")\n",
    "print(f\"Best Cross-validation Accuracy: {best_score:.4f}\")\n",
    "\n"
   ]
  },
  {
   "cell_type": "code",
   "execution_count": 45,
   "id": "6f8a3f08",
   "metadata": {
    "execution": {
     "iopub.execute_input": "2024-12-08T16:12:00.930773Z",
     "iopub.status.busy": "2024-12-08T16:12:00.930334Z",
     "iopub.status.idle": "2024-12-08T16:12:00.992125Z",
     "shell.execute_reply": "2024-12-08T16:12:00.989917Z"
    },
    "papermill": {
     "duration": 0.091828,
     "end_time": "2024-12-08T16:12:00.996314",
     "exception": false,
     "start_time": "2024-12-08T16:12:00.904486",
     "status": "completed"
    },
    "tags": []
   },
   "outputs": [
    {
     "name": "stdout",
     "output_type": "stream",
     "text": [
      "Accuracy: 0.8552\n",
      "Confusion Matrix:\n",
      "[[6443  202]\n",
      " [ 934  264]]\n",
      "Classification Report:\n",
      "              precision    recall  f1-score   support\n",
      "\n",
      "           0       0.87      0.97      0.92      6645\n",
      "           1       0.57      0.22      0.32      1198\n",
      "\n",
      "    accuracy                           0.86      7843\n",
      "   macro avg       0.72      0.59      0.62      7843\n",
      "weighted avg       0.83      0.86      0.83      7843\n",
      "\n",
      "Macro-average F1 score: 0.6181\n"
     ]
    }
   ],
   "source": [
    "\n",
    "best_model = grid_search11.best_estimator_\n",
    "y11_pred = best_model.predict(X_test)\n",
    "\n",
    "accuracy_best = accuracy_score(y_test, y11_pred)\n",
    "print(f'Accuracy: {accuracy_best:.4f}')\n",
    "print('Confusion Matrix:')\n",
    "print(confusion_matrix(y_test, y11_pred))\n",
    "print('Classification Report:')\n",
    "print(classification_report(y_test, y11_pred))\n",
    "\n",
    "f1_macro = f1_score(y_test, y11_pred, average='macro')\n",
    "\n",
    "print(f'Macro-average F1 score: {f1_macro:.4f}')\n",
    "\n"
   ]
  },
  {
   "cell_type": "markdown",
   "id": "8c278200",
   "metadata": {
    "papermill": {
     "duration": 0.024104,
     "end_time": "2024-12-08T16:12:01.087206",
     "exception": false,
     "start_time": "2024-12-08T16:12:01.063102",
     "status": "completed"
    },
    "tags": []
   },
   "source": [
    "after hyper parameter tuning no improvement on score .\n",
    "* relationships between features and the target are non-linear.\n",
    "* have a class imbalance.\n",
    "\n",
    "so i try class_weight='balanced' for logisticRegression.\n"
   ]
  },
  {
   "cell_type": "code",
   "execution_count": 46,
   "id": "70dbb5f4",
   "metadata": {
    "execution": {
     "iopub.execute_input": "2024-12-08T16:12:01.138461Z",
     "iopub.status.busy": "2024-12-08T16:12:01.138076Z",
     "iopub.status.idle": "2024-12-08T16:12:01.405125Z",
     "shell.execute_reply": "2024-12-08T16:12:01.402949Z"
    },
    "papermill": {
     "duration": 0.29747,
     "end_time": "2024-12-08T16:12:01.408787",
     "exception": false,
     "start_time": "2024-12-08T16:12:01.111317",
     "status": "completed"
    },
    "tags": []
   },
   "outputs": [
    {
     "name": "stdout",
     "output_type": "stream",
     "text": [
      "Accuracy: 0.8221\n",
      "Confusion Matrix:\n",
      "[[5655  990]\n",
      " [ 405  793]]\n",
      "Classification Report:\n",
      "              precision    recall  f1-score   support\n",
      "\n",
      "           0       0.93      0.85      0.89      6645\n",
      "           1       0.44      0.66      0.53      1198\n",
      "\n",
      "    accuracy                           0.82      7843\n",
      "   macro avg       0.69      0.76      0.71      7843\n",
      "weighted avg       0.86      0.82      0.84      7843\n",
      "\n",
      "Macro-average F1 score: 0.7111\n"
     ]
    }
   ],
   "source": [
    "#LogisticRegression with class_weight='balanced'\n",
    "\n",
    "model12 = LogisticRegression(max_iter=1000, random_state=42, class_weight='balanced')\n",
    "\n",
    "model12.fit(X_train, y_train)\n",
    "\n",
    "y12_pred = model12.predict(X_test)\n",
    "\n",
    "\n",
    "accuracy = accuracy_score(y_test, y12_pred)\n",
    "print(f'Accuracy: {accuracy:.4f}')\n",
    "print('Confusion Matrix:')\n",
    "print(confusion_matrix(y_test, y12_pred))\n",
    "print('Classification Report:')\n",
    "print(classification_report(y_test, y12_pred))\n",
    "\n",
    "f1_macro = f1_score(y_test, y12_pred, average='macro')\n",
    "print(f'Macro-average F1 score: {f1_macro:.4f}')\n"
   ]
  },
  {
   "cell_type": "markdown",
   "id": "af2c4eef",
   "metadata": {
    "papermill": {
     "duration": 0.023887,
     "end_time": "2024-12-08T16:12:01.498749",
     "exception": false,
     "start_time": "2024-12-08T16:12:01.474862",
     "status": "completed"
    },
    "tags": []
   },
   "source": [
    "* Accuracy: 0.8221 , Decreases, but more balanced.\n",
    "* F1 Score (Macro): 0.7111.\n",
    "* The recall for class 1 increased from 0.22 to 0.66, which is a huge improvement.\n",
    "* f1-score Improves for the minority class\n",
    "\n",
    "here this model12 shows good balance between precision and recall for the positive class (1), but the recall for the negative class (0) was quite high, indicating potential over-prediction of the negative class."
   ]
  },
  {
   "cell_type": "code",
   "execution_count": 47,
   "id": "423b7398",
   "metadata": {
    "execution": {
     "iopub.execute_input": "2024-12-08T16:12:01.548537Z",
     "iopub.status.busy": "2024-12-08T16:12:01.548166Z",
     "iopub.status.idle": "2024-12-08T16:12:10.322670Z",
     "shell.execute_reply": "2024-12-08T16:12:10.321193Z"
    },
    "papermill": {
     "duration": 8.803888,
     "end_time": "2024-12-08T16:12:10.326646",
     "exception": false,
     "start_time": "2024-12-08T16:12:01.522758",
     "status": "completed"
    },
    "tags": []
   },
   "outputs": [
    {
     "name": "stdout",
     "output_type": "stream",
     "text": [
      "Fitting 5 folds for each of 30 candidates, totalling 150 fits\n",
      "Best Hyperparameters: {'logreg__C': 0.01, 'logreg__max_iter': 100, 'logreg__penalty': 'l2', 'logreg__solver': 'liblinear'}\n",
      "Best Cross-validation Accuracy: 0.7179\n",
      "Accuracy: 0.8237\n",
      "Confusion Matrix:\n",
      "[[5663  982]\n",
      " [ 401  797]]\n",
      "Classification Report:\n",
      "              precision    recall  f1-score   support\n",
      "\n",
      "           0       0.93      0.85      0.89      6645\n",
      "           1       0.45      0.67      0.54      1198\n",
      "\n",
      "    accuracy                           0.82      7843\n",
      "   macro avg       0.69      0.76      0.71      7843\n",
      "weighted avg       0.86      0.82      0.84      7843\n",
      "\n",
      "Macro-average F1 score: 0.7133\n"
     ]
    }
   ],
   "source": [
    "pipeline_lr = Pipeline([\n",
    "    ('logreg', LogisticRegression(class_weight='balanced', random_state=42)) \n",
    "])\n",
    "\n",
    "param_grid_lr = {\n",
    "    'logreg__C': [0.01, 0.1, 1, 10, 100],  # Regularization strength\n",
    "    'logreg__penalty': ['l2'],  # L2 penalty   to avoid overfitting\n",
    "    'logreg__solver': ['liblinear', 'lbfgs'],  # Solvers\n",
    "    'logreg__max_iter': [100, 200, 500],  # Max iterations\n",
    "}\n",
    "\n",
    "\n",
    "grid_search_lr = GridSearchCV(estimator=pipeline_lr, param_grid=param_grid_lr, cv=5, scoring='f1_macro', verbose=1, n_jobs=-1)\n",
    "\n",
    "\n",
    "grid_search_lr.fit(X_train, y_train)\n",
    "\n",
    "\n",
    "best_params_lr = grid_search_lr.best_params_\n",
    "best_score_lr = grid_search_lr.best_score_\n",
    "\n",
    "print(f\"Best Hyperparameters: {best_params_lr}\")\n",
    "print(f\"Best Cross-validation Accuracy: {best_score_lr:.4f}\")\n",
    "\n",
    "\n",
    "best_model_lr = grid_search_lr.best_estimator_\n",
    "\n",
    "\n",
    "y13_pred = best_model_lr.predict(X_test)\n",
    "\n",
    "\n",
    "accuracy_best_lr = accuracy_score(y_test, y13_pred)\n",
    "print(f'Accuracy: {accuracy_best_lr:.4f}')\n",
    "print('Confusion Matrix:')\n",
    "print(confusion_matrix(y_test, y13_pred))\n",
    "print('Classification Report:')\n",
    "print(classification_report(y_test, y13_pred))\n",
    "\n",
    "# Calculate F1 score (macro)\n",
    "f1_macro_best_lr = f1_score(y_test, y13_pred, average='macro')\n",
    "print(f'Macro-average F1 score: {f1_macro_best_lr:.4f}')"
   ]
  },
  {
   "cell_type": "markdown",
   "id": "ec27c022",
   "metadata": {
    "papermill": {
     "duration": 0.023642,
     "end_time": "2024-12-08T16:12:10.414782",
     "exception": false,
     "start_time": "2024-12-08T16:12:10.391140",
     "status": "completed"
    },
    "tags": []
   },
   "source": [
    "* Accuracy: 0.8237 (slightly improved from the initial model) improved (82.21% to 82.37%)\n",
    "* Recall for class 1 improved (0.66 to 0.67)\n",
    "* Macro-average F1 score: 0.7133 ( better than before also clear the cutoff) improved (0.7111 to 0.7133)\n",
    "*  negative class (0), with a high precision and recall for it.\n"
   ]
  },
  {
   "cell_type": "code",
   "execution_count": 48,
   "id": "b2da529f",
   "metadata": {
    "execution": {
     "iopub.execute_input": "2024-12-08T16:12:10.465482Z",
     "iopub.status.busy": "2024-12-08T16:12:10.464557Z",
     "iopub.status.idle": "2024-12-08T16:12:10.517800Z",
     "shell.execute_reply": "2024-12-08T16:12:10.515455Z"
    },
    "papermill": {
     "duration": 0.084244,
     "end_time": "2024-12-08T16:12:10.523407",
     "exception": false,
     "start_time": "2024-12-08T16:12:10.439163",
     "status": "completed"
    },
    "tags": []
   },
   "outputs": [],
   "source": [
    "pred = best_model_lr.predict(test_pre)\n",
    "original_predictions = label_encoder.inverse_transform(pred)\n",
    "\n",
    "submission = pd.DataFrame({\"id\":range(0,test_pre.shape[0]),'target':original_predictions})\n",
    "submission.to_csv(\"submission.csv\",index = False)"
   ]
  },
  {
   "cell_type": "markdown",
   "id": "0acd8073",
   "metadata": {
    "papermill": {
     "duration": 0.023919,
     "end_time": "2024-12-08T16:12:10.634120",
     "exception": false,
     "start_time": "2024-12-08T16:12:10.610201",
     "status": "completed"
    },
    "tags": []
   },
   "source": [
    " increasing the C range (like 0.001, 0.005)"
   ]
  },
  {
   "cell_type": "code",
   "execution_count": 49,
   "id": "da660874",
   "metadata": {
    "execution": {
     "iopub.execute_input": "2024-12-08T16:12:10.685090Z",
     "iopub.status.busy": "2024-12-08T16:12:10.684191Z",
     "iopub.status.idle": "2024-12-08T16:12:16.405741Z",
     "shell.execute_reply": "2024-12-08T16:12:16.401630Z"
    },
    "papermill": {
     "duration": 5.751241,
     "end_time": "2024-12-08T16:12:16.409810",
     "exception": false,
     "start_time": "2024-12-08T16:12:10.658569",
     "status": "completed"
    },
    "tags": []
   },
   "outputs": [
    {
     "name": "stdout",
     "output_type": "stream",
     "text": [
      "Fitting 5 folds for each of 20 candidates, totalling 100 fits\n",
      "Best Hyperparameters: {'logreg__solver': 'liblinear', 'logreg__penalty': 'l2', 'logreg__max_iter': 100, 'logreg__C': 0.001}\n",
      "Best Cross-validation Accuracy: 0.7218\n",
      "Accuracy: 0.8307\n",
      "Confusion Matrix:\n",
      "[[5753  892]\n",
      " [ 436  762]]\n",
      "Classification Report:\n",
      "              precision    recall  f1-score   support\n",
      "\n",
      "           0       0.93      0.87      0.90      6645\n",
      "           1       0.46      0.64      0.53      1198\n",
      "\n",
      "    accuracy                           0.83      7843\n",
      "   macro avg       0.70      0.75      0.72      7843\n",
      "weighted avg       0.86      0.83      0.84      7843\n",
      "\n",
      "Macro-average F1 score: 0.7154\n"
     ]
    }
   ],
   "source": [
    "pipeline_lr2 = Pipeline([\n",
    "    ('logreg', LogisticRegression(class_weight='balanced', random_state=42)) \n",
    "])\n",
    "\n",
    "param_distributions_lr = {\n",
    "    'logreg__C': [0.001, 0.005, 0.1, 10, 100],  # Regularization strength\n",
    "    'logreg__penalty': ['l2'],  # L2 penalty\n",
    "    'logreg__solver': ['liblinear', 'lbfgs'],  # Solvers\n",
    "    'logreg__max_iter': [100, 200, 500],  # Max iterations\n",
    "}\n",
    "\n",
    "\n",
    "random_search_lr = RandomizedSearchCV(\n",
    "    estimator=pipeline_lr,\n",
    "    param_distributions=param_distributions_lr,\n",
    "    n_iter=20,  # Number of random parameter combinations\n",
    "    cv=5,  \n",
    "    scoring='f1_macro',\n",
    "    verbose=1,\n",
    "    random_state=42,#displays a progress bar with training and validation metrics\n",
    "    n_jobs=-1\n",
    ")\n",
    "\n",
    "\n",
    "random_search_lr.fit(X_train, y_train)\n",
    "\n",
    "\n",
    "best_params_lr = random_search_lr.best_params_\n",
    "best_score_lr = random_search_lr.best_score_\n",
    "\n",
    "print(f\"Best Hyperparameters: {best_params_lr}\")\n",
    "print(f\"Best Cross-validation Accuracy: {best_score_lr:.4f}\")\n",
    "\n",
    "\n",
    "best_model_lr2 = random_search_lr.best_estimator_\n",
    "y14_pred = best_model_lr2.predict(X_test)\n",
    "\n",
    "accuracy_best_lr = accuracy_score(y_test, y14_pred)\n",
    "print(f'Accuracy: {accuracy_best_lr:.4f}')\n",
    "print('Confusion Matrix:')\n",
    "print(confusion_matrix(y_test, y14_pred))\n",
    "print('Classification Report:')\n",
    "print(classification_report(y_test, y14_pred))\n",
    "\n",
    "# Calculate F1 score (macro)\n",
    "f1_macro_best_lr = f1_score(y_test, y14_pred, average='macro')\n",
    "print(f'Macro-average F1 score: {f1_macro_best_lr:.4f}')"
   ]
  },
  {
   "cell_type": "markdown",
   "id": "6d7f8626",
   "metadata": {
    "papermill": {
     "duration": 0.024362,
     "end_time": "2024-12-08T16:12:16.499131",
     "exception": false,
     "start_time": "2024-12-08T16:12:16.474769",
     "status": "completed"
    },
    "tags": []
   },
   "source": [
    "* Macro-average F1 score:  0.7154,  improved "
   ]
  },
  {
   "cell_type": "markdown",
   "id": "bc6f6778",
   "metadata": {
    "papermill": {
     "duration": 0.024168,
     "end_time": "2024-12-08T16:12:16.547289",
     "exception": false,
     "start_time": "2024-12-08T16:12:16.523121",
     "status": "completed"
    },
    "tags": []
   },
   "source": [
    "both methods found the same optimal hyperparameters and resulted in nearly identical performance metrics\n",
    "RandomizedSearchCV is the preferred choice here due to its computational efficiency \n",
    "(100 fits vs. 150 fits).\n",
    " it requires less time and resources to search for the optimal hyperparameters"
   ]
  },
  {
   "cell_type": "code",
   "execution_count": 50,
   "id": "ee55ec3f",
   "metadata": {
    "execution": {
     "iopub.execute_input": "2024-12-08T16:12:16.597469Z",
     "iopub.status.busy": "2024-12-08T16:12:16.597081Z",
     "iopub.status.idle": "2024-12-08T16:12:16.630875Z",
     "shell.execute_reply": "2024-12-08T16:12:16.629436Z"
    },
    "papermill": {
     "duration": 0.063169,
     "end_time": "2024-12-08T16:12:16.634640",
     "exception": false,
     "start_time": "2024-12-08T16:12:16.571471",
     "status": "completed"
    },
    "tags": []
   },
   "outputs": [],
   "source": [
    "pred = best_model_lr2.predict(test_pre)\n",
    "original_predictions = label_encoder.inverse_transform(pred)\n",
    "\n",
    "submission = pd.DataFrame({\"id\":range(0,test_pre.shape[0]),'target':original_predictions})\n",
    "submission.to_csv(\"submission.csv\",index = False)"
   ]
  },
  {
   "cell_type": "markdown",
   "id": "20f86721",
   "metadata": {
    "papermill": {
     "duration": 0.03503,
     "end_time": "2024-12-08T16:12:16.743638",
     "exception": false,
     "start_time": "2024-12-08T16:12:16.708608",
     "status": "completed"
    },
    "tags": []
   },
   "source": [
    "**Perceptron**"
   ]
  },
  {
   "cell_type": "code",
   "execution_count": 51,
   "id": "b17fac25",
   "metadata": {
    "execution": {
     "iopub.execute_input": "2024-12-08T16:12:16.793258Z",
     "iopub.status.busy": "2024-12-08T16:12:16.792829Z",
     "iopub.status.idle": "2024-12-08T16:12:16.921097Z",
     "shell.execute_reply": "2024-12-08T16:12:16.919115Z"
    },
    "papermill": {
     "duration": 0.157961,
     "end_time": "2024-12-08T16:12:16.925357",
     "exception": false,
     "start_time": "2024-12-08T16:12:16.767396",
     "status": "completed"
    },
    "tags": []
   },
   "outputs": [
    {
     "name": "stdout",
     "output_type": "stream",
     "text": [
      "Accuracy: 0.6209\n",
      "Confusion Matrix:\n",
      "[[4044 2601]\n",
      " [ 372  826]]\n",
      "Classification Report:\n",
      "              precision    recall  f1-score   support\n",
      "\n",
      "           0       0.92      0.61      0.73      6645\n",
      "           1       0.24      0.69      0.36      1198\n",
      "\n",
      "    accuracy                           0.62      7843\n",
      "   macro avg       0.58      0.65      0.54      7843\n",
      "weighted avg       0.81      0.62      0.67      7843\n",
      "\n",
      "Macro-average F1 score: 0.5442\n"
     ]
    }
   ],
   "source": [
    "model_perceptron = Perceptron(random_state=42, class_weight='balanced')\n",
    "\n",
    "model_perceptron.fit(X_train, y_train)\n",
    "\n",
    "y_pred_perceptron = model_perceptron.predict(X_test)\n",
    "\n",
    "\n",
    "accuracy_perceptron = accuracy_score(y_test, y_pred_perceptron)\n",
    "print(f'Accuracy: {accuracy_perceptron:.4f}')\n",
    "\n",
    "\n",
    "print('Confusion Matrix:')\n",
    "print(confusion_matrix(y_test, y_pred_perceptron))\n",
    "\n",
    "\n",
    "print('Classification Report:')\n",
    "print(classification_report(y_test, y_pred_perceptron))\n",
    "\n",
    "\n",
    "f1_macro_perceptron = f1_score(y_test, y_pred_perceptron, average='macro')\n",
    "print(f'Macro-average F1 score: {f1_macro_perceptron:.4f}')"
   ]
  },
  {
   "cell_type": "markdown",
   "id": "f92aabb2",
   "metadata": {
    "papermill": {
     "duration": 0.024561,
     "end_time": "2024-12-08T16:12:17.014576",
     "exception": false,
     "start_time": "2024-12-08T16:12:16.990015",
     "status": "completed"
    },
    "tags": []
   },
   "source": [
    "* Accuracy (62.09%): Relatively low compared to previous models like Logistic Regression (which achieved 83%). This suggests that the model may be struggling to generalize.\n",
    "* Precision for Class 1 (0.24): Indicates that only 24% of the predicted \"1s\" are correct. There are many false positives.\n",
    "*  identifying the majority class (0) but struggles with the minority class (1).\n",
    "* for 0 ,F1-score: 73% - Balanced measure of precision and recall.\n",
    "* for 1, F1-score: 36% - Indicates the model is weak in handling the minority class.\n",
    "\n",
    "  \n",
    "Perceptron is a linear classifier and is sensitive to imbalanced datasets, making it less capable of capturing complex decision boundaries or minority class patterns in imbalanced data."
   ]
  },
  {
   "cell_type": "code",
   "execution_count": 52,
   "id": "3560ebdf",
   "metadata": {
    "execution": {
     "iopub.execute_input": "2024-12-08T16:12:17.065364Z",
     "iopub.status.busy": "2024-12-08T16:12:17.064988Z",
     "iopub.status.idle": "2024-12-08T16:12:21.097077Z",
     "shell.execute_reply": "2024-12-08T16:12:21.095195Z"
    },
    "papermill": {
     "duration": 4.062368,
     "end_time": "2024-12-08T16:12:21.101697",
     "exception": false,
     "start_time": "2024-12-08T16:12:17.039329",
     "status": "completed"
    },
    "tags": []
   },
   "outputs": [
    {
     "name": "stdout",
     "output_type": "stream",
     "text": [
      "Fitting 5 folds for each of 20 candidates, totalling 100 fits\n",
      "Best Hyperparameters: {'perceptron__penalty': 'l2', 'perceptron__max_iter': 500, 'perceptron__fit_intercept': True, 'perceptron__eta0': 0.01, 'perceptron__alpha': 0.001}\n",
      "Best Cross-validation Accuracy: 0.8051\n",
      "Accuracy: 0.7037\n",
      "Confusion Matrix:\n",
      "[[4850 1795]\n",
      " [ 529  669]]\n",
      "Classification Report:\n",
      "              precision    recall  f1-score   support\n",
      "\n",
      "           0       0.90      0.73      0.81      6645\n",
      "           1       0.27      0.56      0.37      1198\n",
      "\n",
      "    accuracy                           0.70      7843\n",
      "   macro avg       0.59      0.64      0.59      7843\n",
      "weighted avg       0.81      0.70      0.74      7843\n",
      "\n",
      "Macro-average F1 score: 0.5860\n"
     ]
    }
   ],
   "source": [
    "# #hyper parameter tuning for Perceptron using RandomizedSearchCV\n",
    "pipeline_perceptron = Pipeline([\n",
    "    ('perceptron', Perceptron(random_state=42, class_weight='balanced'))\n",
    "])\n",
    "param_grid_perceptron = {\n",
    "    'perceptron__penalty': [None, 'l2', 'l1', 'elasticnet'],  # Regularization\n",
    "    'perceptron__alpha': [0.0001, 0.001, 0.01, 0.1],         # Learning rate\n",
    "    'perceptron__max_iter': [100, 500, 1000],                # Maximum number of iterations\n",
    "    'perceptron__eta0': [0.01, 0.1, 1],                     # Initial learning rate\n",
    "    'perceptron__fit_intercept': [True, False],              # Whether to fit the intercept\n",
    "}\n",
    "\n",
    "random_search_perceptron = RandomizedSearchCV(\n",
    "    estimator=pipeline_perceptron,\n",
    "    param_distributions=param_grid_perceptron,\n",
    "    n_iter=20,  # Number of random samples\n",
    "    cv=5,\n",
    "    scoring='accuracy',\n",
    "    verbose=1,\n",
    "    n_jobs=-1,\n",
    "    random_state=42\n",
    ")\n",
    "\n",
    "\n",
    "random_search_perceptron.fit(X_train, y_train)\n",
    "\n",
    "\n",
    "best_params_random_perceptron = random_search_perceptron.best_params_\n",
    "best_score_random_perceptron = random_search_perceptron.best_score_\n",
    "\n",
    "print(f\"Best Hyperparameters: {best_params_random_perceptron}\")\n",
    "print(f\"Best Cross-validation Accuracy: {best_score_random_perceptron:.4f}\")\n",
    "\n",
    "\n",
    "best_model_random_perceptron = random_search_perceptron.best_estimator_\n",
    "y_pred_random_perceptron = best_model_random_perceptron.predict(X_test)\n",
    "\n",
    "\n",
    "accuracy_random_perceptron = accuracy_score(y_test, y_pred_random_perceptron)\n",
    "print(f'Accuracy: {accuracy_random_perceptron:.4f}')\n",
    "print('Confusion Matrix:')\n",
    "print(confusion_matrix(y_test, y_pred_random_perceptron))\n",
    "print('Classification Report:')\n",
    "print(classification_report(y_test, y_pred_random_perceptron))\n",
    "\n",
    "\n",
    "f1_macro_random_perceptron = f1_score(y_test, y_pred_random_perceptron, average='macro')\n",
    "print(f'Macro-average F1 score: {f1_macro_random_perceptron:.4f}')\n",
    "\n",
    "\n"
   ]
  },
  {
   "cell_type": "markdown",
   "id": "c341b6f3",
   "metadata": {
    "papermill": {
     "duration": 0.024195,
     "end_time": "2024-12-08T16:12:21.188598",
     "exception": false,
     "start_time": "2024-12-08T16:12:21.164403",
     "status": "completed"
    },
    "tags": []
   },
   "source": [
    "* accuracy improved to 70.37% from the untuned model's 62.09%, reflecting a more balanced classification ability overall.\n",
    "* The minority class (1) has significantly fewer samples, leading to poor performance on precision and recall for that class.\n",
    "* The Perceptron is a linear model and may not capture complex patterns in the data.\n",
    "  "
   ]
  },
  {
   "cell_type": "code",
   "execution_count": 53,
   "id": "bd96b4a1",
   "metadata": {
    "execution": {
     "iopub.execute_input": "2024-12-08T16:12:21.239418Z",
     "iopub.status.busy": "2024-12-08T16:12:21.239026Z",
     "iopub.status.idle": "2024-12-08T16:12:21.369186Z",
     "shell.execute_reply": "2024-12-08T16:12:21.367673Z"
    },
    "papermill": {
     "duration": 0.16027,
     "end_time": "2024-12-08T16:12:21.373398",
     "exception": false,
     "start_time": "2024-12-08T16:12:21.213128",
     "status": "completed"
    },
    "tags": []
   },
   "outputs": [
    {
     "name": "stdout",
     "output_type": "stream",
     "text": [
      "Accuracy: 0.8058\n",
      "Confusion Matrix:\n",
      "[[5598 1047]\n",
      " [ 476  722]]\n",
      "Classification Report:\n",
      "              precision    recall  f1-score   support\n",
      "\n",
      "           0       0.92      0.84      0.88      6645\n",
      "           1       0.41      0.60      0.49      1198\n",
      "\n",
      "    accuracy                           0.81      7843\n",
      "   macro avg       0.66      0.72      0.68      7843\n",
      "weighted avg       0.84      0.81      0.82      7843\n",
      "\n",
      "Macro-average F1 score: 0.6835\n"
     ]
    }
   ],
   "source": [
    "# Ridge Classifier\n",
    "ridge_clf = RidgeClassifier(class_weight='balanced', random_state=42)\n",
    "\n",
    "\n",
    "ridge_clf.fit(X_train, y_train)\n",
    "\n",
    "\n",
    "y_ridge_pred = ridge_clf.predict(X_test)\n",
    "\n",
    "\n",
    "accuracy_ridge = accuracy_score(y_test, y_ridge_pred)\n",
    "conf_matrix_ridge = confusion_matrix(y_test, y_ridge_pred)\n",
    "class_report_ridge = classification_report(y_test, y_ridge_pred)\n",
    "f1_macro_ridge = f1_score(y_test, y_ridge_pred, average='macro')\n",
    "\n",
    "print(f\"Accuracy: {accuracy_ridge:.4f}\")\n",
    "print(\"Confusion Matrix:\")\n",
    "print(conf_matrix_ridge)\n",
    "print(\"Classification Report:\")\n",
    "print(class_report_ridge)\n",
    "print(f\"Macro-average F1 score: {f1_macro_ridge:.4f}\")\n"
   ]
  },
  {
   "cell_type": "markdown",
   "id": "106b55ec",
   "metadata": {
    "papermill": {
     "duration": 0.024512,
     "end_time": "2024-12-08T16:12:21.464440",
     "exception": false,
     "start_time": "2024-12-08T16:12:21.439928",
     "status": "completed"
    },
    "tags": []
   },
   "source": [
    "* Precision (for Class 0): 0.92, which indicates that the model is very accurate when predicting the negative class (0).\n",
    "* Recall (for Class 0): 0.84, meaning the model correctly identifies 84% of the negative class (0).\n",
    "* Precision (for Class 1): 0.41, indicating that when the model predicts the positive class (1), it's not very precise.\n",
    "*  Recall (for Class 1): 0.60, meaning the model is able to correctly identify 60% of the positive class (1).\n",
    "*  The class imbalance is evident from the performance: while the model does well at predicting class 0 (precision 92%, recall 84%), it struggles more with class 1 (precision 41%, recall 60%).\n",
    "\n",
    " The F1 score of 0.6835 is a reasonable metric, but there's still need to improve, especially for the positive class (1)."
   ]
  },
  {
   "cell_type": "code",
   "execution_count": 54,
   "id": "c9e2da37",
   "metadata": {
    "execution": {
     "iopub.execute_input": "2024-12-08T16:12:21.515679Z",
     "iopub.status.busy": "2024-12-08T16:12:21.515275Z",
     "iopub.status.idle": "2024-12-08T16:12:32.883666Z",
     "shell.execute_reply": "2024-12-08T16:12:32.882407Z"
    },
    "papermill": {
     "duration": 11.39934,
     "end_time": "2024-12-08T16:12:32.888219",
     "exception": false,
     "start_time": "2024-12-08T16:12:21.488879",
     "status": "completed"
    },
    "tags": []
   },
   "outputs": [
    {
     "name": "stdout",
     "output_type": "stream",
     "text": [
      "Fitting 5 folds for each of 100 candidates, totalling 500 fits\n",
      "Best Hyperparameters for Ridge Classifier: {'fit_intercept': False, 'alpha': 19306.977288832455}\n",
      "Best Cross-validation Accuracy: 0.7172\n",
      "Accuracy: 0.8442\n",
      "Confusion Matrix:\n",
      "[[5995  650]\n",
      " [ 572  626]]\n",
      "Classification Report:\n",
      "              precision    recall  f1-score   support\n",
      "\n",
      "           0       0.91      0.90      0.91      6645\n",
      "           1       0.49      0.52      0.51      1198\n",
      "\n",
      "    accuracy                           0.84      7843\n",
      "   macro avg       0.70      0.71      0.71      7843\n",
      "weighted avg       0.85      0.84      0.85      7843\n",
      "\n",
      "Macro-average F1 score: 0.7068\n"
     ]
    }
   ],
   "source": [
    "#hyperparameter tune of RidgeClassifier\n",
    "\n",
    "model_ridge = RidgeClassifier(class_weight='balanced')\n",
    "\n",
    "\n",
    "param_dist_ridge = {\n",
    "    'alpha': np.logspace(-6, 6, 50),  # Range for alpha (regularization strength)Higher alpha stronger regularization\n",
    "    'fit_intercept': [True, False],  # Whether to include an intercept in the model\n",
    "}\n",
    "\n",
    "\n",
    "random_search_ridge = RandomizedSearchCV(\n",
    "    estimator=model_ridge, \n",
    "    param_distributions=param_dist_ridge, \n",
    "    n_iter=100,  # Number of parameter settings to sample\n",
    "    cv=5,  # 5-fold cross-validation\n",
    "    verbose=1, \n",
    "    n_jobs=-1,  # Use all available cores\n",
    "    scoring='f1_macro'\n",
    ")\n",
    "\n",
    "\n",
    "random_search_ridge.fit(X_train, y_train)\n",
    "\n",
    "\n",
    "best_params_ridge = random_search_ridge.best_params_\n",
    "best_score_ridge = random_search_ridge.best_score_\n",
    "\n",
    "print(f\"Best Hyperparameters for Ridge Classifier: {best_params_ridge}\")\n",
    "print(f\"Best Cross-validation Accuracy: {best_score_ridge:.4f}\")\n",
    "\n",
    "\n",
    "best_model_ridge = random_search_ridge.best_estimator_\n",
    "y_ridge_pred = best_model_ridge.predict(X_test)\n",
    "\n",
    "\n",
    "accuracy_ridge = accuracy_score(y_test, y_ridge_pred)\n",
    "print(f'Accuracy: {accuracy_ridge:.4f}')\n",
    "print('Confusion Matrix:')\n",
    "print(confusion_matrix(y_test, y_ridge_pred))\n",
    "print('Classification Report:')\n",
    "print(classification_report(y_test, y_ridge_pred))\n",
    "\n",
    "\n",
    "f1_macro_ridge = f1_score(y_test, y_ridge_pred, average='macro')\n",
    "print(f'Macro-average F1 score: {f1_macro_ridge:.4f}')\n"
   ]
  },
  {
   "cell_type": "markdown",
   "id": "f634c50e",
   "metadata": {
    "papermill": {
     "duration": 0.024883,
     "end_time": "2024-12-08T16:12:32.980317",
     "exception": false,
     "start_time": "2024-12-08T16:12:32.955434",
     "status": "completed"
    },
    "tags": []
   },
   "source": [
    "* The hyperparameter tuning using RandomizedSearchCV has improved the Ridge Classifier's performance compared to the default model.\n",
    "* The best regularization strength (alpha) is around 19306.98, and the model performs better without an intercept.\n",
    "* The accuracy of 84.42% on the test set is a significant improvement, but the model still has some challenges with predicting class 1.\n",
    "* "
   ]
  },
  {
   "cell_type": "code",
   "execution_count": 55,
   "id": "2ea914b0",
   "metadata": {
    "execution": {
     "iopub.execute_input": "2024-12-08T16:12:33.032374Z",
     "iopub.status.busy": "2024-12-08T16:12:33.032016Z",
     "iopub.status.idle": "2024-12-08T16:12:33.066021Z",
     "shell.execute_reply": "2024-12-08T16:12:33.064668Z"
    },
    "papermill": {
     "duration": 0.064348,
     "end_time": "2024-12-08T16:12:33.069822",
     "exception": false,
     "start_time": "2024-12-08T16:12:33.005474",
     "status": "completed"
    },
    "tags": []
   },
   "outputs": [],
   "source": [
    "pred = best_model_ridge.predict(test_pre)\n",
    "original_predictions = label_encoder.inverse_transform(pred)\n",
    "\n",
    "submission = pd.DataFrame({\"id\":range(0,test_pre.shape[0]),'target':original_predictions})\n",
    "submission.to_csv(\"submission.csv\",index = False)"
   ]
  },
  {
   "cell_type": "code",
   "execution_count": 56,
   "id": "fe26c7d1",
   "metadata": {
    "execution": {
     "iopub.execute_input": "2024-12-08T16:12:33.182134Z",
     "iopub.status.busy": "2024-12-08T16:12:33.181473Z",
     "iopub.status.idle": "2024-12-08T16:12:34.402914Z",
     "shell.execute_reply": "2024-12-08T16:12:34.401624Z"
    },
    "papermill": {
     "duration": 1.25891,
     "end_time": "2024-12-08T16:12:34.405052",
     "exception": false,
     "start_time": "2024-12-08T16:12:33.146142",
     "status": "completed"
    },
    "tags": []
   },
   "outputs": [
    {
     "name": "stdout",
     "output_type": "stream",
     "text": [
      "Accuracy: 0.8552\n",
      "Confusion Matrix:\n",
      "[[6374  271]\n",
      " [ 865  333]]\n",
      "Classification Report:\n",
      "              precision    recall  f1-score   support\n",
      "\n",
      "           0       0.88      0.96      0.92      6645\n",
      "           1       0.55      0.28      0.37      1198\n",
      "\n",
      "    accuracy                           0.86      7843\n",
      "   macro avg       0.72      0.62      0.64      7843\n",
      "weighted avg       0.83      0.86      0.83      7843\n",
      "\n",
      "Macro-average F1 score: 0.6439\n"
     ]
    }
   ],
   "source": [
    "# #  KNN classifier \n",
    "model_knn = KNeighborsClassifier()\n",
    "\n",
    "\n",
    "model_knn.fit(X_train, y_train)\n",
    "\n",
    "\n",
    "y_knn_pred = model_knn.predict(X_test)\n",
    "\n",
    "\n",
    "accuracy_knn = accuracy_score(y_test, y_knn_pred)\n",
    "print(f'Accuracy: {accuracy_knn:.4f}')\n",
    "\n",
    "\n",
    "print('Confusion Matrix:')\n",
    "print(confusion_matrix(y_test, y_knn_pred))\n",
    "\n",
    "\n",
    "print('Classification Report:')\n",
    "print(classification_report(y_test, y_knn_pred))\n",
    "\n",
    "\n",
    "f1_macro_knn = f1_score(y_test, y_knn_pred, average='macro')\n",
    "print(f'Macro-average F1 score: {f1_macro_knn:.4f}')\n"
   ]
  },
  {
   "cell_type": "markdown",
   "id": "79af2298",
   "metadata": {
    "papermill": {
     "duration": 0.025014,
     "end_time": "2024-12-08T16:12:34.454815",
     "exception": false,
     "start_time": "2024-12-08T16:12:34.429801",
     "status": "completed"
    },
    "tags": []
   },
   "source": [
    "Accuracy: 0.8552\r",
    "* The KNN classifier has good performance on the majority class (class 0), with high precision, recall, and F1-score. However, it struggles with the minority class (class 1), where it has lower precision, recall, and F1-score.\n",
    "* The macro-average F1 score is relatively low score: 0.6439"
   ]
  },
  {
   "cell_type": "code",
   "execution_count": 57,
   "id": "599957c3",
   "metadata": {
    "execution": {
     "iopub.execute_input": "2024-12-08T16:12:34.507914Z",
     "iopub.status.busy": "2024-12-08T16:12:34.507494Z",
     "iopub.status.idle": "2024-12-08T16:12:34.512830Z",
     "shell.execute_reply": "2024-12-08T16:12:34.511818Z"
    },
    "papermill": {
     "duration": 0.033618,
     "end_time": "2024-12-08T16:12:34.514765",
     "exception": false,
     "start_time": "2024-12-08T16:12:34.481147",
     "status": "completed"
    },
    "tags": []
   },
   "outputs": [],
   "source": [
    "# #tune knn classifier\n",
    "\n",
    "# model_knn = KNeighborsClassifier()\n",
    "\n",
    "\n",
    "# param_dist_knn = {\n",
    "#     'n_neighbors': np.arange(1, 21),  # Number of neighbors\n",
    "#     'weights': ['uniform', 'distance'],  # Weighting method\n",
    "#     'metric': ['euclidean', 'manhattan', 'minkowski'],  # Distance metrics\n",
    "#     'algorithm': ['auto', 'ball_tree', 'kd_tree', 'brute'],  # Search algorithm\n",
    "# }\n",
    "\n",
    "\n",
    "# random_search_knn = RandomizedSearchCV(\n",
    "#     estimator=model_knn,\n",
    "#     param_distributions=param_dist_knn,\n",
    "#     n_iter=50,  \n",
    "#     cv=5,  # 5-fold cross-validation\n",
    "#     verbose=1,\n",
    "#     n_jobs=-1,  # Use all available cores\n",
    "#     scoring='f1_macro',\n",
    "#     random_state=42  \n",
    "# )\n",
    "\n",
    "\n",
    "# random_search_knn.fit(X_train, y_train)\n",
    "\n",
    "\n",
    "# best_params_knn = random_search_knn.best_params_\n",
    "# best_score_knn = random_search_knn.best_score_\n",
    "\n",
    "# print(f\"Best Hyperparameters for KNN: {best_params_knn}\")\n",
    "# print(f\"Best Cross-validation Accuracy: {best_score_knn:.4f}\")\n",
    "\n",
    "\n",
    "# best_model_knn = random_search_knn.best_estimator_\n",
    "# y_knn_pred = best_model_knn.predict(X_test)\n",
    "\n",
    "\n",
    "# accuracy_knn = accuracy_score(y_test, y_knn_pred)\n",
    "# print(f'Accuracy: {accuracy_knn:.4f}')\n",
    "# print('Confusion Matrix:')\n",
    "# print(confusion_matrix(y_test, y_knn_pred))\n",
    "# print('Classification Report:')\n",
    "# print(classification_report(y_test, y_knn_pred))\n",
    "\n",
    "# f1_macro_knn = f1_score(y_test, y_knn_pred, average='macro')\n",
    "# print(f'Macro-average F1 score: {f1_macro_knn:.4f}')\n"
   ]
  },
  {
   "cell_type": "markdown",
   "id": "b939274e",
   "metadata": {
    "papermill": {
     "duration": 0.024508,
     "end_time": "2024-12-08T16:12:34.564544",
     "exception": false,
     "start_time": "2024-12-08T16:12:34.540036",
     "status": "completed"
    },
    "tags": []
   },
   "source": [
    "Fitting 5 folds for each of 50 candidates, totalling 250 fits\r\n",
    "Best Hyperparameters for KNN: {'weights': 'distance', 'n_neighbors': 1, 'metric': 'manhattan', 'algorithm': 'kd_tree'}\r\n",
    "Best Cross-validation Accuracy: 0.6514\r\n",
    "Accuracy: 0.8344\r\n",
    "Confusion Matrix:\r\n",
    "[[6135  510]\r\n",
    " [ 789  409]]\r\n",
    "Classification Report:\r\n",
    "              precision    recall  f1-score   support\r\n",
    "\r\n",
    "           0       0.89      0.92      0.90      6645\r\n",
    "           1       0.45      0.34      0.39      1198\r\n",
    "\r\n",
    "    accuracy                           0.83      7843\r\n",
    "   macro avg       0.67      0.63      0.65      7843\r\n",
    "weighted avg       0.82      0.83      0.83      7843\r\n",
    "\r\n",
    "Macro-average F1 score: 0.6453"
   ]
  },
  {
   "cell_type": "markdown",
   "id": "ce983f3f",
   "metadata": {
    "papermill": {
     "duration": 0.02445,
     "end_time": "2024-12-08T16:12:34.613709",
     "exception": false,
     "start_time": "2024-12-08T16:12:34.589259",
     "status": "completed"
    },
    "tags": []
   },
   "source": [
    "* The KNN model performed well in terms of accuracy on the test set (83.44%), but it struggled with class 1 (positive class) as indicated by the low recall and precision for this class.\n",
    "* The best hyperparameters found through random search are:\n",
    "        n_neighbors=1\n",
    "        weights='distance'\n",
    "        metric='manhattan'\n",
    "        algorithm='kd_tree'\n",
    "* The model's performance is biased towards the majority class (class 0), which is common in imbalanced datasets. The macro-average F1 score (0.6453) reflects this imbalance"
   ]
  },
  {
   "cell_type": "code",
   "execution_count": 58,
   "id": "bfd6c101",
   "metadata": {
    "execution": {
     "iopub.execute_input": "2024-12-08T16:12:34.664614Z",
     "iopub.status.busy": "2024-12-08T16:12:34.664234Z",
     "iopub.status.idle": "2024-12-08T16:12:34.926080Z",
     "shell.execute_reply": "2024-12-08T16:12:34.924580Z"
    },
    "papermill": {
     "duration": 0.292319,
     "end_time": "2024-12-08T16:12:34.930706",
     "exception": false,
     "start_time": "2024-12-08T16:12:34.638387",
     "status": "completed"
    },
    "tags": []
   },
   "outputs": [
    {
     "name": "stdout",
     "output_type": "stream",
     "text": [
      "Accuracy: 0.8562\n",
      "Confusion Matrix:\n",
      "[[6385  260]\n",
      " [ 868  330]]\n",
      "Classification Report:\n",
      "              precision    recall  f1-score   support\n",
      "\n",
      "           0       0.88      0.96      0.92      6645\n",
      "           1       0.56      0.28      0.37      1198\n",
      "\n",
      "    accuracy                           0.86      7843\n",
      "   macro avg       0.72      0.62      0.64      7843\n",
      "weighted avg       0.83      0.86      0.83      7843\n",
      "\n",
      "Macro-average F1 score: 0.6440\n"
     ]
    }
   ],
   "source": [
    "# # SGDClassifier\n",
    "model_sgd = SGDClassifier(random_state=42 )\n",
    "\n",
    "\n",
    "model_sgd.fit(X_train, y_train)\n",
    "\n",
    "\n",
    "y_sgd_pred = model_sgd.predict(X_test)\n",
    "\n",
    "\n",
    "accuracy_sgd = accuracy_score(y_test, y_sgd_pred)\n",
    "print(f'Accuracy: {accuracy_sgd:.4f}')\n",
    "\n",
    "\n",
    "print('Confusion Matrix:')\n",
    "print(confusion_matrix(y_test, y_sgd_pred))\n",
    "\n",
    "\n",
    "print('Classification Report:')\n",
    "print(classification_report(y_test, y_sgd_pred))\n",
    "\n",
    "\n",
    "f1_macro_sgd = f1_score(y_test, y_sgd_pred, average='macro')\n",
    "print(f'Macro-average F1 score: {f1_macro_sgd:.4f}')\n"
   ]
  },
  {
   "cell_type": "markdown",
   "id": "06d9e43e",
   "metadata": {
    "papermill": {
     "duration": 0.024582,
     "end_time": "2024-12-08T16:12:35.023239",
     "exception": false,
     "start_time": "2024-12-08T16:12:34.998657",
     "status": "completed"
    },
    "tags": []
   },
   "source": [
    "* The model performs well on class 0 (negative class), with good precision (0.88) and recall (0.96). This indicates that the model correctly identifies most instances of the negative class.\n",
    "* model struggles with class 1 (positive class), as evidenced by low recall (0.28) and precision (0.56). This suggests that the model is not good at identifying the positive class, possibly due to class imbalance.\n",
    "* he macro-average F1 score (0.6440) indicates moderate overall performance, but it shows that there’s room for improvement, especially for the minority class."
   ]
  },
  {
   "cell_type": "code",
   "execution_count": 59,
   "id": "dc9bbba0",
   "metadata": {
    "execution": {
     "iopub.execute_input": "2024-12-08T16:12:35.074811Z",
     "iopub.status.busy": "2024-12-08T16:12:35.074375Z",
     "iopub.status.idle": "2024-12-08T16:12:35.417706Z",
     "shell.execute_reply": "2024-12-08T16:12:35.416412Z"
    },
    "papermill": {
     "duration": 0.375267,
     "end_time": "2024-12-08T16:12:35.423587",
     "exception": false,
     "start_time": "2024-12-08T16:12:35.048320",
     "status": "completed"
    },
    "tags": []
   },
   "outputs": [
    {
     "name": "stdout",
     "output_type": "stream",
     "text": [
      "Accuracy: 0.8181\n",
      "Confusion Matrix:\n",
      "[[5592 1053]\n",
      " [ 374  824]]\n",
      "Classification Report:\n",
      "              precision    recall  f1-score   support\n",
      "\n",
      "           0       0.94      0.84      0.89      6645\n",
      "           1       0.44      0.69      0.54      1198\n",
      "\n",
      "    accuracy                           0.82      7843\n",
      "   macro avg       0.69      0.76      0.71      7843\n",
      "weighted avg       0.86      0.82      0.83      7843\n",
      "\n",
      "Macro-average F1 score: 0.7114\n"
     ]
    }
   ],
   "source": [
    "# # SGDClassifier weight balanced\n",
    "model_sgd = SGDClassifier(class_weight='balanced',random_state=42)\n",
    "\n",
    "\n",
    "model_sgd.fit(X_train, y_train)\n",
    "\n",
    "\n",
    "y_sgd_pred = model_sgd.predict(X_test)\n",
    "\n",
    "\n",
    "accuracy_sgd = accuracy_score(y_test, y_sgd_pred)\n",
    "print(f'Accuracy: {accuracy_sgd:.4f}')\n",
    "\n",
    "\n",
    "print('Confusion Matrix:')\n",
    "print(confusion_matrix(y_test, y_sgd_pred))\n",
    "\n",
    "\n",
    "print('Classification Report:')\n",
    "print(classification_report(y_test, y_sgd_pred))\n",
    "\n",
    "\n",
    "f1_macro_sgd = f1_score(y_test, y_sgd_pred, average='macro')\n",
    "print(f'Macro-average F1 score: {f1_macro_sgd:.4f}')"
   ]
  },
  {
   "cell_type": "markdown",
   "id": "44d6297c",
   "metadata": {
    "papermill": {
     "duration": 0.024733,
     "end_time": "2024-12-08T16:12:35.515396",
     "exception": false,
     "start_time": "2024-12-08T16:12:35.490663",
     "status": "completed"
    },
    "tags": []
   },
   "source": [
    "*  using class_weight='balanced', the model improved recall for class 1, but it came at the cost of a lower precision for class 1.\n",
    "*  The macro-average F1 score of 0.7114 suggests that while the model performs fairly well overall, there's still potential for further refinement, especially for class 1."
   ]
  },
  {
   "cell_type": "code",
   "execution_count": 60,
   "id": "838ab1d6",
   "metadata": {
    "execution": {
     "iopub.execute_input": "2024-12-08T16:12:35.566706Z",
     "iopub.status.busy": "2024-12-08T16:12:35.566310Z",
     "iopub.status.idle": "2024-12-08T16:12:54.453258Z",
     "shell.execute_reply": "2024-12-08T16:12:54.451989Z"
    },
    "papermill": {
     "duration": 18.91795,
     "end_time": "2024-12-08T16:12:54.458151",
     "exception": false,
     "start_time": "2024-12-08T16:12:35.540201",
     "status": "completed"
    },
    "tags": []
   },
   "outputs": [
    {
     "name": "stdout",
     "output_type": "stream",
     "text": [
      "Fitting 5 folds for each of 50 candidates, totalling 250 fits\n"
     ]
    },
    {
     "name": "stderr",
     "output_type": "stream",
     "text": [
      "/opt/conda/lib/python3.10/site-packages/sklearn/model_selection/_validation.py:378: FitFailedWarning: \n",
      "175 fits failed out of a total of 250.\n",
      "The score on these train-test partitions for these parameters will be set to nan.\n",
      "If these failures are not expected, you can try to debug them by setting error_score='raise'.\n",
      "\n",
      "Below are more details about the failures:\n",
      "--------------------------------------------------------------------------------\n",
      "175 fits failed with the following error:\n",
      "Traceback (most recent call last):\n",
      "  File \"/opt/conda/lib/python3.10/site-packages/sklearn/model_selection/_validation.py\", line 686, in _fit_and_score\n",
      "    estimator.fit(X_train, y_train, **fit_params)\n",
      "  File \"/opt/conda/lib/python3.10/site-packages/sklearn/linear_model/_stochastic_gradient.py\", line 892, in fit\n",
      "    self._more_validate_params()\n",
      "  File \"/opt/conda/lib/python3.10/site-packages/sklearn/linear_model/_stochastic_gradient.py\", line 149, in _more_validate_params\n",
      "    raise ValueError(\"eta0 must be > 0\")\n",
      "ValueError: eta0 must be > 0\n",
      "\n",
      "  warnings.warn(some_fits_failed_message, FitFailedWarning)\n",
      "/opt/conda/lib/python3.10/site-packages/sklearn/model_selection/_search.py:952: UserWarning: One or more of the test scores are non-finite: [       nan 0.47082631        nan        nan        nan        nan\n",
      "        nan        nan 0.58968821        nan        nan 0.7208887\n",
      " 0.55862032        nan        nan        nan        nan        nan\n",
      "        nan 0.32755299        nan 0.46016831 0.39385818        nan\n",
      "        nan        nan 0.73398142 0.59476115        nan 0.39386312\n",
      "        nan        nan 0.53221214        nan        nan        nan\n",
      "        nan        nan 0.74144903        nan        nan        nan\n",
      "        nan 0.43688882        nan        nan 0.73552714 0.66622031\n",
      "        nan        nan]\n",
      "  warnings.warn(\n"
     ]
    },
    {
     "name": "stdout",
     "output_type": "stream",
     "text": [
      "Best Hyperparameters for SGDClassifier: {'penalty': 'l1', 'max_iter': 3000, 'loss': 'hinge', 'learning_rate': 'optimal', 'alpha': 0.001}\n",
      "Best Cross-validation Accuracy: 0.7414\n",
      "Accuracy: 0.8447\n",
      "Confusion Matrix:\n",
      "[[5815  830]\n",
      " [ 388  810]]\n",
      "Classification Report:\n",
      "              precision    recall  f1-score   support\n",
      "\n",
      "           0       0.94      0.88      0.91      6645\n",
      "           1       0.49      0.68      0.57      1198\n",
      "\n",
      "    accuracy                           0.84      7843\n",
      "   macro avg       0.72      0.78      0.74      7843\n",
      "weighted avg       0.87      0.84      0.85      7843\n",
      "\n",
      "Macro-average F1 score: 0.7380\n"
     ]
    }
   ],
   "source": [
    "# # SGDClassifier tuned\n",
    "model_sgd = SGDClassifier(class_weight='balanced')\n",
    "\n",
    "\n",
    "param_dist_sgd = {\n",
    "    'loss': ['hinge', 'log_loss', 'squared_hinge'],  # Loss functions\n",
    "    'penalty': ['l2', 'l1', 'elasticnet'],  # Regularization techniques\n",
    "    'alpha': np.logspace(-6, 6, 13),  # Regularization strength\n",
    "    'max_iter': [1000, 2000, 3000, 5000],  # Number of iterations\n",
    "    'learning_rate': ['constant', 'optimal', 'invscaling'],  # Learning rate schedules\n",
    "}\n",
    "\n",
    "\n",
    "random_search_sgd = RandomizedSearchCV(\n",
    "    estimator=model_sgd,\n",
    "    param_distributions=param_dist_sgd,\n",
    "    n_iter=50,  # Number of parameter settings to sample\n",
    "    cv=5,  # 5-fold cross-validation\n",
    "    verbose=1,\n",
    "    n_jobs=-1,  # Use all available cores\n",
    "    scoring='f1_macro',\n",
    "    random_state=42\n",
    "    \n",
    ")\n",
    "\n",
    "\n",
    "random_search_sgd.fit(X_train, y_train)\n",
    "\n",
    "\n",
    "best_params_sgd = random_search_sgd.best_params_\n",
    "best_score_sgd = random_search_sgd.best_score_\n",
    "\n",
    "print(f\"Best Hyperparameters for SGDClassifier: {best_params_sgd}\")\n",
    "print(f\"Best Cross-validation Accuracy: {best_score_sgd:.4f}\")\n",
    "\n",
    "\n",
    "best_model_sgd = random_search_sgd.best_estimator_\n",
    "\n",
    "\n",
    "y_sgd_pred = best_model_sgd.predict(X_test)\n",
    "\n",
    "\n",
    "accuracy_sgd = accuracy_score(y_test, y_sgd_pred)\n",
    "print(f'Accuracy: {accuracy_sgd:.4f}')\n",
    "print('Confusion Matrix:')\n",
    "print(confusion_matrix(y_test, y_sgd_pred))\n",
    "print('Classification Report:')\n",
    "print(classification_report(y_test, y_sgd_pred))\n",
    "\n",
    "\n",
    "f1_macro_sgd = f1_score(y_test, y_sgd_pred, average='macro')\n",
    "print(f'Macro-average F1 score: {f1_macro_sgd:.4f}')"
   ]
  },
  {
   "cell_type": "markdown",
   "id": "fafc4f8f",
   "metadata": {
    "papermill": {
     "duration": 0.025003,
     "end_time": "2024-12-08T16:12:54.551697",
     "exception": false,
     "start_time": "2024-12-08T16:12:54.526694",
     "status": "completed"
    },
    "tags": []
   },
   "source": [
    "Best Hyperparameters for SGDClassifier: {'penalty': 'l1', 'max_iter': 3000, 'loss': 'hinge', 'learning_rate': 'optimal', 'alpha': 0.001}\r\n",
    "Best Cross-validation Accuracy: 0.7420\r\n",
    "Accuracy: 0.8437\r\n",
    "Confusion Matrix:\r\n",
    "[[5820  825]\r\n",
    " [ 401  797]]\r\n",
    "Classification Report:\r\n",
    "              precision    recall  f1-score   support\r\n",
    "\r\n",
    "           0       0.94      0.88      0.90      6645\r\n",
    "           1       0.49      0.67      0.57      1198\r\n",
    "\r\n",
    "    accuracy                           0.84      7843\r\n",
    "   macro avg       0.71      0.77      0.73      7843\r\n",
    "weighted avg       0.87      0.84      0.85      7843\r\n",
    "\r\n",
    "Macro-average F1 score: 0.7350"
   ]
  },
  {
   "cell_type": "markdown",
   "id": "d64fbe33",
   "metadata": {
    "papermill": {
     "duration": 0.024814,
     "end_time": "2024-12-08T16:12:54.601279",
     "exception": false,
     "start_time": "2024-12-08T16:12:54.576465",
     "status": "completed"
    },
    "tags": []
   },
   "source": [
    "* The model's performance has improved after hyperparameter tuning, with better accuracy, recall for class 1, and a higher macro-average F1 score.\n",
    "* class 1 predictions are still weaker (precision for class 1 is low). However, the model is more balanced than before.\n",
    "*  hyperparameter tuning process helped optimize the model’s configuration to achieve these improvements."
   ]
  },
  {
   "cell_type": "code",
   "execution_count": 61,
   "id": "e86c866d",
   "metadata": {
    "execution": {
     "iopub.execute_input": "2024-12-08T16:12:54.652430Z",
     "iopub.status.busy": "2024-12-08T16:12:54.652043Z",
     "iopub.status.idle": "2024-12-08T16:12:54.687188Z",
     "shell.execute_reply": "2024-12-08T16:12:54.685783Z"
    },
    "papermill": {
     "duration": 0.064726,
     "end_time": "2024-12-08T16:12:54.690816",
     "exception": false,
     "start_time": "2024-12-08T16:12:54.626090",
     "status": "completed"
    },
    "tags": []
   },
   "outputs": [],
   "source": [
    "pred = best_model_sgd.predict(test_pre)\n",
    "original_predictions = label_encoder.inverse_transform(pred)\n",
    "\n",
    "submission = pd.DataFrame({\"id\":range(0,test_pre.shape[0]),'target':original_predictions})\n",
    "submission.to_csv(\"submission.csv\",index = False)"
   ]
  },
  {
   "cell_type": "code",
   "execution_count": 62,
   "id": "9f4829dd",
   "metadata": {
    "execution": {
     "iopub.execute_input": "2024-12-08T16:12:54.802253Z",
     "iopub.status.busy": "2024-12-08T16:12:54.801852Z",
     "iopub.status.idle": "2024-12-08T16:13:39.105451Z",
     "shell.execute_reply": "2024-12-08T16:13:39.104462Z"
    },
    "papermill": {
     "duration": 44.365297,
     "end_time": "2024-12-08T16:13:39.133017",
     "exception": false,
     "start_time": "2024-12-08T16:12:54.767720",
     "status": "completed"
    },
    "tags": []
   },
   "outputs": [
    {
     "name": "stdout",
     "output_type": "stream",
     "text": [
      "Accuracy: 0.8210\n",
      "Confusion Matrix:\n",
      "[[5463 1182]\n",
      " [ 222  976]]\n",
      "Classification Report:\n",
      "              precision    recall  f1-score   support\n",
      "\n",
      "           0       0.96      0.82      0.89      6645\n",
      "           1       0.45      0.81      0.58      1198\n",
      "\n",
      "    accuracy                           0.82      7843\n",
      "   macro avg       0.71      0.82      0.73      7843\n",
      "weighted avg       0.88      0.82      0.84      7843\n",
      "\n",
      "Macro-average F1 score: 0.7339\n"
     ]
    }
   ],
   "source": [
    "# #  SVM model\n",
    "model_svm = SVC(class_weight='balanced',random_state=42)\n",
    "\n",
    "\n",
    "model_svm.fit(X_train, y_train)\n",
    "\n",
    "\n",
    "y_svm_pred = model_svm.predict(X_test)\n",
    "\n",
    "\n",
    "accuracy_svm = accuracy_score(y_test, y_svm_pred)\n",
    "print(f'Accuracy: {accuracy_svm:.4f}')\n",
    "print('Confusion Matrix:')\n",
    "print(confusion_matrix(y_test, y_svm_pred))\n",
    "print('Classification Report:')\n",
    "print(classification_report(y_test, y_svm_pred))\n",
    "\n",
    "\n",
    "f1_macro_svm = f1_score(y_test, y_svm_pred, average='macro')\n",
    "print(f'Macro-average F1 score: {f1_macro_svm:.4f}')\n"
   ]
  },
  {
   "cell_type": "markdown",
   "id": "5b128b9d",
   "metadata": {
    "papermill": {
     "duration": 0.024954,
     "end_time": "2024-12-08T16:13:39.183502",
     "exception": false,
     "start_time": "2024-12-08T16:13:39.158548",
     "status": "completed"
    },
    "tags": []
   },
   "source": [
    "* The SVM model provides a solid performance with 82.10% accuracy and a macro-average F1 score of 0.73.\n",
    "* The model's recall for class 1 is 81%, indicating it correctly identifies many instances of the minority class. However, the precision for class 1 is low (45%), meaning there are many false positives.\n",
    "* Class 0 is predicted with high precision (96%), but recall for class 0 is 82%, meaning that some class 0 instances are missed.\n",
    "* Compared to the SGDClassifier model, the SVM model has a lower overall accuracy but a higher recall for the minority class (class 1), which could be important depending on the specific application."
   ]
  },
  {
   "cell_type": "code",
   "execution_count": 63,
   "id": "63b9cb67",
   "metadata": {
    "execution": {
     "iopub.execute_input": "2024-12-08T16:13:39.235443Z",
     "iopub.status.busy": "2024-12-08T16:13:39.235071Z",
     "iopub.status.idle": "2024-12-08T16:13:49.347748Z",
     "shell.execute_reply": "2024-12-08T16:13:49.346859Z"
    },
    "papermill": {
     "duration": 10.141531,
     "end_time": "2024-12-08T16:13:49.350173",
     "exception": false,
     "start_time": "2024-12-08T16:13:39.208642",
     "status": "completed"
    },
    "tags": []
   },
   "outputs": [],
   "source": [
    "pred = model_svm.predict(test_pre)\n",
    "original_predictions = label_encoder.inverse_transform(pred)\n",
    "\n",
    "submission = pd.DataFrame({\"id\":range(0,test_pre.shape[0]),'target':original_predictions})\n",
    "submission.to_csv(\"submission.csv\",index = False)"
   ]
  },
  {
   "cell_type": "code",
   "execution_count": 64,
   "id": "fc4438a4",
   "metadata": {
    "execution": {
     "iopub.execute_input": "2024-12-08T16:13:49.402087Z",
     "iopub.status.busy": "2024-12-08T16:13:49.401402Z",
     "iopub.status.idle": "2024-12-08T16:13:49.406863Z",
     "shell.execute_reply": "2024-12-08T16:13:49.405905Z"
    },
    "papermill": {
     "duration": 0.03347,
     "end_time": "2024-12-08T16:13:49.408863",
     "exception": false,
     "start_time": "2024-12-08T16:13:49.375393",
     "status": "completed"
    },
    "tags": []
   },
   "outputs": [],
   "source": [
    "# import warnings\n",
    "# warnings.filterwarnings(\"ignore\")\n",
    "\n",
    "# # SVM model parameter tuning \n",
    "# model_svm = SVC(C=10,class_weight='balanced')\n",
    "\n",
    "# param_dist_svm_refined = {\n",
    "#     'C': [0.1, 1, 10],  # Narrowed down the regularization parameter based on previous results\n",
    "#     'kernel': ['rbf'],  # Focusing on 'rbf' and 'linear' kernels for more efficient tuning\n",
    "#     'gamma': ['scale'],  # Common gamma values\n",
    "#     'degree': [3],  # Default value for degree\n",
    "#     'max_iter': [1000],  # Max iterations for SVC (kept constant)\n",
    "# }\n",
    "\n",
    "# random_search_svm = RandomizedSearchCV(\n",
    "#     estimator=model_svm,\n",
    "#     param_distributions=param_dist_svm_refined,\n",
    "#     n_iter=10,  # Number of parameter settings that are sampled\n",
    "#     cv=5,  # Cross-validation splitting strategy\n",
    "#     verbose=1,\n",
    "#     random_state=42,\n",
    "#     n_jobs=-1,  # Using all available CPU cores\n",
    "#     scoring='f1_macro'  # Using F1 macro score to evaluate performance\n",
    "# )\n",
    "\n",
    "# random_search_svm.fit(X_train, y_train)\n",
    "\n",
    "\n",
    "\n",
    "# best_params_svm = random_search_svm.best_params_\n",
    "# best_score_svm = random_search_svm.best_score_\n",
    "\n",
    "\n",
    "# print(f\"Best Hyperparameters for SVM: {best_params_svm}\")\n",
    "# print(f\"Best Cross-validation Accuracy: {best_score_svm:.4f}\")\n",
    "\n",
    "\n",
    "# best_model_svm = random_search_svm.best_estimator_\n",
    "\n",
    "# y_svm_pred_tuned = best_model_svm.predict(X_test)\n",
    "\n",
    "\n",
    "# accuracy_svm_tuned = accuracy_score(y_test, y_svm_pred_tuned)\n",
    "# print(f'Accuracy: {accuracy_svm_tuned:.4f}')\n",
    "# print('Confusion Matrix:')\n",
    "# print(confusion_matrix(y_test, y_svm_pred_tuned))\n",
    "# print('Classification Report:')\n",
    "# print(classification_report(y_test, y_svm_pred_tuned))\n",
    "\n",
    "\n",
    "# f1_macro_svm_tuned = f1_score(y_test, y_svm_pred_tuned, average='macro')\n",
    "# print(f'Macro-average F1 score: {f1_macro_svm_tuned:.4f}')\n"
   ]
  },
  {
   "cell_type": "markdown",
   "id": "059c3602",
   "metadata": {
    "papermill": {
     "duration": 0.024871,
     "end_time": "2024-12-08T16:13:49.458868",
     "exception": false,
     "start_time": "2024-12-08T16:13:49.433997",
     "status": "completed"
    },
    "tags": []
   },
   "source": [
    "Macro-average F1 score: 0.3000  "
   ]
  },
  {
   "cell_type": "code",
   "execution_count": 65,
   "id": "ba6f4fe8",
   "metadata": {
    "execution": {
     "iopub.execute_input": "2024-12-08T16:13:49.510946Z",
     "iopub.status.busy": "2024-12-08T16:13:49.510491Z",
     "iopub.status.idle": "2024-12-08T16:13:51.260549Z",
     "shell.execute_reply": "2024-12-08T16:13:51.259367Z"
    },
    "papermill": {
     "duration": 1.778314,
     "end_time": "2024-12-08T16:13:51.262538",
     "exception": false,
     "start_time": "2024-12-08T16:13:49.484224",
     "status": "completed"
    },
    "tags": []
   },
   "outputs": [
    {
     "name": "stdout",
     "output_type": "stream",
     "text": [
      "Accuracy: 0.8628\n",
      "Confusion Matrix:\n",
      "[[6402  243]\n",
      " [ 833  365]]\n",
      "Classification Report:\n",
      "              precision    recall  f1-score   support\n",
      "\n",
      "           0       0.88      0.96      0.92      6645\n",
      "           1       0.60      0.30      0.40      1198\n",
      "\n",
      "    accuracy                           0.86      7843\n",
      "   macro avg       0.74      0.63      0.66      7843\n",
      "weighted avg       0.84      0.86      0.84      7843\n",
      "\n",
      "Macro-average F1 score: 0.6633\n"
     ]
    }
   ],
   "source": [
    "model_rf = RandomForestClassifier(class_weight='balanced',random_state=42, n_jobs=-1)\n",
    "\n",
    "\n",
    "model_rf.fit(X_train, y_train)\n",
    "\n",
    "\n",
    "y_rf_pred = model_rf.predict(X_test)\n",
    "\n",
    " \n",
    "accuracy_rf = accuracy_score(y_test, y_rf_pred)\n",
    "print(f'Accuracy: {accuracy_rf:.4f}')\n",
    "\n",
    "\n",
    "print('Confusion Matrix:')\n",
    "print(confusion_matrix(y_test, y_rf_pred))\n",
    "\n",
    "\n",
    "print('Classification Report:')\n",
    "print(classification_report(y_test, y_rf_pred))\n",
    "\n",
    "\n",
    "f1_macro_rf = f1_score(y_test, y_rf_pred, average='macro')\n",
    "print(f'Macro-average F1 score: {f1_macro_rf:.4f}')"
   ]
  },
  {
   "cell_type": "code",
   "execution_count": 66,
   "id": "3fb2ddf9",
   "metadata": {
    "execution": {
     "iopub.execute_input": "2024-12-08T16:13:51.315223Z",
     "iopub.status.busy": "2024-12-08T16:13:51.314805Z",
     "iopub.status.idle": "2024-12-08T16:17:46.207490Z",
     "shell.execute_reply": "2024-12-08T16:17:46.206328Z"
    },
    "papermill": {
     "duration": 234.921349,
     "end_time": "2024-12-08T16:17:46.209699",
     "exception": false,
     "start_time": "2024-12-08T16:13:51.288350",
     "status": "completed"
    },
    "tags": []
   },
   "outputs": [
    {
     "name": "stdout",
     "output_type": "stream",
     "text": [
      "Fitting 5 folds for each of 10 candidates, totalling 50 fits\n"
     ]
    },
    {
     "name": "stderr",
     "output_type": "stream",
     "text": [
      "/opt/conda/lib/python3.10/site-packages/sklearn/ensemble/_forest.py:424: FutureWarning: `max_features='auto'` has been deprecated in 1.1 and will be removed in 1.3. To keep the past behaviour, explicitly set `max_features='sqrt'` or remove this parameter as it is also the default value for RandomForestClassifiers and ExtraTreesClassifiers.\n",
      "  warn(\n",
      "/opt/conda/lib/python3.10/site-packages/sklearn/ensemble/_forest.py:424: FutureWarning: `max_features='auto'` has been deprecated in 1.1 and will be removed in 1.3. To keep the past behaviour, explicitly set `max_features='sqrt'` or remove this parameter as it is also the default value for RandomForestClassifiers and ExtraTreesClassifiers.\n",
      "  warn(\n",
      "/opt/conda/lib/python3.10/site-packages/sklearn/ensemble/_forest.py:424: FutureWarning: `max_features='auto'` has been deprecated in 1.1 and will be removed in 1.3. To keep the past behaviour, explicitly set `max_features='sqrt'` or remove this parameter as it is also the default value for RandomForestClassifiers and ExtraTreesClassifiers.\n",
      "  warn(\n",
      "/opt/conda/lib/python3.10/site-packages/sklearn/ensemble/_forest.py:424: FutureWarning: `max_features='auto'` has been deprecated in 1.1 and will be removed in 1.3. To keep the past behaviour, explicitly set `max_features='sqrt'` or remove this parameter as it is also the default value for RandomForestClassifiers and ExtraTreesClassifiers.\n",
      "  warn(\n",
      "/opt/conda/lib/python3.10/site-packages/sklearn/ensemble/_forest.py:424: FutureWarning: `max_features='auto'` has been deprecated in 1.1 and will be removed in 1.3. To keep the past behaviour, explicitly set `max_features='sqrt'` or remove this parameter as it is also the default value for RandomForestClassifiers and ExtraTreesClassifiers.\n",
      "  warn(\n",
      "/opt/conda/lib/python3.10/site-packages/sklearn/ensemble/_forest.py:424: FutureWarning: `max_features='auto'` has been deprecated in 1.1 and will be removed in 1.3. To keep the past behaviour, explicitly set `max_features='sqrt'` or remove this parameter as it is also the default value for RandomForestClassifiers and ExtraTreesClassifiers.\n",
      "  warn(\n",
      "/opt/conda/lib/python3.10/site-packages/sklearn/ensemble/_forest.py:424: FutureWarning: `max_features='auto'` has been deprecated in 1.1 and will be removed in 1.3. To keep the past behaviour, explicitly set `max_features='sqrt'` or remove this parameter as it is also the default value for RandomForestClassifiers and ExtraTreesClassifiers.\n",
      "  warn(\n",
      "/opt/conda/lib/python3.10/site-packages/sklearn/ensemble/_forest.py:424: FutureWarning: `max_features='auto'` has been deprecated in 1.1 and will be removed in 1.3. To keep the past behaviour, explicitly set `max_features='sqrt'` or remove this parameter as it is also the default value for RandomForestClassifiers and ExtraTreesClassifiers.\n",
      "  warn(\n",
      "/opt/conda/lib/python3.10/site-packages/sklearn/ensemble/_forest.py:424: FutureWarning: `max_features='auto'` has been deprecated in 1.1 and will be removed in 1.3. To keep the past behaviour, explicitly set `max_features='sqrt'` or remove this parameter as it is also the default value for RandomForestClassifiers and ExtraTreesClassifiers.\n",
      "  warn(\n",
      "/opt/conda/lib/python3.10/site-packages/sklearn/ensemble/_forest.py:424: FutureWarning: `max_features='auto'` has been deprecated in 1.1 and will be removed in 1.3. To keep the past behaviour, explicitly set `max_features='sqrt'` or remove this parameter as it is also the default value for RandomForestClassifiers and ExtraTreesClassifiers.\n",
      "  warn(\n"
     ]
    },
    {
     "name": "stdout",
     "output_type": "stream",
     "text": [
      "Best Hyperparameters for Random Forest: {'n_estimators': 200, 'min_samples_split': 2, 'min_samples_leaf': 4, 'max_features': 'log2', 'max_depth': None, 'bootstrap': True}\n",
      "Best Cross-validation F1 Macro Score: 0.7661\n",
      "Accuracy: 0.8578\n",
      "Confusion Matrix:\n",
      "[[5799  846]\n",
      " [ 269  929]]\n",
      "Classification Report:\n",
      "              precision    recall  f1-score   support\n",
      "\n",
      "           0       0.96      0.87      0.91      6645\n",
      "           1       0.52      0.78      0.62      1198\n",
      "\n",
      "    accuracy                           0.86      7843\n",
      "   macro avg       0.74      0.82      0.77      7843\n",
      "weighted avg       0.89      0.86      0.87      7843\n",
      "\n",
      "Macro-average F1 score: 0.7686\n"
     ]
    }
   ],
   "source": [
    "model_rf = RandomForestClassifier(class_weight='balanced',random_state=42)\n",
    "\n",
    "\n",
    "param_dist_rf = {\n",
    "    'n_estimators': [100, 200, 300, 400, 500],\n",
    "    'max_depth': [None, 10, 20, 30, 40, 50],\n",
    "    'min_samples_split': [2, 5, 10],\n",
    "    'min_samples_leaf': [1, 2, 4],\n",
    "    'max_features': ['auto', 'sqrt', 'log2'],\n",
    "    'bootstrap': [True, False]\n",
    "}\n",
    "\n",
    "\n",
    "random_search_rf = RandomizedSearchCV(\n",
    "    estimator=model_rf,\n",
    "    param_distributions=param_dist_rf,\n",
    "    n_iter=10,  # Number of random parameter\n",
    "    cv=5,  \n",
    "    verbose=1,\n",
    "    random_state=42,\n",
    "    n_jobs=-1,  \n",
    "    scoring='f1_macro'  \n",
    ")\n",
    "\n",
    "\n",
    "random_search_rf.fit(X_train, y_train)\n",
    "\n",
    "\n",
    "best_params_rf = random_search_rf.best_params_\n",
    "best_score_rf = random_search_rf.best_score_\n",
    "\n",
    "print(f\"Best Hyperparameters for Random Forest: {best_params_rf}\")\n",
    "print(f\"Best Cross-validation F1 Macro Score: {best_score_rf:.4f}\")\n",
    "\n",
    "\n",
    "best_model_rf = random_search_rf.best_estimator_\n",
    "\n",
    "\n",
    "y_rf_pred_tuned = best_model_rf.predict(X_test)\n",
    "\n",
    "\n",
    "accuracy_rf_tuned = accuracy_score(y_test, y_rf_pred_tuned)\n",
    "print(f'Accuracy: {accuracy_rf_tuned:.4f}')\n",
    "\n",
    "\n",
    "print('Confusion Matrix:')\n",
    "print(confusion_matrix(y_test, y_rf_pred_tuned))\n",
    "\n",
    "\n",
    "print('Classification Report:')\n",
    "print(classification_report(y_test, y_rf_pred_tuned))\n",
    "\n",
    "\n",
    "f1_macro_rf_tuned = f1_score(y_test, y_rf_pred_tuned, average='macro')\n",
    "print(f'Macro-average F1 score: {f1_macro_rf_tuned:.4f}')"
   ]
  },
  {
   "cell_type": "markdown",
   "id": "cc1d7d4b",
   "metadata": {
    "papermill": {
     "duration": 0.025347,
     "end_time": "2024-12-08T16:17:46.261182",
     "exception": false,
     "start_time": "2024-12-08T16:17:46.235835",
     "status": "completed"
    },
    "tags": []
   },
   "source": [
    "Best Hyperparameters for Random Forest: {'n_estimators': 200, 'min_samples_split': 2, 'min_samples_leaf': 4, 'max_features': 'log2', 'max_depth': None, 'bootstrap': True}\r\n",
    "Best Cross-validation F1 Macro Score: 0.7661\r\n",
    "Accuracy: 0.8578\r\n",
    "Confusion Matrix:\r\n",
    "[[5799  846]\r\n",
    " [ 269  929]]\r\n",
    "Classification Report:\r\n",
    "              precision    recall  f1-score   support\r\n",
    "\r\n",
    "           0       0.96      0.87      0.91      6645\r\n",
    "           1       0.52      0.78      0.62      1198\r\n",
    "\r\n",
    "    accuracy                           0.86      7843\r\n",
    "   macro avg       0.74      0.82      0.77      7843\r\n",
    "weighted avg       0.89      0.86      0.87      7843\r\n",
    "\r\n",
    "Macro-average F1 score: 0.7686"
   ]
  },
  {
   "cell_type": "markdown",
   "id": "92da6021",
   "metadata": {
    "papermill": {
     "duration": 0.025547,
     "end_time": "2024-12-08T16:17:46.312584",
     "exception": false,
     "start_time": "2024-12-08T16:17:46.287037",
     "status": "completed"
    },
    "tags": []
   },
   "source": [
    "* The Random Forest Classifier after tuning shows strong performance with good accuracy (85.78%) and a good balance between precision and recall. The macro F1 score (0.7686) indicates a fair overall performance across both classes, with some room for improvement in the precision for the minority class (class 1).\n",
    "* Class 0 (negative class):\n",
    "    Precision: 0.96, Recall: 0.87, F1-Score: 0.91\n",
    "    Class 0 is classified very well with high precision and recall.\n",
    "* Class 1 (positive class):\n",
    "    Precision: 0.52, Recall: 0.78, F1-Score: 0.62\n",
    "    Class 1 has a lower precision, but the recall is relatively good. This suggests the model is able to correctly identify a significant number of positive cases, but there are a number of false positives."
   ]
  },
  {
   "cell_type": "markdown",
   "id": "c9801b98",
   "metadata": {
    "papermill": {
     "duration": 0.024998,
     "end_time": "2024-12-08T16:17:46.363071",
     "exception": false,
     "start_time": "2024-12-08T16:17:46.338073",
     "status": "completed"
    },
    "tags": []
   },
   "source": [
    "this model may be overfitting."
   ]
  },
  {
   "cell_type": "code",
   "execution_count": 67,
   "id": "53c7d1a8",
   "metadata": {
    "execution": {
     "iopub.execute_input": "2024-12-08T16:17:46.415436Z",
     "iopub.status.busy": "2024-12-08T16:17:46.414574Z",
     "iopub.status.idle": "2024-12-08T16:17:46.805497Z",
     "shell.execute_reply": "2024-12-08T16:17:46.804754Z"
    },
    "papermill": {
     "duration": 0.419234,
     "end_time": "2024-12-08T16:17:46.807746",
     "exception": false,
     "start_time": "2024-12-08T16:17:46.388512",
     "status": "completed"
    },
    "tags": []
   },
   "outputs": [],
   "source": [
    "pred = best_model_rf.predict(test_pre)\n",
    "original_predictions = label_encoder.inverse_transform(pred)\n",
    "\n",
    "submission = pd.DataFrame({\"id\":range(0,test_pre.shape[0]),'target':original_predictions})\n",
    "submission.to_csv(\"submission.csv\",index = False)"
   ]
  },
  {
   "cell_type": "code",
   "execution_count": 68,
   "id": "9f80ab24",
   "metadata": {
    "execution": {
     "iopub.execute_input": "2024-12-08T16:17:46.861803Z",
     "iopub.status.busy": "2024-12-08T16:17:46.861423Z",
     "iopub.status.idle": "2024-12-08T16:17:47.293128Z",
     "shell.execute_reply": "2024-12-08T16:17:47.292050Z"
    },
    "papermill": {
     "duration": 0.461064,
     "end_time": "2024-12-08T16:17:47.295500",
     "exception": false,
     "start_time": "2024-12-08T16:17:46.834436",
     "status": "completed"
    },
    "tags": []
   },
   "outputs": [
    {
     "name": "stdout",
     "output_type": "stream",
     "text": [
      "Default XGBoost Classifier:\n",
      "Accuracy: 0.8692\n",
      "Macro F1 Score: 0.7211\n",
      "Confusion Matrix:\n",
      "[[6266  379]\n",
      " [ 647  551]]\n",
      "Classification Report:\n",
      "              precision    recall  f1-score   support\n",
      "\n",
      "           0       0.91      0.94      0.92      6645\n",
      "           1       0.59      0.46      0.52      1198\n",
      "\n",
      "    accuracy                           0.87      7843\n",
      "   macro avg       0.75      0.70      0.72      7843\n",
      "weighted avg       0.86      0.87      0.86      7843\n",
      "\n"
     ]
    }
   ],
   "source": [
    "#XGBoost Classifier\n",
    "\n",
    "xgb_default = XGBClassifier(use_label_encoder=False, eval_metric='logloss', random_state=42)\n",
    "xgb_default.fit(X_train, y_train)\n",
    "\n",
    "\n",
    "y_pred_xgb_default = xgb_default.predict(X_test)\n",
    "\n",
    "# Evaluation\n",
    "accuracy_xgb_default = accuracy_score(y_test, y_pred_xgb_default)\n",
    "f1_macro_xgb_default = f1_score(y_test, y_pred_xgb_default, average='macro')\n",
    "conf_matrix_xgb_default = confusion_matrix(y_test, y_pred_xgb_default)\n",
    "class_report_xgb_default = classification_report(y_test, y_pred_xgb_default)\n",
    "\n",
    "print(\"Default XGBoost Classifier:\")\n",
    "print(f\"Accuracy: {accuracy_xgb_default:.4f}\")\n",
    "print(f\"Macro F1 Score: {f1_macro_xgb_default:.4f}\")\n",
    "print(\"Confusion Matrix:\")\n",
    "print(conf_matrix_xgb_default)\n",
    "print(\"Classification Report:\")\n",
    "print(class_report_xgb_default)"
   ]
  },
  {
   "cell_type": "markdown",
   "id": "0a604921",
   "metadata": {
    "papermill": {
     "duration": 0.025351,
     "end_time": "2024-12-08T16:17:47.346989",
     "exception": false,
     "start_time": "2024-12-08T16:17:47.321638",
     "status": "completed"
    },
    "tags": []
   },
   "source": [
    "* Precision for class 0 is high (0.91), meaning when the model predicts class 0, it's often correct.\n",
    "* Recall for class 1 is relatively low (0.46), indicating that the model is missing many instances of class 1.\n",
    "* Macro F1 Score: 0.7211  means the model performs reasonably well across both classes"
   ]
  },
  {
   "cell_type": "code",
   "execution_count": 69,
   "id": "e9914cda",
   "metadata": {
    "execution": {
     "iopub.execute_input": "2024-12-08T16:17:47.399448Z",
     "iopub.status.busy": "2024-12-08T16:17:47.399081Z",
     "iopub.status.idle": "2024-12-08T16:17:47.403903Z",
     "shell.execute_reply": "2024-12-08T16:17:47.403040Z"
    },
    "papermill": {
     "duration": 0.033197,
     "end_time": "2024-12-08T16:17:47.405674",
     "exception": false,
     "start_time": "2024-12-08T16:17:47.372477",
     "status": "completed"
    },
    "tags": []
   },
   "outputs": [],
   "source": [
    "# #XGBoost Classifier tuning\n",
    "# param_dist_xgb = {\n",
    "#     'n_estimators': [100, 200, 300],  # Number of trees\n",
    "#     'learning_rate': [0.01, 0.05, 0.1, 0.2],  # Step size shrinkage\n",
    "#     'max_depth': [3, 5, 7, 10],  # Maximum tree depth\n",
    "#     'min_child_weight': [1, 3, 5],  # Minimum sum of instance weight\n",
    "#     'gamma': [0, 0.1, 0.3, 0.5],  # Minimum loss reduction\n",
    "#     'subsample': [0.6, 0.8, 1.0],  # Subsampling ratio\n",
    "#     'colsample_bytree': [0.6, 0.8, 1.0],  # Fraction of features for tree\n",
    "#     'scale_pos_weight': [1, 5, 10],  # Balancing positive and negative classes\n",
    "# }\n",
    "\n",
    "\n",
    "# xgb = XGBClassifier(use_label_encoder=False, eval_metric='logloss', random_state=42)\n",
    "\n",
    "# random_search_xgb = RandomizedSearchCV(\n",
    "#     estimator=xgb,\n",
    "#     param_distributions=param_grid_xgb,\n",
    "#     n_iter=20,\n",
    "#     cv=5,\n",
    "#     scoring='f1_macro',\n",
    "#     verbose=2,\n",
    "#     random_state=42,\n",
    "#     n_jobs=-1\n",
    "# )\n",
    "\n",
    "\n",
    "# random_search_xgb.fit(X_train, y_train)\n",
    "\n",
    "# best_params_xgb = random_search_xgb.best_params_\n",
    "# best_score_xgb = random_search_xgb.best_score_\n",
    "\n",
    "# print(f\"Best Hyperparameters for XGBoost: {best_params_xgb}\")\n",
    "# print(f\"Best Cross-validation Macro F1 Score: {best_score_xgb:.4f}\")"
   ]
  },
  {
   "cell_type": "code",
   "execution_count": 70,
   "id": "2ca1baf4",
   "metadata": {
    "execution": {
     "iopub.execute_input": "2024-12-08T16:17:47.457385Z",
     "iopub.status.busy": "2024-12-08T16:17:47.457010Z",
     "iopub.status.idle": "2024-12-08T16:17:47.461521Z",
     "shell.execute_reply": "2024-12-08T16:17:47.460791Z"
    },
    "papermill": {
     "duration": 0.032388,
     "end_time": "2024-12-08T16:17:47.463315",
     "exception": false,
     "start_time": "2024-12-08T16:17:47.430927",
     "status": "completed"
    },
    "tags": []
   },
   "outputs": [],
   "source": [
    "\n",
    "# best_xgb_model = random_search_xgb.best_estimator_\n",
    "# y_pred_xgb_tuned = best_xgb_model.predict(X_test)\n",
    "\n",
    "\n",
    "# accuracy_xgb_tuned = accuracy_score(y_test, y_pred_xgb_tuned)\n",
    "# f1_macro_xgb_tuned = f1_score(y_test, y_pred_xgb_tuned, average='macro')\n",
    "# conf_matrix_xgb_tuned = confusion_matrix(y_test, y_pred_xgb_tuned)\n",
    "# class_report_xgb_tuned = classification_report(y_test, y_pred_xgb_tuned)\n",
    "\n",
    "# print(\"Tuned XGBoost Classifier:\")\n",
    "# print(f\"Accuracy: {accuracy_xgb_tuned:.4f}\")\n",
    "# print(f\"Macro F1 Score: {f1_macro_xgb_tuned:.4f}\")\n",
    "# print(\"Confusion Matrix:\")\n",
    "# print(conf_matrix_xgb_tuned)\n",
    "# print(\"Classification Report:\")\n",
    "# print(class_report_xgb_tuned)\n"
   ]
  },
  {
   "cell_type": "markdown",
   "id": "9dfb1582",
   "metadata": {
    "papermill": {
     "duration": 0.025951,
     "end_time": "2024-12-08T16:17:47.521422",
     "exception": false,
     "start_time": "2024-12-08T16:17:47.495471",
     "status": "completed"
    },
    "tags": []
   },
   "source": [
    "Tuned XGBoost Classifier:\r\n",
    "Accuracy: 0.8674\r\n",
    "Macro F1 Score: 0.7146"
   ]
  },
  {
   "cell_type": "code",
   "execution_count": 71,
   "id": "75644ef7",
   "metadata": {
    "execution": {
     "iopub.execute_input": "2024-12-08T16:17:47.573694Z",
     "iopub.status.busy": "2024-12-08T16:17:47.573313Z",
     "iopub.status.idle": "2024-12-08T16:17:47.605440Z",
     "shell.execute_reply": "2024-12-08T16:17:47.604656Z"
    },
    "papermill": {
     "duration": 0.061206,
     "end_time": "2024-12-08T16:17:47.607955",
     "exception": false,
     "start_time": "2024-12-08T16:17:47.546749",
     "status": "completed"
    },
    "tags": []
   },
   "outputs": [],
   "source": [
    "pred = xgb_default.predict(test_pre)\n",
    "original_predictions = label_encoder.inverse_transform(pred)\n",
    "\n",
    "submission = pd.DataFrame({\"id\":range(0,test_pre.shape[0]),'target':original_predictions})\n",
    "submission.to_csv(\"submission.csv\",index = False)"
   ]
  },
  {
   "cell_type": "code",
   "execution_count": 72,
   "id": "aa5b7658",
   "metadata": {
    "execution": {
     "iopub.execute_input": "2024-12-08T16:17:47.671493Z",
     "iopub.status.busy": "2024-12-08T16:17:47.670993Z",
     "iopub.status.idle": "2024-12-08T16:17:48.024439Z",
     "shell.execute_reply": "2024-12-08T16:17:48.023306Z"
    },
    "papermill": {
     "duration": 0.391667,
     "end_time": "2024-12-08T16:17:48.026481",
     "exception": false,
     "start_time": "2024-12-08T16:17:47.634814",
     "status": "completed"
    },
    "tags": []
   },
   "outputs": [
    {
     "name": "stdout",
     "output_type": "stream",
     "text": [
      "Accuracy: 0.8334\n",
      "Confusion Matrix:\n",
      "[[6019  626]\n",
      " [ 681  517]]\n",
      "Classification Report:\n",
      "              precision    recall  f1-score   support\n",
      "\n",
      "           0       0.90      0.91      0.90      6645\n",
      "           1       0.45      0.43      0.44      1198\n",
      "\n",
      "    accuracy                           0.83      7843\n",
      "   macro avg       0.68      0.67      0.67      7843\n",
      "weighted avg       0.83      0.83      0.83      7843\n",
      "\n",
      "Macro-average F1 score: 0.6719\n"
     ]
    }
   ],
   "source": [
    "model_dt = DecisionTreeClassifier(class_weight='balanced',random_state=42)\n",
    "\n",
    "model_dt.fit(X_train, y_train)\n",
    "\n",
    "y_dt_pred = model_dt.predict(X_test)\n",
    "\n",
    "\n",
    "accuracy_dt = accuracy_score(y_test, y_dt_pred)\n",
    "f1_macro_dt = f1_score(y_test, y_dt_pred, average='macro')\n",
    "\n",
    "\n",
    "print(f'Accuracy: {accuracy_dt:.4f}')\n",
    "print('Confusion Matrix:')\n",
    "print(confusion_matrix(y_test, y_dt_pred))\n",
    "print('Classification Report:')\n",
    "print(classification_report(y_test, y_dt_pred))\n",
    "print(f'Macro-average F1 score: {f1_macro_dt:.4f}')"
   ]
  },
  {
   "cell_type": "markdown",
   "id": "217a8134",
   "metadata": {
    "papermill": {
     "duration": 0.02542,
     "end_time": "2024-12-08T16:17:48.078694",
     "exception": false,
     "start_time": "2024-12-08T16:17:48.053274",
     "status": "completed"
    },
    "tags": []
   },
   "source": []
  },
  {
   "cell_type": "code",
   "execution_count": 73,
   "id": "2a1f3cdc",
   "metadata": {
    "execution": {
     "iopub.execute_input": "2024-12-08T16:17:48.132704Z",
     "iopub.status.busy": "2024-12-08T16:17:48.131818Z",
     "iopub.status.idle": "2024-12-08T16:19:52.799392Z",
     "shell.execute_reply": "2024-12-08T16:19:52.798308Z"
    },
    "papermill": {
     "duration": 124.723137,
     "end_time": "2024-12-08T16:19:52.827815",
     "exception": false,
     "start_time": "2024-12-08T16:17:48.104678",
     "status": "completed"
    },
    "tags": []
   },
   "outputs": [
    {
     "name": "stdout",
     "output_type": "stream",
     "text": [
      "Fitting 5 folds for each of 540 candidates, totalling 2700 fits\n",
      "Best Hyperparameters for Decision Tree: {'criterion': 'entropy', 'max_depth': 10, 'max_features': None, 'min_samples_leaf': 2, 'min_samples_split': 2}\n",
      "Best Cross-validation F1 Macro Score: 0.7314\n",
      "Accuracy: 0.8284\n",
      "Confusion Matrix:\n",
      "[[5507 1138]\n",
      " [ 208  990]]\n",
      "Classification Report:\n",
      "              precision    recall  f1-score   support\n",
      "\n",
      "           0       0.96      0.83      0.89      6645\n",
      "           1       0.47      0.83      0.60      1198\n",
      "\n",
      "    accuracy                           0.83      7843\n",
      "   macro avg       0.71      0.83      0.74      7843\n",
      "weighted avg       0.89      0.83      0.85      7843\n",
      "\n",
      "Macro-average F1 score: 0.7432\n"
     ]
    }
   ],
   "source": [
    "param_grid_dt = {\n",
    "    'criterion': ['gini', 'entropy', 'log_loss'],  # Splitting criteria\n",
    "    'max_depth': [None, 10, 20, 30, 50],  # Maximum depth of the tree\n",
    "    'min_samples_split': [2, 5, 10],  # Minimum samples required to split a node\n",
    "    'min_samples_leaf': [1, 2, 5, 10],  # Minimum samples required to be at a leaf node\n",
    "    'max_features': [None, 'sqrt', 'log2'],  # Features to consider when looking for the best split\n",
    "}\n",
    "\n",
    "\n",
    "grid_search_dt = GridSearchCV(\n",
    "    estimator=DecisionTreeClassifier(class_weight='balanced',random_state=42),\n",
    "    param_grid=param_grid_dt,\n",
    "    scoring='f1_macro',  # Using macro F1 score as evaluation metric\n",
    "    cv=5,  # Cross-validation splitting strategy\n",
    "    verbose=1,\n",
    "    n_jobs=-1  # Use all available CPU cores\n",
    ")\n",
    "\n",
    "\n",
    "grid_search_dt.fit(X_train, y_train)\n",
    "\n",
    "best_params_dt = grid_search_dt.best_params_\n",
    "best_score_dt = grid_search_dt.best_score_\n",
    "\n",
    "print(f\"Best Hyperparameters for Decision Tree: {best_params_dt}\")\n",
    "print(f\"Best Cross-validation F1 Macro Score: {best_score_dt:.4f}\")\n",
    "\n",
    "\n",
    "best_model_dt = grid_search_dt.best_estimator_\n",
    "y_dt_pred_tuned = best_model_dt.predict(X_test)\n",
    "\n",
    "\n",
    "accuracy_dt_tuned = accuracy_score(y_test, y_dt_pred_tuned)\n",
    "f1_macro_dt_tuned = f1_score(y_test, y_dt_pred_tuned, average='macro')\n",
    "\n",
    "print(f'Accuracy: {accuracy_dt_tuned:.4f}')\n",
    "print('Confusion Matrix:')\n",
    "print(confusion_matrix(y_test, y_dt_pred_tuned))\n",
    "print('Classification Report:')\n",
    "print(classification_report(y_test, y_dt_pred_tuned))\n",
    "print(f'Macro-average F1 score: {f1_macro_dt_tuned:.4f}')"
   ]
  },
  {
   "cell_type": "markdown",
   "id": "fb5d71de",
   "metadata": {
    "papermill": {
     "duration": 0.025813,
     "end_time": "2024-12-08T16:19:52.880525",
     "exception": false,
     "start_time": "2024-12-08T16:19:52.854712",
     "status": "completed"
    },
    "tags": []
   },
   "source": [
    "* macro-average F1 score of 0.7432, reflecting an improvement over the baseline model's score of 0.6719.\n",
    "* Precision and Recall: For Class 0 (Negative class), the model showed high precision (0.96) but lower recall (0.83), meaning it was very accurate at predicting class 0 but missed some actual class 0 instances.\n",
    "* For Class 1 (Positive class), the model's recall was 0.83, but precision was lower (0.47), indicating that while the model correctly identified most of the positive instances, it also had a significant number of false positives."
   ]
  },
  {
   "cell_type": "code",
   "execution_count": 74,
   "id": "f50a79c7",
   "metadata": {
    "execution": {
     "iopub.execute_input": "2024-12-08T16:19:52.934344Z",
     "iopub.status.busy": "2024-12-08T16:19:52.933993Z",
     "iopub.status.idle": "2024-12-08T16:19:52.951270Z",
     "shell.execute_reply": "2024-12-08T16:19:52.950403Z"
    },
    "papermill": {
     "duration": 0.046431,
     "end_time": "2024-12-08T16:19:52.953424",
     "exception": false,
     "start_time": "2024-12-08T16:19:52.906993",
     "status": "completed"
    },
    "tags": []
   },
   "outputs": [],
   "source": [
    "pred = best_model_dt.predict(test_pre)\n",
    "original_predictions = label_encoder.inverse_transform(pred)\n",
    "\n",
    "submission = pd.DataFrame({\"id\":range(0,test_pre.shape[0]),'target':original_predictions})\n",
    "submission.to_csv(\"submission.csv\",index = False)"
   ]
  },
  {
   "cell_type": "code",
   "execution_count": 75,
   "id": "fc9bc202",
   "metadata": {
    "execution": {
     "iopub.execute_input": "2024-12-08T16:19:53.009750Z",
     "iopub.status.busy": "2024-12-08T16:19:53.009371Z",
     "iopub.status.idle": "2024-12-08T16:19:58.751357Z",
     "shell.execute_reply": "2024-12-08T16:19:58.750345Z"
    },
    "papermill": {
     "duration": 5.772383,
     "end_time": "2024-12-08T16:19:58.753532",
     "exception": false,
     "start_time": "2024-12-08T16:19:52.981149",
     "status": "completed"
    },
    "tags": []
   },
   "outputs": [
    {
     "name": "stdout",
     "output_type": "stream",
     "text": [
      "Accuracy: 0.8638\n",
      "Confusion Matrix:\n",
      "[[6283  362]\n",
      " [ 706  492]]\n",
      "Classification Report:\n",
      "              precision    recall  f1-score   support\n",
      "\n",
      "           0       0.90      0.95      0.92      6645\n",
      "           1       0.58      0.41      0.48      1198\n",
      "\n",
      "    accuracy                           0.86      7843\n",
      "   macro avg       0.74      0.68      0.70      7843\n",
      "weighted avg       0.85      0.86      0.85      7843\n",
      "\n",
      "Macro-average F1 score: 0.7006\n"
     ]
    }
   ],
   "source": [
    "gb_model = GradientBoostingClassifier(random_state=42)\n",
    "\n",
    "gb_model.fit(X_train, y_train)\n",
    "\n",
    "y_gb_pred = gb_model.predict(X_test)\n",
    "\n",
    "accuracy_gb = accuracy_score(y_test, y_gb_pred)\n",
    "f1_macro_gb = f1_score(y_test, y_gb_pred, average='macro')\n",
    "\n",
    "print(f\"Accuracy: {accuracy_gb:.4f}\")\n",
    "print(\"Confusion Matrix:\")\n",
    "print(confusion_matrix(y_test, y_gb_pred))\n",
    "print(\"Classification Report:\")\n",
    "print(classification_report(y_test, y_gb_pred))\n",
    "print(f\"Macro-average F1 score: {f1_macro_gb:.4f}\")"
   ]
  },
  {
   "cell_type": "markdown",
   "id": "94ef07a1",
   "metadata": {
    "papermill": {
     "duration": 0.025822,
     "end_time": "2024-12-08T16:19:58.806245",
     "exception": false,
     "start_time": "2024-12-08T16:19:58.780423",
     "status": "completed"
    },
    "tags": []
   },
   "source": [
    " **Class 0 (Negative Class)**:\n",
    "  - **Precision**: 0.90 (The model is very accurate when predicting class 0, with only 10% of errors in its class 0 predictions).\n",
    "  - **Recall**: 0.95 (95% of actual class 0 instances are correctly identified).\n",
    "  - **F1-Score**: 0.92 (Good balance between precision and recall).\n",
    "\n",
    "- **Class 1 (Positive Class)**:\n",
    "  - **Precision**: 0.58 (Class 1 predictions are less accurate, with 42% of class 1 predictions being false positives).\n",
    "  - **Recall**: 0.41 (The model only correctly identifies 41% of actual class 1 instances).\n",
    "  - **F1-Score**: 0.48 (The model's ability to balance precision and recall for class 1 is weaker).\n",
    "\n",
    "- **Macro-average F1 Score**: 0.70 (This average F1 score indicates the model's overall performance across both classes. It's reasonable but can be improved, especially for class 1)."
   ]
  },
  {
   "cell_type": "code",
   "execution_count": 76,
   "id": "f29b5bd0",
   "metadata": {
    "execution": {
     "iopub.execute_input": "2024-12-08T16:19:58.861260Z",
     "iopub.status.busy": "2024-12-08T16:19:58.860302Z",
     "iopub.status.idle": "2024-12-08T16:19:58.896419Z",
     "shell.execute_reply": "2024-12-08T16:19:58.895267Z"
    },
    "papermill": {
     "duration": 0.06662,
     "end_time": "2024-12-08T16:19:58.898870",
     "exception": false,
     "start_time": "2024-12-08T16:19:58.832250",
     "status": "completed"
    },
    "tags": []
   },
   "outputs": [],
   "source": [
    "pred = gb_model.predict(test_pre)\n",
    "original_predictions = label_encoder.inverse_transform(pred)\n",
    "\n",
    "submission = pd.DataFrame({\"id\":range(0,test_pre.shape[0]),'target':original_predictions})\n",
    "submission.to_csv(\"submission.csv\",index = False)"
   ]
  },
  {
   "cell_type": "code",
   "execution_count": 77,
   "id": "ab367f8c",
   "metadata": {
    "execution": {
     "iopub.execute_input": "2024-12-08T16:19:58.953421Z",
     "iopub.status.busy": "2024-12-08T16:19:58.952565Z",
     "iopub.status.idle": "2024-12-08T16:24:00.728564Z",
     "shell.execute_reply": "2024-12-08T16:24:00.727533Z"
    },
    "papermill": {
     "duration": 241.829917,
     "end_time": "2024-12-08T16:24:00.755613",
     "exception": false,
     "start_time": "2024-12-08T16:19:58.925696",
     "status": "completed"
    },
    "tags": []
   },
   "outputs": [
    {
     "name": "stdout",
     "output_type": "stream",
     "text": [
      "Fitting 5 folds for each of 20 candidates, totalling 100 fits\n",
      "Best Hyperparameters for Gradient Boosting (Refined): {'subsample': 0.9, 'n_estimators': 150, 'min_samples_split': 2, 'min_samples_leaf': 1, 'max_depth': 5, 'learning_rate': 0.1}\n",
      "Best Cross-validation F1 Macro Score: 0.7262\n",
      "Accuracy: 0.8696\n",
      "Confusion Matrix:\n",
      "[[6267  378]\n",
      " [ 645  553]]\n",
      "Classification Report:\n",
      "              precision    recall  f1-score   support\n",
      "\n",
      "           0       0.91      0.94      0.92      6645\n",
      "           1       0.59      0.46      0.52      1198\n",
      "\n",
      "    accuracy                           0.87      7843\n",
      "   macro avg       0.75      0.70      0.72      7843\n",
      "weighted avg       0.86      0.87      0.86      7843\n",
      "\n",
      "Macro-average F1 score: 0.7220\n"
     ]
    }
   ],
   "source": [
    "param_dist_gb_refined = {\n",
    "    'n_estimators': [50, 100, 150, 200],  # Fewer boosting stages for quicker results\n",
    "    'learning_rate': [0.05, 0.1, 0.15, 0.2],  # Focusing on a smaller range\n",
    "    'max_depth': [2, 3, 4, 5],  # Limiting tree depth to prevent overfitting\n",
    "    'min_samples_split': [2, 5, 10],  # Minimum samples to split a node\n",
    "    'min_samples_leaf': [1, 2, 4],  # Minimum samples in a leaf\n",
    "    'subsample': [0.7, 0.8, 0.9],  # Fraction of data to use for each estimator\n",
    "}\n",
    "\n",
    "# Initialize RandomizedSearchCV for Gradient Boosting\n",
    "random_search_gb = RandomizedSearchCV(\n",
    "    estimator=GradientBoostingClassifier(random_state=42),\n",
    "    param_distributions=param_dist_gb_refined,\n",
    "    n_iter=20,  # Number of parameter combinations to try\n",
    "    scoring='f1_macro',  # Optimize for Macro-average F1 score\n",
    "    cv=5,  # 5-fold cross-validation\n",
    "    verbose=1,\n",
    "    random_state=42,\n",
    "    n_jobs=-1  # Use all available  cores\n",
    ")\n",
    "\n",
    "\n",
    "random_search_gb.fit(X_train, y_train)\n",
    "\n",
    "\n",
    "best_params_gb = random_search_gb.best_params_\n",
    "best_score_gb = random_search_gb.best_score_\n",
    "\n",
    "print(f\"Best Hyperparameters for Gradient Boosting (Refined): {best_params_gb}\")\n",
    "print(f\"Best Cross-validation F1 Macro Score: {best_score_gb:.4f}\")\n",
    "\n",
    "\n",
    "best_model_gb = random_search_gb.best_estimator_\n",
    "y_gb_pred_tuned = best_model_gb.predict(X_test)\n",
    "\n",
    "\n",
    "accuracy_gb_tuned = accuracy_score(y_test, y_gb_pred_tuned)\n",
    "f1_macro_gb_tuned = f1_score(y_test, y_gb_pred_tuned, average='macro')\n",
    "\n",
    "print(f\"Accuracy: {accuracy_gb_tuned:.4f}\")\n",
    "print(\"Confusion Matrix:\")\n",
    "print(confusion_matrix(y_test, y_gb_pred_tuned))\n",
    "print(\"Classification Report:\")\n",
    "print(classification_report(y_test, y_gb_pred_tuned))\n",
    "print(f\"Macro-average F1 score: {f1_macro_gb_tuned:.4f}\")"
   ]
  },
  {
   "cell_type": "markdown",
   "id": "f680f8a9",
   "metadata": {
    "papermill": {
     "duration": 0.024196,
     "end_time": "2024-12-08T16:24:00.805390",
     "exception": false,
     "start_time": "2024-12-08T16:24:00.781194",
     "status": "completed"
    },
    "tags": []
   },
   "source": [
    "* The Gradient Boosting model with the tuned hyperparameters performs well with an accuracy of 86.96% and a macro F1 score of 0.72.\n",
    "* It performs well on class 0 (negative class) but struggles with class 1 (positive class), as seen from the lower recall and F1 score for class 1."
   ]
  },
  {
   "cell_type": "code",
   "execution_count": 78,
   "id": "d0040cf8",
   "metadata": {
    "execution": {
     "iopub.execute_input": "2024-12-08T16:24:00.857409Z",
     "iopub.status.busy": "2024-12-08T16:24:00.856468Z",
     "iopub.status.idle": "2024-12-08T16:24:00.906693Z",
     "shell.execute_reply": "2024-12-08T16:24:00.905947Z"
    },
    "papermill": {
     "duration": 0.078726,
     "end_time": "2024-12-08T16:24:00.908789",
     "exception": false,
     "start_time": "2024-12-08T16:24:00.830063",
     "status": "completed"
    },
    "tags": []
   },
   "outputs": [],
   "source": [
    "pred = best_model_gb.predict(test_pre)\n",
    "original_predictions = label_encoder.inverse_transform(pred)\n",
    "\n",
    "submission = pd.DataFrame({\"id\":range(0,test_pre.shape[0]),'target':original_predictions})\n",
    "submission.to_csv(\"submission.csv\",index = False)"
   ]
  },
  {
   "cell_type": "code",
   "execution_count": 79,
   "id": "f9f8e8c5",
   "metadata": {
    "execution": {
     "iopub.execute_input": "2024-12-08T16:24:00.962297Z",
     "iopub.status.busy": "2024-12-08T16:24:00.961949Z",
     "iopub.status.idle": "2024-12-08T16:24:03.941929Z",
     "shell.execute_reply": "2024-12-08T16:24:03.940767Z"
    },
    "papermill": {
     "duration": 3.009014,
     "end_time": "2024-12-08T16:24:03.943960",
     "exception": false,
     "start_time": "2024-12-08T16:24:00.934946",
     "status": "completed"
    },
    "tags": []
   },
   "outputs": [
    {
     "name": "stderr",
     "output_type": "stream",
     "text": [
      "/opt/conda/lib/python3.10/site-packages/sklearn/ensemble/_base.py:166: FutureWarning: `base_estimator` was renamed to `estimator` in version 1.2 and will be removed in 1.4.\n",
      "  warnings.warn(\n"
     ]
    },
    {
     "name": "stdout",
     "output_type": "stream",
     "text": [
      "AdaBoost Model Accuracy: 0.8560\n",
      "Confusion Matrix:\n",
      "[[6425  220]\n",
      " [ 909  289]]\n",
      "Classification Report:\n",
      "              precision    recall  f1-score   support\n",
      "\n",
      "           0       0.88      0.97      0.92      6645\n",
      "           1       0.57      0.24      0.34      1198\n",
      "\n",
      "    accuracy                           0.86      7843\n",
      "   macro avg       0.72      0.60      0.63      7843\n",
      "weighted avg       0.83      0.86      0.83      7843\n",
      "\n",
      "Macro-average F1 score: 0.6289\n"
     ]
    }
   ],
   "source": [
    "from sklearn.ensemble import AdaBoostClassifier\n",
    "\n",
    "adaboost = AdaBoostClassifier(\n",
    "    base_estimator=DecisionTreeClassifier(max_depth=1),  # Use weak learners\n",
    "    n_estimators=100,  # Number of weak learners\n",
    "    learning_rate=0.1,  # Learning rate shrinks the contribution of each learner\n",
    "    random_state=42\n",
    ")\n",
    "\n",
    "\n",
    "adaboost.fit(X_train, y_train)\n",
    "y_adaboost_pred = adaboost.predict(X_test)\n",
    "\n",
    "\n",
    "accuracy_adaboost = accuracy_score(y_test, y_adaboost_pred)\n",
    "f1_macro_adaboost = f1_score(y_test, y_adaboost_pred, average='macro')\n",
    "\n",
    "print(f\"AdaBoost Model Accuracy: {accuracy_adaboost:.4f}\")\n",
    "print(\"Confusion Matrix:\")\n",
    "print(confusion_matrix(y_test, y_adaboost_pred))\n",
    "print(\"Classification Report:\")\n",
    "print(classification_report(y_test, y_adaboost_pred))\n",
    "print(f\"Macro-average F1 score: {f1_macro_adaboost:.4f}\")\n"
   ]
  }
 ],
 "metadata": {
  "kaggle": {
   "accelerator": "none",
   "dataSources": [
    {
     "databundleVersionId": 9578279,
     "sourceId": 85062,
     "sourceType": "competition"
    }
   ],
   "dockerImageVersionId": 30775,
   "isGpuEnabled": false,
   "isInternetEnabled": true,
   "language": "python",
   "sourceType": "notebook"
  },
  "kernelspec": {
   "display_name": "Python 3",
   "language": "python",
   "name": "python3"
  },
  "language_info": {
   "codemirror_mode": {
    "name": "ipython",
    "version": 3
   },
   "file_extension": ".py",
   "mimetype": "text/x-python",
   "name": "python",
   "nbconvert_exporter": "python",
   "pygments_lexer": "ipython3",
   "version": "3.10.14"
  },
  "papermill": {
   "default_parameters": {},
   "duration": 746.701566,
   "end_time": "2024-12-08T16:24:06.591792",
   "environment_variables": {},
   "exception": null,
   "input_path": "__notebook__.ipynb",
   "output_path": "__notebook__.ipynb",
   "parameters": {},
   "start_time": "2024-12-08T16:11:39.890226",
   "version": "2.6.0"
  }
 },
 "nbformat": 4,
 "nbformat_minor": 5
}
